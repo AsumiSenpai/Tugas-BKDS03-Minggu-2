{
  "cells": [
    {
      "cell_type": "markdown",
      "metadata": {
        "id": "N0Z6Xj8zcVho"
      },
      "source": [
        "# **Prediksi Penyakit Jantung**"
      ]
    },
    {
      "cell_type": "markdown",
      "metadata": {
        "id": "KrGraZf3cgBW"
      },
      "source": [
        "# 1. Pengumpulan Data\n",
        "\n",
        "\n",
        "Data diambil dari https://archive.ics.uci.edu/dataset/45/heart+disease dan hanya menggunakan Hungarian.data\n",
        "\n",
        "\n"
      ]
    },
    {
      "cell_type": "markdown",
      "metadata": {
        "id": "MheWkQSYpxxJ"
      },
      "source": [
        "# 2. Menelaah Data"
      ]
    },
    {
      "cell_type": "markdown",
      "metadata": {
        "id": "K9HxbeG3esvm"
      },
      "source": [
        "Import Library"
      ]
    },
    {
      "cell_type": "code",
      "execution_count": 1,
      "metadata": {
        "id": "Kpt3NatWX2IU"
      },
      "outputs": [],
      "source": [
        "# !pip install ucimlrepo"
      ]
    },
    {
      "cell_type": "code",
      "execution_count": 2,
      "metadata": {
        "id": "30vjMEwDcQor"
      },
      "outputs": [],
      "source": [
        "import numpy as np\n",
        "import pandas as pd\n",
        "import seaborn as sns\n",
        "import matplotlib.pyplot as plt"
      ]
    },
    {
      "cell_type": "markdown",
      "metadata": {
        "id": "MUnN-Vfcfj4f"
      },
      "source": [
        "membaca dataset"
      ]
    },
    {
      "cell_type": "code",
      "execution_count": 3,
      "metadata": {
        "id": "glQtbqHtmP-J"
      },
      "outputs": [],
      "source": [
        "dir = \"hungarian.data\""
      ]
    },
    {
      "cell_type": "markdown",
      "metadata": {},
      "source": [
        "membaca dan menampilkan 10 baris pertama dari file \"hungarian.data\"."
      ]
    },
    {
      "cell_type": "code",
      "execution_count": 4,
      "metadata": {
        "colab": {
          "base_uri": "https://localhost:8080/"
        },
        "id": "xjZjP91Hplbx",
        "outputId": "16a5359f-e314-4a0b-853b-35940fd21396"
      },
      "outputs": [
        {
          "data": {
            "text/plain": [
              "['1254 0 40 1 1 0 0',\n",
              " '-9 2 140 0 289 -9 -9 -9',\n",
              " '0 -9 -9 0 12 16 84 0',\n",
              " '0 0 0 0 150 18 -9 7',\n",
              " '172 86 200 110 140 86 0 0',\n",
              " '0 -9 26 20 -9 -9 -9 -9',\n",
              " '-9 -9 -9 -9 -9 -9 -9 12',\n",
              " '20 84 0 -9 -9 -9 -9 -9',\n",
              " '-9 -9 -9 -9 -9 1 1 1',\n",
              " '1 1 -9. -9. name']"
            ]
          },
          "execution_count": 4,
          "metadata": {},
          "output_type": "execute_result"
        }
      ],
      "source": [
        "with open(dir, encoding='utf-8') as file: #otomatis menutup file setelah selesai membacanya\n",
        "    lines = [line.strip() for line in file] #membaca file per baris dan menghapus spasi di awal dan akhir baris\n",
        "lines[0:10] #mencetak 10 baris pertama dari hasil bacaan"
      ]
    },
    {
      "cell_type": "code",
      "execution_count": 5,
      "metadata": {
        "colab": {
          "base_uri": "https://localhost:8080/"
        },
        "id": "OBOUzVJ0adYF",
        "outputId": "0d396805-0c16-49ff-b09a-8da5df3d3cea"
      },
      "outputs": [
        {
          "data": {
            "text/plain": [
              "2941"
            ]
          },
          "execution_count": 5,
          "metadata": {},
          "output_type": "execute_result"
        }
      ],
      "source": [
        "len(lines)"
      ]
    },
    {
      "cell_type": "code",
      "execution_count": 6,
      "metadata": {
        "id": "j_xE0mDIr9Mb"
      },
      "outputs": [],
      "source": [
        "import itertools\n",
        "data = itertools.takewhile( #mengambil data dari lines yang memenuhi kondisi\n",
        "    lambda x: len(x) == 76,\n",
        "    (' '.join(lines[i: (i + 10)]).split() for i in range(0, len(lines), 10)) #menggabungkan 10 baris menjadi 1 baris\n",
        ")"
      ]
    },
    {
      "cell_type": "code",
      "execution_count": 7,
      "metadata": {
        "colab": {
          "base_uri": "https://localhost:8080/",
          "height": 235
        },
        "id": "z0PRxgVqxlOT",
        "outputId": "6cc99205-4103-4162-eb59-1168033025fa"
      },
      "outputs": [
        {
          "data": {
            "text/html": [
              "<div>\n",
              "<style scoped>\n",
              "    .dataframe tbody tr th:only-of-type {\n",
              "        vertical-align: middle;\n",
              "    }\n",
              "\n",
              "    .dataframe tbody tr th {\n",
              "        vertical-align: top;\n",
              "    }\n",
              "\n",
              "    .dataframe thead th {\n",
              "        text-align: right;\n",
              "    }\n",
              "</style>\n",
              "<table border=\"1\" class=\"dataframe\">\n",
              "  <thead>\n",
              "    <tr style=\"text-align: right;\">\n",
              "      <th></th>\n",
              "      <th>0</th>\n",
              "      <th>1</th>\n",
              "      <th>2</th>\n",
              "      <th>3</th>\n",
              "      <th>4</th>\n",
              "      <th>5</th>\n",
              "      <th>6</th>\n",
              "      <th>7</th>\n",
              "      <th>8</th>\n",
              "      <th>9</th>\n",
              "      <th>...</th>\n",
              "      <th>66</th>\n",
              "      <th>67</th>\n",
              "      <th>68</th>\n",
              "      <th>69</th>\n",
              "      <th>70</th>\n",
              "      <th>71</th>\n",
              "      <th>72</th>\n",
              "      <th>73</th>\n",
              "      <th>74</th>\n",
              "      <th>75</th>\n",
              "    </tr>\n",
              "  </thead>\n",
              "  <tbody>\n",
              "    <tr>\n",
              "      <th>0</th>\n",
              "      <td>1254</td>\n",
              "      <td>0</td>\n",
              "      <td>40</td>\n",
              "      <td>1</td>\n",
              "      <td>1</td>\n",
              "      <td>0</td>\n",
              "      <td>0</td>\n",
              "      <td>-9</td>\n",
              "      <td>2</td>\n",
              "      <td>140</td>\n",
              "      <td>...</td>\n",
              "      <td>-9</td>\n",
              "      <td>-9</td>\n",
              "      <td>1</td>\n",
              "      <td>1</td>\n",
              "      <td>1</td>\n",
              "      <td>1</td>\n",
              "      <td>1</td>\n",
              "      <td>-9.</td>\n",
              "      <td>-9.</td>\n",
              "      <td>name</td>\n",
              "    </tr>\n",
              "    <tr>\n",
              "      <th>1</th>\n",
              "      <td>1255</td>\n",
              "      <td>0</td>\n",
              "      <td>49</td>\n",
              "      <td>0</td>\n",
              "      <td>1</td>\n",
              "      <td>0</td>\n",
              "      <td>0</td>\n",
              "      <td>-9</td>\n",
              "      <td>3</td>\n",
              "      <td>160</td>\n",
              "      <td>...</td>\n",
              "      <td>-9</td>\n",
              "      <td>-9</td>\n",
              "      <td>1</td>\n",
              "      <td>1</td>\n",
              "      <td>1</td>\n",
              "      <td>1</td>\n",
              "      <td>1</td>\n",
              "      <td>-9.</td>\n",
              "      <td>-9.</td>\n",
              "      <td>name</td>\n",
              "    </tr>\n",
              "    <tr>\n",
              "      <th>2</th>\n",
              "      <td>1256</td>\n",
              "      <td>0</td>\n",
              "      <td>37</td>\n",
              "      <td>1</td>\n",
              "      <td>1</td>\n",
              "      <td>0</td>\n",
              "      <td>0</td>\n",
              "      <td>-9</td>\n",
              "      <td>2</td>\n",
              "      <td>130</td>\n",
              "      <td>...</td>\n",
              "      <td>-9</td>\n",
              "      <td>-9</td>\n",
              "      <td>1</td>\n",
              "      <td>1</td>\n",
              "      <td>1</td>\n",
              "      <td>1</td>\n",
              "      <td>1</td>\n",
              "      <td>-9.</td>\n",
              "      <td>-9.</td>\n",
              "      <td>name</td>\n",
              "    </tr>\n",
              "    <tr>\n",
              "      <th>3</th>\n",
              "      <td>1257</td>\n",
              "      <td>0</td>\n",
              "      <td>48</td>\n",
              "      <td>0</td>\n",
              "      <td>1</td>\n",
              "      <td>1</td>\n",
              "      <td>1</td>\n",
              "      <td>-9</td>\n",
              "      <td>4</td>\n",
              "      <td>138</td>\n",
              "      <td>...</td>\n",
              "      <td>2</td>\n",
              "      <td>-9</td>\n",
              "      <td>1</td>\n",
              "      <td>1</td>\n",
              "      <td>1</td>\n",
              "      <td>1</td>\n",
              "      <td>1</td>\n",
              "      <td>-9.</td>\n",
              "      <td>-9.</td>\n",
              "      <td>name</td>\n",
              "    </tr>\n",
              "    <tr>\n",
              "      <th>4</th>\n",
              "      <td>1258</td>\n",
              "      <td>0</td>\n",
              "      <td>54</td>\n",
              "      <td>1</td>\n",
              "      <td>1</td>\n",
              "      <td>0</td>\n",
              "      <td>1</td>\n",
              "      <td>-9</td>\n",
              "      <td>3</td>\n",
              "      <td>150</td>\n",
              "      <td>...</td>\n",
              "      <td>1</td>\n",
              "      <td>-9</td>\n",
              "      <td>1</td>\n",
              "      <td>1</td>\n",
              "      <td>1</td>\n",
              "      <td>1</td>\n",
              "      <td>1</td>\n",
              "      <td>-9.</td>\n",
              "      <td>-9.</td>\n",
              "      <td>name</td>\n",
              "    </tr>\n",
              "  </tbody>\n",
              "</table>\n",
              "<p>5 rows × 76 columns</p>\n",
              "</div>"
            ],
            "text/plain": [
              "     0  1   2  3  4  5  6   7  8    9   ...  66  67 68 69 70 71 72   73   74  \\\n",
              "0  1254  0  40  1  1  0  0  -9  2  140  ...  -9  -9  1  1  1  1  1  -9.  -9.   \n",
              "1  1255  0  49  0  1  0  0  -9  3  160  ...  -9  -9  1  1  1  1  1  -9.  -9.   \n",
              "2  1256  0  37  1  1  0  0  -9  2  130  ...  -9  -9  1  1  1  1  1  -9.  -9.   \n",
              "3  1257  0  48  0  1  1  1  -9  4  138  ...   2  -9  1  1  1  1  1  -9.  -9.   \n",
              "4  1258  0  54  1  1  0  1  -9  3  150  ...   1  -9  1  1  1  1  1  -9.  -9.   \n",
              "\n",
              "     75  \n",
              "0  name  \n",
              "1  name  \n",
              "2  name  \n",
              "3  name  \n",
              "4  name  \n",
              "\n",
              "[5 rows x 76 columns]"
            ]
          },
          "execution_count": 7,
          "metadata": {},
          "output_type": "execute_result"
        }
      ],
      "source": [
        "df = pd.DataFrame.from_records(data)\n",
        "df.head()"
      ]
    },
    {
      "cell_type": "code",
      "execution_count": 8,
      "metadata": {
        "colab": {
          "base_uri": "https://localhost:8080/"
        },
        "id": "BKZXOX8syW8M",
        "outputId": "ea21ef4f-fa43-4954-ca3c-cdec11eb8f13"
      },
      "outputs": [
        {
          "name": "stdout",
          "output_type": "stream",
          "text": [
            "<class 'pandas.core.frame.DataFrame'>\n",
            "RangeIndex: 294 entries, 0 to 293\n",
            "Data columns (total 76 columns):\n",
            " #   Column  Non-Null Count  Dtype \n",
            "---  ------  --------------  ----- \n",
            " 0   0       294 non-null    object\n",
            " 1   1       294 non-null    object\n",
            " 2   2       294 non-null    object\n",
            " 3   3       294 non-null    object\n",
            " 4   4       294 non-null    object\n",
            " 5   5       294 non-null    object\n",
            " 6   6       294 non-null    object\n",
            " 7   7       294 non-null    object\n",
            " 8   8       294 non-null    object\n",
            " 9   9       294 non-null    object\n",
            " 10  10      294 non-null    object\n",
            " 11  11      294 non-null    object\n",
            " 12  12      294 non-null    object\n",
            " 13  13      294 non-null    object\n",
            " 14  14      294 non-null    object\n",
            " 15  15      294 non-null    object\n",
            " 16  16      294 non-null    object\n",
            " 17  17      294 non-null    object\n",
            " 18  18      294 non-null    object\n",
            " 19  19      294 non-null    object\n",
            " 20  20      294 non-null    object\n",
            " 21  21      294 non-null    object\n",
            " 22  22      294 non-null    object\n",
            " 23  23      294 non-null    object\n",
            " 24  24      294 non-null    object\n",
            " 25  25      294 non-null    object\n",
            " 26  26      294 non-null    object\n",
            " 27  27      294 non-null    object\n",
            " 28  28      294 non-null    object\n",
            " 29  29      294 non-null    object\n",
            " 30  30      294 non-null    object\n",
            " 31  31      294 non-null    object\n",
            " 32  32      294 non-null    object\n",
            " 33  33      294 non-null    object\n",
            " 34  34      294 non-null    object\n",
            " 35  35      294 non-null    object\n",
            " 36  36      294 non-null    object\n",
            " 37  37      294 non-null    object\n",
            " 38  38      294 non-null    object\n",
            " 39  39      294 non-null    object\n",
            " 40  40      294 non-null    object\n",
            " 41  41      294 non-null    object\n",
            " 42  42      294 non-null    object\n",
            " 43  43      294 non-null    object\n",
            " 44  44      294 non-null    object\n",
            " 45  45      294 non-null    object\n",
            " 46  46      294 non-null    object\n",
            " 47  47      294 non-null    object\n",
            " 48  48      294 non-null    object\n",
            " 49  49      294 non-null    object\n",
            " 50  50      294 non-null    object\n",
            " 51  51      294 non-null    object\n",
            " 52  52      294 non-null    object\n",
            " 53  53      294 non-null    object\n",
            " 54  54      294 non-null    object\n",
            " 55  55      294 non-null    object\n",
            " 56  56      294 non-null    object\n",
            " 57  57      294 non-null    object\n",
            " 58  58      294 non-null    object\n",
            " 59  59      294 non-null    object\n",
            " 60  60      294 non-null    object\n",
            " 61  61      294 non-null    object\n",
            " 62  62      294 non-null    object\n",
            " 63  63      294 non-null    object\n",
            " 64  64      294 non-null    object\n",
            " 65  65      294 non-null    object\n",
            " 66  66      294 non-null    object\n",
            " 67  67      294 non-null    object\n",
            " 68  68      294 non-null    object\n",
            " 69  69      294 non-null    object\n",
            " 70  70      294 non-null    object\n",
            " 71  71      294 non-null    object\n",
            " 72  72      294 non-null    object\n",
            " 73  73      294 non-null    object\n",
            " 74  74      294 non-null    object\n",
            " 75  75      294 non-null    object\n",
            "dtypes: object(76)\n",
            "memory usage: 174.7+ KB\n"
          ]
        }
      ],
      "source": [
        "df.info()"
      ]
    },
    {
      "cell_type": "code",
      "execution_count": 9,
      "metadata": {
        "id": "VKJkzYlLy3Kz"
      },
      "outputs": [],
      "source": [
        "df = df.iloc[:,:-1] # memilih semua baris dan kolom kecuali kolom terakhir"
      ]
    },
    {
      "cell_type": "code",
      "execution_count": 10,
      "metadata": {
        "id": "C6n8nqCVzbEL"
      },
      "outputs": [],
      "source": [
        "df = df.drop(df.columns[0], axis=1) #menghapus kolom pertama dari DataFrame"
      ]
    },
    {
      "cell_type": "code",
      "execution_count": 11,
      "metadata": {
        "id": "K9J7rbSJ0dWj"
      },
      "outputs": [],
      "source": [
        "df = df.astype(float) # mengubah tipe data file object/dataset ke tipe data float"
      ]
    },
    {
      "cell_type": "code",
      "execution_count": 12,
      "metadata": {
        "colab": {
          "base_uri": "https://localhost:8080/"
        },
        "id": "fNSooQR70Hvs",
        "outputId": "b9cb2f62-83b2-4af6-bc32-f451a8974711"
      },
      "outputs": [
        {
          "name": "stdout",
          "output_type": "stream",
          "text": [
            "<class 'pandas.core.frame.DataFrame'>\n",
            "RangeIndex: 294 entries, 0 to 293\n",
            "Data columns (total 74 columns):\n",
            " #   Column  Non-Null Count  Dtype  \n",
            "---  ------  --------------  -----  \n",
            " 0   1       294 non-null    float64\n",
            " 1   2       294 non-null    float64\n",
            " 2   3       294 non-null    float64\n",
            " 3   4       294 non-null    float64\n",
            " 4   5       294 non-null    float64\n",
            " 5   6       294 non-null    float64\n",
            " 6   7       294 non-null    float64\n",
            " 7   8       294 non-null    float64\n",
            " 8   9       294 non-null    float64\n",
            " 9   10      294 non-null    float64\n",
            " 10  11      294 non-null    float64\n",
            " 11  12      294 non-null    float64\n",
            " 12  13      294 non-null    float64\n",
            " 13  14      294 non-null    float64\n",
            " 14  15      294 non-null    float64\n",
            " 15  16      294 non-null    float64\n",
            " 16  17      294 non-null    float64\n",
            " 17  18      294 non-null    float64\n",
            " 18  19      294 non-null    float64\n",
            " 19  20      294 non-null    float64\n",
            " 20  21      294 non-null    float64\n",
            " 21  22      294 non-null    float64\n",
            " 22  23      294 non-null    float64\n",
            " 23  24      294 non-null    float64\n",
            " 24  25      294 non-null    float64\n",
            " 25  26      294 non-null    float64\n",
            " 26  27      294 non-null    float64\n",
            " 27  28      294 non-null    float64\n",
            " 28  29      294 non-null    float64\n",
            " 29  30      294 non-null    float64\n",
            " 30  31      294 non-null    float64\n",
            " 31  32      294 non-null    float64\n",
            " 32  33      294 non-null    float64\n",
            " 33  34      294 non-null    float64\n",
            " 34  35      294 non-null    float64\n",
            " 35  36      294 non-null    float64\n",
            " 36  37      294 non-null    float64\n",
            " 37  38      294 non-null    float64\n",
            " 38  39      294 non-null    float64\n",
            " 39  40      294 non-null    float64\n",
            " 40  41      294 non-null    float64\n",
            " 41  42      294 non-null    float64\n",
            " 42  43      294 non-null    float64\n",
            " 43  44      294 non-null    float64\n",
            " 44  45      294 non-null    float64\n",
            " 45  46      294 non-null    float64\n",
            " 46  47      294 non-null    float64\n",
            " 47  48      294 non-null    float64\n",
            " 48  49      294 non-null    float64\n",
            " 49  50      294 non-null    float64\n",
            " 50  51      294 non-null    float64\n",
            " 51  52      294 non-null    float64\n",
            " 52  53      294 non-null    float64\n",
            " 53  54      294 non-null    float64\n",
            " 54  55      294 non-null    float64\n",
            " 55  56      294 non-null    float64\n",
            " 56  57      294 non-null    float64\n",
            " 57  58      294 non-null    float64\n",
            " 58  59      294 non-null    float64\n",
            " 59  60      294 non-null    float64\n",
            " 60  61      294 non-null    float64\n",
            " 61  62      294 non-null    float64\n",
            " 62  63      294 non-null    float64\n",
            " 63  64      294 non-null    float64\n",
            " 64  65      294 non-null    float64\n",
            " 65  66      294 non-null    float64\n",
            " 66  67      294 non-null    float64\n",
            " 67  68      294 non-null    float64\n",
            " 68  69      294 non-null    float64\n",
            " 69  70      294 non-null    float64\n",
            " 70  71      294 non-null    float64\n",
            " 71  72      294 non-null    float64\n",
            " 72  73      294 non-null    float64\n",
            " 73  74      294 non-null    float64\n",
            "dtypes: float64(74)\n",
            "memory usage: 170.1 KB\n"
          ]
        }
      ],
      "source": [
        "df.info()"
      ]
    },
    {
      "cell_type": "markdown",
      "metadata": {
        "id": "qy6mMNtK1LRM"
      },
      "source": [
        "# **3. Validasi Data**"
      ]
    },
    {
      "cell_type": "markdown",
      "metadata": {},
      "source": [
        "Pada tahap ini bertujuan untuk mengetahui dan memahami isi dari dataset agar dapat dilakukan penanganan sesuai dengan kondisinya"
      ]
    },
    {
      "cell_type": "code",
      "execution_count": 13,
      "metadata": {
        "id": "Ij7Y4l7N0Ul0"
      },
      "outputs": [],
      "source": [
        "# Menggantikan nilai -9.0 dengan null (NaN)\n",
        "df.replace(-9.0, np.nan, inplace=True)"
      ]
    },
    {
      "cell_type": "code",
      "execution_count": 14,
      "metadata": {
        "colab": {
          "base_uri": "https://localhost:8080/"
        },
        "id": "pO24p5gA4JcN",
        "outputId": "4583147b-2df3-4b21-a147-0e0423ccdb89"
      },
      "outputs": [
        {
          "data": {
            "text/plain": [
              "1       0\n",
              "2       0\n",
              "3       0\n",
              "4       0\n",
              "5       0\n",
              "     ... \n",
              "70      0\n",
              "71      0\n",
              "72      0\n",
              "73    266\n",
              "74    294\n",
              "Length: 74, dtype: int64"
            ]
          },
          "execution_count": 14,
          "metadata": {},
          "output_type": "execute_result"
        }
      ],
      "source": [
        "df.isnull().sum() #menghitung jumlah nilai null pada setiap kolom"
      ]
    },
    {
      "cell_type": "code",
      "execution_count": 15,
      "metadata": {
        "colab": {
          "base_uri": "https://localhost:8080/",
          "height": 235
        },
        "id": "7myUU7Om4PnE",
        "outputId": "ced966f0-574c-4f0a-e519-534cd0ec9891"
      },
      "outputs": [
        {
          "data": {
            "text/html": [
              "<div>\n",
              "<style scoped>\n",
              "    .dataframe tbody tr th:only-of-type {\n",
              "        vertical-align: middle;\n",
              "    }\n",
              "\n",
              "    .dataframe tbody tr th {\n",
              "        vertical-align: top;\n",
              "    }\n",
              "\n",
              "    .dataframe thead th {\n",
              "        text-align: right;\n",
              "    }\n",
              "</style>\n",
              "<table border=\"1\" class=\"dataframe\">\n",
              "  <thead>\n",
              "    <tr style=\"text-align: right;\">\n",
              "      <th></th>\n",
              "      <th>1</th>\n",
              "      <th>2</th>\n",
              "      <th>3</th>\n",
              "      <th>4</th>\n",
              "      <th>5</th>\n",
              "      <th>6</th>\n",
              "      <th>7</th>\n",
              "      <th>8</th>\n",
              "      <th>9</th>\n",
              "      <th>10</th>\n",
              "      <th>...</th>\n",
              "      <th>65</th>\n",
              "      <th>66</th>\n",
              "      <th>67</th>\n",
              "      <th>68</th>\n",
              "      <th>69</th>\n",
              "      <th>70</th>\n",
              "      <th>71</th>\n",
              "      <th>72</th>\n",
              "      <th>73</th>\n",
              "      <th>74</th>\n",
              "    </tr>\n",
              "  </thead>\n",
              "  <tbody>\n",
              "    <tr>\n",
              "      <th>0</th>\n",
              "      <td>0.0</td>\n",
              "      <td>40.0</td>\n",
              "      <td>1.0</td>\n",
              "      <td>1.0</td>\n",
              "      <td>0.0</td>\n",
              "      <td>0.0</td>\n",
              "      <td>NaN</td>\n",
              "      <td>2.0</td>\n",
              "      <td>140.0</td>\n",
              "      <td>0.0</td>\n",
              "      <td>...</td>\n",
              "      <td>NaN</td>\n",
              "      <td>NaN</td>\n",
              "      <td>NaN</td>\n",
              "      <td>1.0</td>\n",
              "      <td>1.0</td>\n",
              "      <td>1.0</td>\n",
              "      <td>1.0</td>\n",
              "      <td>1.0</td>\n",
              "      <td>NaN</td>\n",
              "      <td>NaN</td>\n",
              "    </tr>\n",
              "    <tr>\n",
              "      <th>1</th>\n",
              "      <td>0.0</td>\n",
              "      <td>49.0</td>\n",
              "      <td>0.0</td>\n",
              "      <td>1.0</td>\n",
              "      <td>0.0</td>\n",
              "      <td>0.0</td>\n",
              "      <td>NaN</td>\n",
              "      <td>3.0</td>\n",
              "      <td>160.0</td>\n",
              "      <td>1.0</td>\n",
              "      <td>...</td>\n",
              "      <td>NaN</td>\n",
              "      <td>NaN</td>\n",
              "      <td>NaN</td>\n",
              "      <td>1.0</td>\n",
              "      <td>1.0</td>\n",
              "      <td>1.0</td>\n",
              "      <td>1.0</td>\n",
              "      <td>1.0</td>\n",
              "      <td>NaN</td>\n",
              "      <td>NaN</td>\n",
              "    </tr>\n",
              "    <tr>\n",
              "      <th>2</th>\n",
              "      <td>0.0</td>\n",
              "      <td>37.0</td>\n",
              "      <td>1.0</td>\n",
              "      <td>1.0</td>\n",
              "      <td>0.0</td>\n",
              "      <td>0.0</td>\n",
              "      <td>NaN</td>\n",
              "      <td>2.0</td>\n",
              "      <td>130.0</td>\n",
              "      <td>0.0</td>\n",
              "      <td>...</td>\n",
              "      <td>NaN</td>\n",
              "      <td>NaN</td>\n",
              "      <td>NaN</td>\n",
              "      <td>1.0</td>\n",
              "      <td>1.0</td>\n",
              "      <td>1.0</td>\n",
              "      <td>1.0</td>\n",
              "      <td>1.0</td>\n",
              "      <td>NaN</td>\n",
              "      <td>NaN</td>\n",
              "    </tr>\n",
              "    <tr>\n",
              "      <th>3</th>\n",
              "      <td>0.0</td>\n",
              "      <td>48.0</td>\n",
              "      <td>0.0</td>\n",
              "      <td>1.0</td>\n",
              "      <td>1.0</td>\n",
              "      <td>1.0</td>\n",
              "      <td>NaN</td>\n",
              "      <td>4.0</td>\n",
              "      <td>138.0</td>\n",
              "      <td>0.0</td>\n",
              "      <td>...</td>\n",
              "      <td>NaN</td>\n",
              "      <td>2.0</td>\n",
              "      <td>NaN</td>\n",
              "      <td>1.0</td>\n",
              "      <td>1.0</td>\n",
              "      <td>1.0</td>\n",
              "      <td>1.0</td>\n",
              "      <td>1.0</td>\n",
              "      <td>NaN</td>\n",
              "      <td>NaN</td>\n",
              "    </tr>\n",
              "    <tr>\n",
              "      <th>4</th>\n",
              "      <td>0.0</td>\n",
              "      <td>54.0</td>\n",
              "      <td>1.0</td>\n",
              "      <td>1.0</td>\n",
              "      <td>0.0</td>\n",
              "      <td>1.0</td>\n",
              "      <td>NaN</td>\n",
              "      <td>3.0</td>\n",
              "      <td>150.0</td>\n",
              "      <td>0.0</td>\n",
              "      <td>...</td>\n",
              "      <td>NaN</td>\n",
              "      <td>1.0</td>\n",
              "      <td>NaN</td>\n",
              "      <td>1.0</td>\n",
              "      <td>1.0</td>\n",
              "      <td>1.0</td>\n",
              "      <td>1.0</td>\n",
              "      <td>1.0</td>\n",
              "      <td>NaN</td>\n",
              "      <td>NaN</td>\n",
              "    </tr>\n",
              "  </tbody>\n",
              "</table>\n",
              "<p>5 rows × 74 columns</p>\n",
              "</div>"
            ],
            "text/plain": [
              "    1     2    3    4    5    6   7    8      9    10  ...  65   66  67   68  \\\n",
              "0  0.0  40.0  1.0  1.0  0.0  0.0 NaN  2.0  140.0  0.0  ... NaN  NaN NaN  1.0   \n",
              "1  0.0  49.0  0.0  1.0  0.0  0.0 NaN  3.0  160.0  1.0  ... NaN  NaN NaN  1.0   \n",
              "2  0.0  37.0  1.0  1.0  0.0  0.0 NaN  2.0  130.0  0.0  ... NaN  NaN NaN  1.0   \n",
              "3  0.0  48.0  0.0  1.0  1.0  1.0 NaN  4.0  138.0  0.0  ... NaN  2.0 NaN  1.0   \n",
              "4  0.0  54.0  1.0  1.0  0.0  1.0 NaN  3.0  150.0  0.0  ... NaN  1.0 NaN  1.0   \n",
              "\n",
              "    69   70   71   72  73  74  \n",
              "0  1.0  1.0  1.0  1.0 NaN NaN  \n",
              "1  1.0  1.0  1.0  1.0 NaN NaN  \n",
              "2  1.0  1.0  1.0  1.0 NaN NaN  \n",
              "3  1.0  1.0  1.0  1.0 NaN NaN  \n",
              "4  1.0  1.0  1.0  1.0 NaN NaN  \n",
              "\n",
              "[5 rows x 74 columns]"
            ]
          },
          "execution_count": 15,
          "metadata": {},
          "output_type": "execute_result"
        }
      ],
      "source": [
        "df.head()"
      ]
    },
    {
      "cell_type": "code",
      "execution_count": 16,
      "metadata": {
        "colab": {
          "base_uri": "https://localhost:8080/"
        },
        "id": "2W9FA6hM4nMN",
        "outputId": "bba337e3-f043-4765-c6d2-6d52bb254627"
      },
      "outputs": [
        {
          "name": "stdout",
          "output_type": "stream",
          "text": [
            "<class 'pandas.core.frame.DataFrame'>\n",
            "RangeIndex: 294 entries, 0 to 293\n",
            "Data columns (total 74 columns):\n",
            " #   Column  Non-Null Count  Dtype  \n",
            "---  ------  --------------  -----  \n",
            " 0   1       294 non-null    float64\n",
            " 1   2       294 non-null    float64\n",
            " 2   3       294 non-null    float64\n",
            " 3   4       294 non-null    float64\n",
            " 4   5       294 non-null    float64\n",
            " 5   6       294 non-null    float64\n",
            " 6   7       0 non-null      float64\n",
            " 7   8       294 non-null    float64\n",
            " 8   9       293 non-null    float64\n",
            " 9   10      293 non-null    float64\n",
            " 10  11      271 non-null    float64\n",
            " 11  12      12 non-null     float64\n",
            " 12  13      1 non-null      float64\n",
            " 13  14      0 non-null      float64\n",
            " 14  15      286 non-null    float64\n",
            " 15  16      21 non-null     float64\n",
            " 16  17      1 non-null      float64\n",
            " 17  18      293 non-null    float64\n",
            " 18  19      294 non-null    float64\n",
            " 19  20      294 non-null    float64\n",
            " 20  21      294 non-null    float64\n",
            " 21  22      293 non-null    float64\n",
            " 22  23      292 non-null    float64\n",
            " 23  24      293 non-null    float64\n",
            " 24  25      293 non-null    float64\n",
            " 25  26      293 non-null    float64\n",
            " 26  27      285 non-null    float64\n",
            " 27  28      292 non-null    float64\n",
            " 28  29      104 non-null    float64\n",
            " 29  30      292 non-null    float64\n",
            " 30  31      293 non-null    float64\n",
            " 31  32      293 non-null    float64\n",
            " 32  33      293 non-null    float64\n",
            " 33  34      293 non-null    float64\n",
            " 34  35      293 non-null    float64\n",
            " 35  36      293 non-null    float64\n",
            " 36  37      293 non-null    float64\n",
            " 37  38      292 non-null    float64\n",
            " 38  39      294 non-null    float64\n",
            " 39  40      104 non-null    float64\n",
            " 40  41      293 non-null    float64\n",
            " 41  42      294 non-null    float64\n",
            " 42  43      4 non-null      float64\n",
            " 43  44      0 non-null      float64\n",
            " 44  45      0 non-null      float64\n",
            " 45  46      0 non-null      float64\n",
            " 46  47      3 non-null      float64\n",
            " 47  48      0 non-null      float64\n",
            " 48  49      2 non-null      float64\n",
            " 49  50      28 non-null     float64\n",
            " 50  51      27 non-null     float64\n",
            " 51  52      17 non-null     float64\n",
            " 52  53      0 non-null      float64\n",
            " 53  54      294 non-null    float64\n",
            " 54  55      294 non-null    float64\n",
            " 55  56      294 non-null    float64\n",
            " 56  57      294 non-null    float64\n",
            " 57  58      19 non-null     float64\n",
            " 58  59      58 non-null     float64\n",
            " 59  60      48 non-null     float64\n",
            " 60  61      18 non-null     float64\n",
            " 61  62      59 non-null     float64\n",
            " 62  63      9 non-null      float64\n",
            " 63  64      23 non-null     float64\n",
            " 64  65      5 non-null      float64\n",
            " 65  66      50 non-null     float64\n",
            " 66  67      25 non-null     float64\n",
            " 67  68      294 non-null    float64\n",
            " 68  69      294 non-null    float64\n",
            " 69  70      294 non-null    float64\n",
            " 70  71      294 non-null    float64\n",
            " 71  72      294 non-null    float64\n",
            " 72  73      28 non-null     float64\n",
            " 73  74      0 non-null      float64\n",
            "dtypes: float64(74)\n",
            "memory usage: 170.1 KB\n"
          ]
        }
      ],
      "source": [
        "df.info()"
      ]
    },
    {
      "cell_type": "markdown",
      "metadata": {
        "id": "Dcn3y_cU9Tw_"
      },
      "source": [
        "# 4. Menentukan Object Data"
      ]
    },
    {
      "cell_type": "markdown",
      "metadata": {},
      "source": [
        "Memilih 14 fitur yang akan digunakan sesuai dengan deskripsi dataset\n",
        "\n",
        "Attribute Information:\n",
        "   -- Only 14 used\n",
        "   \n",
        "      -- 1. #3  (age)       \n",
        "      -- 2. #4  (sex)       \n",
        "      -- 3. #9  (cp)        \n",
        "      -- 4. #10 (trestbps)  \n",
        "      -- 5. #12 (chol)      \n",
        "      -- 6. #16 (fbs)       \n",
        "      -- 7. #19 (restecg)   \n",
        "      -- 8. #32 (thalach)   \n",
        "      -- 9. #38 (exang)     \n",
        "      -- 10. #40 (oldpeak)   \n",
        "      -- 11. #41 (slope)     \n",
        "      -- 12. #44 (ca)        \n",
        "      -- 13. #51 (thal)      \n",
        "      -- 14. #58 (num)       (the predicted attribute)\n"
      ]
    },
    {
      "cell_type": "code",
      "execution_count": 17,
      "metadata": {
        "id": "kFfmBZqr9XMM"
      },
      "outputs": [],
      "source": [
        "df_selected = df.iloc[:, [1, 2, 7,8,10,14,17,30,36,38,39,42,49,56]]"
      ]
    },
    {
      "cell_type": "code",
      "execution_count": 18,
      "metadata": {
        "colab": {
          "base_uri": "https://localhost:8080/",
          "height": 423
        },
        "id": "vKUb2UMKbOjk",
        "outputId": "e7a6f087-b426-43d7-8b7d-7edfd94887f2"
      },
      "outputs": [
        {
          "data": {
            "text/html": [
              "<div>\n",
              "<style scoped>\n",
              "    .dataframe tbody tr th:only-of-type {\n",
              "        vertical-align: middle;\n",
              "    }\n",
              "\n",
              "    .dataframe tbody tr th {\n",
              "        vertical-align: top;\n",
              "    }\n",
              "\n",
              "    .dataframe thead th {\n",
              "        text-align: right;\n",
              "    }\n",
              "</style>\n",
              "<table border=\"1\" class=\"dataframe\">\n",
              "  <thead>\n",
              "    <tr style=\"text-align: right;\">\n",
              "      <th></th>\n",
              "      <th>2</th>\n",
              "      <th>3</th>\n",
              "      <th>8</th>\n",
              "      <th>9</th>\n",
              "      <th>11</th>\n",
              "      <th>15</th>\n",
              "      <th>18</th>\n",
              "      <th>31</th>\n",
              "      <th>37</th>\n",
              "      <th>39</th>\n",
              "      <th>40</th>\n",
              "      <th>43</th>\n",
              "      <th>50</th>\n",
              "      <th>57</th>\n",
              "    </tr>\n",
              "  </thead>\n",
              "  <tbody>\n",
              "    <tr>\n",
              "      <th>0</th>\n",
              "      <td>40.0</td>\n",
              "      <td>1.0</td>\n",
              "      <td>2.0</td>\n",
              "      <td>140.0</td>\n",
              "      <td>289.0</td>\n",
              "      <td>0.0</td>\n",
              "      <td>0.0</td>\n",
              "      <td>172.0</td>\n",
              "      <td>0.0</td>\n",
              "      <td>0.0</td>\n",
              "      <td>NaN</td>\n",
              "      <td>NaN</td>\n",
              "      <td>NaN</td>\n",
              "      <td>0.0</td>\n",
              "    </tr>\n",
              "    <tr>\n",
              "      <th>1</th>\n",
              "      <td>49.0</td>\n",
              "      <td>0.0</td>\n",
              "      <td>3.0</td>\n",
              "      <td>160.0</td>\n",
              "      <td>180.0</td>\n",
              "      <td>0.0</td>\n",
              "      <td>0.0</td>\n",
              "      <td>156.0</td>\n",
              "      <td>0.0</td>\n",
              "      <td>1.0</td>\n",
              "      <td>2.0</td>\n",
              "      <td>NaN</td>\n",
              "      <td>NaN</td>\n",
              "      <td>1.0</td>\n",
              "    </tr>\n",
              "    <tr>\n",
              "      <th>2</th>\n",
              "      <td>37.0</td>\n",
              "      <td>1.0</td>\n",
              "      <td>2.0</td>\n",
              "      <td>130.0</td>\n",
              "      <td>283.0</td>\n",
              "      <td>0.0</td>\n",
              "      <td>1.0</td>\n",
              "      <td>98.0</td>\n",
              "      <td>0.0</td>\n",
              "      <td>0.0</td>\n",
              "      <td>NaN</td>\n",
              "      <td>NaN</td>\n",
              "      <td>NaN</td>\n",
              "      <td>0.0</td>\n",
              "    </tr>\n",
              "    <tr>\n",
              "      <th>3</th>\n",
              "      <td>48.0</td>\n",
              "      <td>0.0</td>\n",
              "      <td>4.0</td>\n",
              "      <td>138.0</td>\n",
              "      <td>214.0</td>\n",
              "      <td>0.0</td>\n",
              "      <td>0.0</td>\n",
              "      <td>108.0</td>\n",
              "      <td>1.0</td>\n",
              "      <td>1.5</td>\n",
              "      <td>2.0</td>\n",
              "      <td>NaN</td>\n",
              "      <td>NaN</td>\n",
              "      <td>3.0</td>\n",
              "    </tr>\n",
              "    <tr>\n",
              "      <th>4</th>\n",
              "      <td>54.0</td>\n",
              "      <td>1.0</td>\n",
              "      <td>3.0</td>\n",
              "      <td>150.0</td>\n",
              "      <td>NaN</td>\n",
              "      <td>0.0</td>\n",
              "      <td>0.0</td>\n",
              "      <td>122.0</td>\n",
              "      <td>0.0</td>\n",
              "      <td>0.0</td>\n",
              "      <td>NaN</td>\n",
              "      <td>NaN</td>\n",
              "      <td>NaN</td>\n",
              "      <td>0.0</td>\n",
              "    </tr>\n",
              "    <tr>\n",
              "      <th>...</th>\n",
              "      <td>...</td>\n",
              "      <td>...</td>\n",
              "      <td>...</td>\n",
              "      <td>...</td>\n",
              "      <td>...</td>\n",
              "      <td>...</td>\n",
              "      <td>...</td>\n",
              "      <td>...</td>\n",
              "      <td>...</td>\n",
              "      <td>...</td>\n",
              "      <td>...</td>\n",
              "      <td>...</td>\n",
              "      <td>...</td>\n",
              "      <td>...</td>\n",
              "    </tr>\n",
              "    <tr>\n",
              "      <th>289</th>\n",
              "      <td>48.0</td>\n",
              "      <td>0.0</td>\n",
              "      <td>2.0</td>\n",
              "      <td>NaN</td>\n",
              "      <td>308.0</td>\n",
              "      <td>0.0</td>\n",
              "      <td>1.0</td>\n",
              "      <td>NaN</td>\n",
              "      <td>NaN</td>\n",
              "      <td>2.0</td>\n",
              "      <td>1.0</td>\n",
              "      <td>NaN</td>\n",
              "      <td>NaN</td>\n",
              "      <td>0.0</td>\n",
              "    </tr>\n",
              "    <tr>\n",
              "      <th>290</th>\n",
              "      <td>36.0</td>\n",
              "      <td>1.0</td>\n",
              "      <td>2.0</td>\n",
              "      <td>120.0</td>\n",
              "      <td>166.0</td>\n",
              "      <td>0.0</td>\n",
              "      <td>0.0</td>\n",
              "      <td>180.0</td>\n",
              "      <td>0.0</td>\n",
              "      <td>0.0</td>\n",
              "      <td>NaN</td>\n",
              "      <td>NaN</td>\n",
              "      <td>NaN</td>\n",
              "      <td>0.0</td>\n",
              "    </tr>\n",
              "    <tr>\n",
              "      <th>291</th>\n",
              "      <td>48.0</td>\n",
              "      <td>1.0</td>\n",
              "      <td>3.0</td>\n",
              "      <td>110.0</td>\n",
              "      <td>211.0</td>\n",
              "      <td>0.0</td>\n",
              "      <td>0.0</td>\n",
              "      <td>138.0</td>\n",
              "      <td>0.0</td>\n",
              "      <td>0.0</td>\n",
              "      <td>NaN</td>\n",
              "      <td>NaN</td>\n",
              "      <td>6.0</td>\n",
              "      <td>0.0</td>\n",
              "    </tr>\n",
              "    <tr>\n",
              "      <th>292</th>\n",
              "      <td>47.0</td>\n",
              "      <td>0.0</td>\n",
              "      <td>2.0</td>\n",
              "      <td>140.0</td>\n",
              "      <td>257.0</td>\n",
              "      <td>0.0</td>\n",
              "      <td>0.0</td>\n",
              "      <td>135.0</td>\n",
              "      <td>0.0</td>\n",
              "      <td>1.0</td>\n",
              "      <td>1.0</td>\n",
              "      <td>NaN</td>\n",
              "      <td>NaN</td>\n",
              "      <td>0.0</td>\n",
              "    </tr>\n",
              "    <tr>\n",
              "      <th>293</th>\n",
              "      <td>53.0</td>\n",
              "      <td>1.0</td>\n",
              "      <td>4.0</td>\n",
              "      <td>130.0</td>\n",
              "      <td>182.0</td>\n",
              "      <td>0.0</td>\n",
              "      <td>0.0</td>\n",
              "      <td>148.0</td>\n",
              "      <td>0.0</td>\n",
              "      <td>0.0</td>\n",
              "      <td>NaN</td>\n",
              "      <td>NaN</td>\n",
              "      <td>NaN</td>\n",
              "      <td>0.0</td>\n",
              "    </tr>\n",
              "  </tbody>\n",
              "</table>\n",
              "<p>294 rows × 14 columns</p>\n",
              "</div>"
            ],
            "text/plain": [
              "       2    3    8      9      11   15   18     31   37   39   40  43   50  \\\n",
              "0    40.0  1.0  2.0  140.0  289.0  0.0  0.0  172.0  0.0  0.0  NaN NaN  NaN   \n",
              "1    49.0  0.0  3.0  160.0  180.0  0.0  0.0  156.0  0.0  1.0  2.0 NaN  NaN   \n",
              "2    37.0  1.0  2.0  130.0  283.0  0.0  1.0   98.0  0.0  0.0  NaN NaN  NaN   \n",
              "3    48.0  0.0  4.0  138.0  214.0  0.0  0.0  108.0  1.0  1.5  2.0 NaN  NaN   \n",
              "4    54.0  1.0  3.0  150.0    NaN  0.0  0.0  122.0  0.0  0.0  NaN NaN  NaN   \n",
              "..    ...  ...  ...    ...    ...  ...  ...    ...  ...  ...  ...  ..  ...   \n",
              "289  48.0  0.0  2.0    NaN  308.0  0.0  1.0    NaN  NaN  2.0  1.0 NaN  NaN   \n",
              "290  36.0  1.0  2.0  120.0  166.0  0.0  0.0  180.0  0.0  0.0  NaN NaN  NaN   \n",
              "291  48.0  1.0  3.0  110.0  211.0  0.0  0.0  138.0  0.0  0.0  NaN NaN  6.0   \n",
              "292  47.0  0.0  2.0  140.0  257.0  0.0  0.0  135.0  0.0  1.0  1.0 NaN  NaN   \n",
              "293  53.0  1.0  4.0  130.0  182.0  0.0  0.0  148.0  0.0  0.0  NaN NaN  NaN   \n",
              "\n",
              "      57  \n",
              "0    0.0  \n",
              "1    1.0  \n",
              "2    0.0  \n",
              "3    3.0  \n",
              "4    0.0  \n",
              "..   ...  \n",
              "289  0.0  \n",
              "290  0.0  \n",
              "291  0.0  \n",
              "292  0.0  \n",
              "293  0.0  \n",
              "\n",
              "[294 rows x 14 columns]"
            ]
          },
          "execution_count": 18,
          "metadata": {},
          "output_type": "execute_result"
        }
      ],
      "source": [
        "df_selected"
      ]
    },
    {
      "cell_type": "code",
      "execution_count": 19,
      "metadata": {
        "colab": {
          "base_uri": "https://localhost:8080/"
        },
        "id": "0MmrJNa_bVpr",
        "outputId": "9e3cac22-b20d-4e03-fe00-c39f0f9e054a"
      },
      "outputs": [
        {
          "name": "stdout",
          "output_type": "stream",
          "text": [
            "<class 'pandas.core.frame.DataFrame'>\n",
            "RangeIndex: 294 entries, 0 to 293\n",
            "Data columns (total 14 columns):\n",
            " #   Column  Non-Null Count  Dtype  \n",
            "---  ------  --------------  -----  \n",
            " 0   2       294 non-null    float64\n",
            " 1   3       294 non-null    float64\n",
            " 2   8       294 non-null    float64\n",
            " 3   9       293 non-null    float64\n",
            " 4   11      271 non-null    float64\n",
            " 5   15      286 non-null    float64\n",
            " 6   18      293 non-null    float64\n",
            " 7   31      293 non-null    float64\n",
            " 8   37      293 non-null    float64\n",
            " 9   39      294 non-null    float64\n",
            " 10  40      104 non-null    float64\n",
            " 11  43      4 non-null      float64\n",
            " 12  50      28 non-null     float64\n",
            " 13  57      294 non-null    float64\n",
            "dtypes: float64(14)\n",
            "memory usage: 32.3 KB\n"
          ]
        }
      ],
      "source": [
        "df_selected.info()"
      ]
    },
    {
      "cell_type": "code",
      "execution_count": 20,
      "metadata": {
        "colab": {
          "base_uri": "https://localhost:8080/"
        },
        "id": "BWtqRYw0bpDI",
        "outputId": "714253d8-5787-4207-b54a-9d30a9954a02"
      },
      "outputs": [
        {
          "name": "stderr",
          "output_type": "stream",
          "text": [
            "<ipython-input-20-cb433705047b>:19: SettingWithCopyWarning: \n",
            "A value is trying to be set on a copy of a slice from a DataFrame\n",
            "\n",
            "See the caveats in the documentation: https://pandas.pydata.org/pandas-docs/stable/user_guide/indexing.html#returning-a-view-versus-a-copy\n",
            "  df_selected.rename(columns=column_mapping, inplace=True)\n"
          ]
        }
      ],
      "source": [
        "# mengganti nama kolom sesuai dengan 14 nama kolom yang ada pada deskripsi dataset\n",
        "\n",
        "column_mapping = {\n",
        "    2: 'age',\n",
        "    3: 'sex',\n",
        "    8: 'cp',\n",
        "    9: 'trestbps',\n",
        "    11: 'chol',\n",
        "    15: 'fbs',\n",
        "    18: 'restecg',\n",
        "    31: 'thalach',\n",
        "    37: 'exang',\n",
        "    39: 'oldpeak',\n",
        "    40: 'slope',\n",
        "    43: 'ca',\n",
        "    50: 'thal',\n",
        "    57: 'target'\n",
        "}\n",
        "df_selected.rename(columns=column_mapping, inplace=True)"
      ]
    },
    {
      "cell_type": "code",
      "execution_count": 21,
      "metadata": {
        "colab": {
          "base_uri": "https://localhost:8080/"
        },
        "id": "hOWHxMaNcXZ3",
        "outputId": "7a7475e3-b8f1-4d8c-ab0c-e1b9e0edd0ca"
      },
      "outputs": [
        {
          "name": "stdout",
          "output_type": "stream",
          "text": [
            "<class 'pandas.core.frame.DataFrame'>\n",
            "RangeIndex: 294 entries, 0 to 293\n",
            "Data columns (total 14 columns):\n",
            " #   Column    Non-Null Count  Dtype  \n",
            "---  ------    --------------  -----  \n",
            " 0   age       294 non-null    float64\n",
            " 1   sex       294 non-null    float64\n",
            " 2   cp        294 non-null    float64\n",
            " 3   trestbps  293 non-null    float64\n",
            " 4   chol      271 non-null    float64\n",
            " 5   fbs       286 non-null    float64\n",
            " 6   restecg   293 non-null    float64\n",
            " 7   thalach   293 non-null    float64\n",
            " 8   exang     293 non-null    float64\n",
            " 9   oldpeak   294 non-null    float64\n",
            " 10  slope     104 non-null    float64\n",
            " 11  ca        4 non-null      float64\n",
            " 12  thal      28 non-null     float64\n",
            " 13  target    294 non-null    float64\n",
            "dtypes: float64(14)\n",
            "memory usage: 32.3 KB\n"
          ]
        }
      ],
      "source": [
        "df_selected.info()"
      ]
    },
    {
      "cell_type": "markdown",
      "metadata": {
        "id": "P6jkYRU8jzU0"
      },
      "source": [
        "# menghitung jumlah fiitur pada dataset"
      ]
    },
    {
      "cell_type": "code",
      "execution_count": 22,
      "metadata": {
        "colab": {
          "base_uri": "https://localhost:8080/"
        },
        "id": "Oe9JlngWecAP",
        "outputId": "5c5a9f4d-7bcb-4135-e738-46e245e885fa"
      },
      "outputs": [
        {
          "data": {
            "text/plain": [
              "age   sex  cp   trestbps  chol   fbs  restecg  thalach  exang  oldpeak  slope  ca   thal  target\n",
              "47.0  1.0  4.0  150.0     226.0  0.0  0.0      98.0     1.0    1.5      2.0    0.0  7.0   1.0       1\n",
              "Name: count, dtype: int64"
            ]
          },
          "execution_count": 22,
          "metadata": {},
          "output_type": "execute_result"
        }
      ],
      "source": [
        "df_selected.value_counts()"
      ]
    },
    {
      "cell_type": "markdown",
      "metadata": {
        "id": "fA7IhZM4ezX6"
      },
      "source": [
        "# 5. Cleaning Data"
      ]
    },
    {
      "cell_type": "markdown",
      "metadata": {},
      "source": [
        "Sebelum melakukan pemodelan dilakukan pembersihan data agar model yang dihasilkan lebih akurat"
      ]
    },
    {
      "cell_type": "code",
      "execution_count": 23,
      "metadata": {
        "colab": {
          "base_uri": "https://localhost:8080/"
        },
        "id": "1jeGEjlIeicn",
        "outputId": "775da482-189a-4824-b1af-a7177d67b255"
      },
      "outputs": [
        {
          "data": {
            "text/plain": [
              "age           0\n",
              "sex           0\n",
              "cp            0\n",
              "trestbps      1\n",
              "chol         23\n",
              "fbs           8\n",
              "restecg       1\n",
              "thalach       1\n",
              "exang         1\n",
              "oldpeak       0\n",
              "slope       190\n",
              "ca          290\n",
              "thal        266\n",
              "target        0\n",
              "dtype: int64"
            ]
          },
          "execution_count": 23,
          "metadata": {},
          "output_type": "execute_result"
        }
      ],
      "source": [
        "df_selected.isnull().sum() #menghitung jumlah nilai null value"
      ]
    },
    {
      "cell_type": "markdown",
      "metadata": {},
      "source": [
        "Berdasarkan output kode program diatas ada beberapa fitur yang hampir 90% datanya memiliki nilai null sehingga perlu dilakukan\n",
        "penghapusan fitur menggunakan fungsi drop"
      ]
    },
    {
      "cell_type": "code",
      "execution_count": 24,
      "metadata": {
        "id": "pwnC0GGmfHcZ"
      },
      "outputs": [],
      "source": [
        "column_drop = ['slope', 'ca', 'thal'] #menghapus kolom slope, ca, dan thal"
      ]
    },
    {
      "cell_type": "code",
      "execution_count": 25,
      "metadata": {
        "id": "z-dB8hg0fuBx"
      },
      "outputs": [],
      "source": [
        "df_selected = df_selected.drop(column_drop, axis=1) "
      ]
    },
    {
      "cell_type": "code",
      "execution_count": 26,
      "metadata": {
        "colab": {
          "base_uri": "https://localhost:8080/"
        },
        "id": "KQjg4t25gJz0",
        "outputId": "ef7c4ce9-6937-4592-998b-f75f36a0acc2"
      },
      "outputs": [
        {
          "data": {
            "text/plain": [
              "age          0\n",
              "sex          0\n",
              "cp           0\n",
              "trestbps     1\n",
              "chol        23\n",
              "fbs          8\n",
              "restecg      1\n",
              "thalach      1\n",
              "exang        1\n",
              "oldpeak      0\n",
              "target       0\n",
              "dtype: int64"
            ]
          },
          "execution_count": 26,
          "metadata": {},
          "output_type": "execute_result"
        }
      ],
      "source": [
        "df_selected.isnull().sum()"
      ]
    },
    {
      "cell_type": "markdown",
      "metadata": {
        "id": "J1WkP4JvgbkH"
      },
      "source": [
        "Dikarenakan masih ada nilai null dibeberapa kolom fitur maka akan dilakukan pengisian nilai null menggunakan nilai mean di setiap kolomnya"
      ]
    },
    {
      "cell_type": "code",
      "execution_count": 27,
      "metadata": {
        "id": "LNcyVMAqgP0p"
      },
      "outputs": [],
      "source": [
        "meanTBPS = df_selected['trestbps'].dropna()\n",
        "meanChol = df_selected['chol'].dropna()\n",
        "meanfbs = df_selected['fbs'].dropna()\n",
        "meanRestCG = df_selected['restecg'].dropna()\n",
        "meanthalach = df_selected['thalach'].dropna()\n",
        "meanexang = df_selected['exang'].dropna()\n",
        "\n",
        "meanTBPS = meanTBPS.astype(float)\n",
        "meanChol = meanChol.astype(float)\n",
        "meanfbs = meanfbs.astype(float)\n",
        "meanthalach = meanthalach.astype(float)\n",
        "meanexang = meanexang.astype(float)\n",
        "meanRestCG = meanRestCG.astype(float)\n",
        "\n",
        "meanTBPS = round(meanTBPS.mean())\n",
        "meanChol = round(meanChol.mean())\n",
        "meanfbs = round(meanfbs.mean())\n",
        "meanthalach = round(meanthalach.mean())\n",
        "meanexang = round(meanexang.mean())\n",
        "meanRestCG = round(meanRestCG.mean())"
      ]
    },
    {
      "cell_type": "markdown",
      "metadata": {
        "id": "038JFuF3glDu"
      },
      "source": [
        "mengubah nilai null menjadi nilai mean yang sudah ditentukan sebelumnya"
      ]
    },
    {
      "cell_type": "code",
      "execution_count": 28,
      "metadata": {
        "colab": {
          "base_uri": "https://localhost:8080/"
        },
        "id": "PSlUwgkng5To",
        "outputId": "c27a9ef1-a760-4505-c4a2-fdcd5d2eb01e"
      },
      "outputs": [
        {
          "data": {
            "text/plain": [
              "{'trestbps': 133,\n",
              " 'chol': 251,\n",
              " 'fbs': 0,\n",
              " 'thalach': 139,\n",
              " 'exang': 0,\n",
              " 'restecg': 0}"
            ]
          },
          "execution_count": 28,
          "metadata": {},
          "output_type": "execute_result"
        }
      ],
      "source": [
        "fill_values = {'trestbps': meanTBPS, 'chol': meanChol, 'fbs': meanfbs,\n",
        "'thalach':meanthalach,'exang':meanexang,'restecg':meanRestCG}\n",
        "fill_values"
      ]
    },
    {
      "cell_type": "code",
      "execution_count": 29,
      "metadata": {
        "colab": {
          "base_uri": "https://localhost:8080/"
        },
        "id": "l2PRpUSSg57j",
        "outputId": "606393d8-b10d-40ff-8acd-d7cf1fecfc37"
      },
      "outputs": [
        {
          "name": "stdout",
          "output_type": "stream",
          "text": [
            "<class 'pandas.core.frame.DataFrame'>\n",
            "RangeIndex: 294 entries, 0 to 293\n",
            "Data columns (total 11 columns):\n",
            " #   Column    Non-Null Count  Dtype  \n",
            "---  ------    --------------  -----  \n",
            " 0   age       294 non-null    float64\n",
            " 1   sex       294 non-null    float64\n",
            " 2   cp        294 non-null    float64\n",
            " 3   trestbps  294 non-null    float64\n",
            " 4   chol      294 non-null    float64\n",
            " 5   fbs       294 non-null    float64\n",
            " 6   restecg   294 non-null    float64\n",
            " 7   thalach   294 non-null    float64\n",
            " 8   exang     294 non-null    float64\n",
            " 9   oldpeak   294 non-null    float64\n",
            " 10  target    294 non-null    float64\n",
            "dtypes: float64(11)\n",
            "memory usage: 25.4 KB\n"
          ]
        }
      ],
      "source": [
        "dfClean = df_selected.fillna(value=fill_values)\n",
        "\n",
        "dfClean.info()"
      ]
    },
    {
      "cell_type": "code",
      "execution_count": 30,
      "metadata": {
        "colab": {
          "base_uri": "https://localhost:8080/"
        },
        "id": "4rGk0-TUhJWN",
        "outputId": "123a46fd-0dd9-4c19-d8b0-4ea80dec09be"
      },
      "outputs": [
        {
          "data": {
            "text/plain": [
              "age         0\n",
              "sex         0\n",
              "cp          0\n",
              "trestbps    0\n",
              "chol        0\n",
              "fbs         0\n",
              "restecg     0\n",
              "thalach     0\n",
              "exang       0\n",
              "oldpeak     0\n",
              "target      0\n",
              "dtype: int64"
            ]
          },
          "execution_count": 30,
          "metadata": {},
          "output_type": "execute_result"
        }
      ],
      "source": [
        "dfClean.isnull().sum()"
      ]
    },
    {
      "cell_type": "markdown",
      "metadata": {},
      "source": [
        "melalukan pengecekan terhadap duplikaksi data"
      ]
    },
    {
      "cell_type": "code",
      "execution_count": 31,
      "metadata": {
        "colab": {
          "base_uri": "https://localhost:8080/",
          "height": 81
        },
        "id": "E9yZfcJNhfeM",
        "outputId": "ae93c1ac-1874-472d-f35a-4a9092609cab"
      },
      "outputs": [
        {
          "data": {
            "text/html": [
              "<div>\n",
              "<style scoped>\n",
              "    .dataframe tbody tr th:only-of-type {\n",
              "        vertical-align: middle;\n",
              "    }\n",
              "\n",
              "    .dataframe tbody tr th {\n",
              "        vertical-align: top;\n",
              "    }\n",
              "\n",
              "    .dataframe thead th {\n",
              "        text-align: right;\n",
              "    }\n",
              "</style>\n",
              "<table border=\"1\" class=\"dataframe\">\n",
              "  <thead>\n",
              "    <tr style=\"text-align: right;\">\n",
              "      <th></th>\n",
              "      <th>age</th>\n",
              "      <th>sex</th>\n",
              "      <th>cp</th>\n",
              "      <th>trestbps</th>\n",
              "      <th>chol</th>\n",
              "      <th>fbs</th>\n",
              "      <th>restecg</th>\n",
              "      <th>thalach</th>\n",
              "      <th>exang</th>\n",
              "      <th>oldpeak</th>\n",
              "      <th>target</th>\n",
              "    </tr>\n",
              "  </thead>\n",
              "  <tbody>\n",
              "    <tr>\n",
              "      <th>163</th>\n",
              "      <td>49.0</td>\n",
              "      <td>0.0</td>\n",
              "      <td>2.0</td>\n",
              "      <td>110.0</td>\n",
              "      <td>251.0</td>\n",
              "      <td>0.0</td>\n",
              "      <td>0.0</td>\n",
              "      <td>160.0</td>\n",
              "      <td>0.0</td>\n",
              "      <td>0.0</td>\n",
              "      <td>0.0</td>\n",
              "    </tr>\n",
              "  </tbody>\n",
              "</table>\n",
              "</div>"
            ],
            "text/plain": [
              "      age  sex   cp  trestbps   chol  fbs  restecg  thalach  exang  oldpeak  \\\n",
              "163  49.0  0.0  2.0     110.0  251.0  0.0      0.0    160.0    0.0      0.0   \n",
              "\n",
              "     target  \n",
              "163     0.0  "
            ]
          },
          "execution_count": 31,
          "metadata": {},
          "output_type": "execute_result"
        }
      ],
      "source": [
        "dp_baris = dfClean.duplicated()\n",
        "dfClean[dp_baris]"
      ]
    },
    {
      "cell_type": "code",
      "execution_count": 32,
      "metadata": {
        "colab": {
          "base_uri": "https://localhost:8080/",
          "height": 130
        },
        "id": "aicjagcqht1k",
        "outputId": "67064fcb-8f4d-4c65-d67c-4abffe79ad1d"
      },
      "outputs": [
        {
          "name": "stdout",
          "output_type": "stream",
          "text": [
            "Semua baris yang duplikat\n"
          ]
        },
        {
          "data": {
            "text/html": [
              "<div>\n",
              "<style scoped>\n",
              "    .dataframe tbody tr th:only-of-type {\n",
              "        vertical-align: middle;\n",
              "    }\n",
              "\n",
              "    .dataframe tbody tr th {\n",
              "        vertical-align: top;\n",
              "    }\n",
              "\n",
              "    .dataframe thead th {\n",
              "        text-align: right;\n",
              "    }\n",
              "</style>\n",
              "<table border=\"1\" class=\"dataframe\">\n",
              "  <thead>\n",
              "    <tr style=\"text-align: right;\">\n",
              "      <th></th>\n",
              "      <th>age</th>\n",
              "      <th>sex</th>\n",
              "      <th>cp</th>\n",
              "      <th>trestbps</th>\n",
              "      <th>chol</th>\n",
              "      <th>fbs</th>\n",
              "      <th>restecg</th>\n",
              "      <th>thalach</th>\n",
              "      <th>exang</th>\n",
              "      <th>oldpeak</th>\n",
              "      <th>target</th>\n",
              "    </tr>\n",
              "  </thead>\n",
              "  <tbody>\n",
              "    <tr>\n",
              "      <th>90</th>\n",
              "      <td>49.0</td>\n",
              "      <td>0.0</td>\n",
              "      <td>2.0</td>\n",
              "      <td>110.0</td>\n",
              "      <td>251.0</td>\n",
              "      <td>0.0</td>\n",
              "      <td>0.0</td>\n",
              "      <td>160.0</td>\n",
              "      <td>0.0</td>\n",
              "      <td>0.0</td>\n",
              "      <td>0.0</td>\n",
              "    </tr>\n",
              "    <tr>\n",
              "      <th>163</th>\n",
              "      <td>49.0</td>\n",
              "      <td>0.0</td>\n",
              "      <td>2.0</td>\n",
              "      <td>110.0</td>\n",
              "      <td>251.0</td>\n",
              "      <td>0.0</td>\n",
              "      <td>0.0</td>\n",
              "      <td>160.0</td>\n",
              "      <td>0.0</td>\n",
              "      <td>0.0</td>\n",
              "      <td>0.0</td>\n",
              "    </tr>\n",
              "  </tbody>\n",
              "</table>\n",
              "</div>"
            ],
            "text/plain": [
              "      age  sex   cp  trestbps   chol  fbs  restecg  thalach  exang  oldpeak  \\\n",
              "90   49.0  0.0  2.0     110.0  251.0  0.0      0.0    160.0    0.0      0.0   \n",
              "163  49.0  0.0  2.0     110.0  251.0  0.0      0.0    160.0    0.0      0.0   \n",
              "\n",
              "     target  \n",
              "90      0.0  \n",
              "163     0.0  "
            ]
          },
          "execution_count": 32,
          "metadata": {},
          "output_type": "execute_result"
        }
      ],
      "source": [
        "print(\"Semua baris yang duplikat\")\n",
        "dfClean[dfClean.duplicated(keep=False)]"
      ]
    },
    {
      "cell_type": "markdown",
      "metadata": {
        "id": "BybEpw1Zi-uW"
      },
      "source": [
        "menghapus data yg memiliki duplikat"
      ]
    },
    {
      "cell_type": "code",
      "execution_count": 33,
      "metadata": {
        "colab": {
          "base_uri": "https://localhost:8080/",
          "height": 71
        },
        "id": "2ervG2UqiFzw",
        "outputId": "a2736a9d-71c1-436f-c23c-1a506061d280"
      },
      "outputs": [
        {
          "name": "stdout",
          "output_type": "stream",
          "text": [
            "All Duplicate Rows:\n"
          ]
        },
        {
          "data": {
            "text/html": [
              "<div>\n",
              "<style scoped>\n",
              "    .dataframe tbody tr th:only-of-type {\n",
              "        vertical-align: middle;\n",
              "    }\n",
              "\n",
              "    .dataframe tbody tr th {\n",
              "        vertical-align: top;\n",
              "    }\n",
              "\n",
              "    .dataframe thead th {\n",
              "        text-align: right;\n",
              "    }\n",
              "</style>\n",
              "<table border=\"1\" class=\"dataframe\">\n",
              "  <thead>\n",
              "    <tr style=\"text-align: right;\">\n",
              "      <th></th>\n",
              "      <th>age</th>\n",
              "      <th>sex</th>\n",
              "      <th>cp</th>\n",
              "      <th>trestbps</th>\n",
              "      <th>chol</th>\n",
              "      <th>fbs</th>\n",
              "      <th>restecg</th>\n",
              "      <th>thalach</th>\n",
              "      <th>exang</th>\n",
              "      <th>oldpeak</th>\n",
              "      <th>target</th>\n",
              "    </tr>\n",
              "  </thead>\n",
              "  <tbody>\n",
              "  </tbody>\n",
              "</table>\n",
              "</div>"
            ],
            "text/plain": [
              "Empty DataFrame\n",
              "Columns: [age, sex, cp, trestbps, chol, fbs, restecg, thalach, exang, oldpeak, target]\n",
              "Index: []"
            ]
          },
          "execution_count": 33,
          "metadata": {},
          "output_type": "execute_result"
        }
      ],
      "source": [
        "dfClean = dfClean.drop_duplicates()\n",
        "print(\"All Duplicate Rows:\")\n",
        "dfClean[dfClean.duplicated(keep=False)]"
      ]
    },
    {
      "cell_type": "code",
      "execution_count": 34,
      "metadata": {
        "colab": {
          "base_uri": "https://localhost:8080/",
          "height": 206
        },
        "id": "IaYYyhuQjIV4",
        "outputId": "bcd95642-35cd-4c3a-a438-163de02f300c"
      },
      "outputs": [
        {
          "data": {
            "text/html": [
              "<div>\n",
              "<style scoped>\n",
              "    .dataframe tbody tr th:only-of-type {\n",
              "        vertical-align: middle;\n",
              "    }\n",
              "\n",
              "    .dataframe tbody tr th {\n",
              "        vertical-align: top;\n",
              "    }\n",
              "\n",
              "    .dataframe thead th {\n",
              "        text-align: right;\n",
              "    }\n",
              "</style>\n",
              "<table border=\"1\" class=\"dataframe\">\n",
              "  <thead>\n",
              "    <tr style=\"text-align: right;\">\n",
              "      <th></th>\n",
              "      <th>age</th>\n",
              "      <th>sex</th>\n",
              "      <th>cp</th>\n",
              "      <th>trestbps</th>\n",
              "      <th>chol</th>\n",
              "      <th>fbs</th>\n",
              "      <th>restecg</th>\n",
              "      <th>thalach</th>\n",
              "      <th>exang</th>\n",
              "      <th>oldpeak</th>\n",
              "      <th>target</th>\n",
              "    </tr>\n",
              "  </thead>\n",
              "  <tbody>\n",
              "    <tr>\n",
              "      <th>0</th>\n",
              "      <td>40.0</td>\n",
              "      <td>1.0</td>\n",
              "      <td>2.0</td>\n",
              "      <td>140.0</td>\n",
              "      <td>289.0</td>\n",
              "      <td>0.0</td>\n",
              "      <td>0.0</td>\n",
              "      <td>172.0</td>\n",
              "      <td>0.0</td>\n",
              "      <td>0.0</td>\n",
              "      <td>0.0</td>\n",
              "    </tr>\n",
              "    <tr>\n",
              "      <th>1</th>\n",
              "      <td>49.0</td>\n",
              "      <td>0.0</td>\n",
              "      <td>3.0</td>\n",
              "      <td>160.0</td>\n",
              "      <td>180.0</td>\n",
              "      <td>0.0</td>\n",
              "      <td>0.0</td>\n",
              "      <td>156.0</td>\n",
              "      <td>0.0</td>\n",
              "      <td>1.0</td>\n",
              "      <td>1.0</td>\n",
              "    </tr>\n",
              "    <tr>\n",
              "      <th>2</th>\n",
              "      <td>37.0</td>\n",
              "      <td>1.0</td>\n",
              "      <td>2.0</td>\n",
              "      <td>130.0</td>\n",
              "      <td>283.0</td>\n",
              "      <td>0.0</td>\n",
              "      <td>1.0</td>\n",
              "      <td>98.0</td>\n",
              "      <td>0.0</td>\n",
              "      <td>0.0</td>\n",
              "      <td>0.0</td>\n",
              "    </tr>\n",
              "    <tr>\n",
              "      <th>3</th>\n",
              "      <td>48.0</td>\n",
              "      <td>0.0</td>\n",
              "      <td>4.0</td>\n",
              "      <td>138.0</td>\n",
              "      <td>214.0</td>\n",
              "      <td>0.0</td>\n",
              "      <td>0.0</td>\n",
              "      <td>108.0</td>\n",
              "      <td>1.0</td>\n",
              "      <td>1.5</td>\n",
              "      <td>3.0</td>\n",
              "    </tr>\n",
              "    <tr>\n",
              "      <th>4</th>\n",
              "      <td>54.0</td>\n",
              "      <td>1.0</td>\n",
              "      <td>3.0</td>\n",
              "      <td>150.0</td>\n",
              "      <td>251.0</td>\n",
              "      <td>0.0</td>\n",
              "      <td>0.0</td>\n",
              "      <td>122.0</td>\n",
              "      <td>0.0</td>\n",
              "      <td>0.0</td>\n",
              "      <td>0.0</td>\n",
              "    </tr>\n",
              "  </tbody>\n",
              "</table>\n",
              "</div>"
            ],
            "text/plain": [
              "    age  sex   cp  trestbps   chol  fbs  restecg  thalach  exang  oldpeak  \\\n",
              "0  40.0  1.0  2.0     140.0  289.0  0.0      0.0    172.0    0.0      0.0   \n",
              "1  49.0  0.0  3.0     160.0  180.0  0.0      0.0    156.0    0.0      1.0   \n",
              "2  37.0  1.0  2.0     130.0  283.0  0.0      1.0     98.0    0.0      0.0   \n",
              "3  48.0  0.0  4.0     138.0  214.0  0.0      0.0    108.0    1.0      1.5   \n",
              "4  54.0  1.0  3.0     150.0  251.0  0.0      0.0    122.0    0.0      0.0   \n",
              "\n",
              "   target  \n",
              "0     0.0  \n",
              "1     1.0  \n",
              "2     0.0  \n",
              "3     3.0  \n",
              "4     0.0  "
            ]
          },
          "execution_count": 34,
          "metadata": {},
          "output_type": "execute_result"
        }
      ],
      "source": [
        "dfClean.head()"
      ]
    },
    {
      "cell_type": "code",
      "execution_count": 35,
      "metadata": {
        "colab": {
          "base_uri": "https://localhost:8080/"
        },
        "id": "-Ccn2fHLjJbX",
        "outputId": "c3fc5961-f4cc-4f84-980b-8330a985fcce"
      },
      "outputs": [
        {
          "data": {
            "text/plain": [
              "target\n",
              "0.0    187\n",
              "1.0     37\n",
              "3.0     28\n",
              "2.0     26\n",
              "4.0     15\n",
              "Name: count, dtype: int64"
            ]
          },
          "execution_count": 35,
          "metadata": {},
          "output_type": "execute_result"
        }
      ],
      "source": [
        "dfClean['target'].value_counts()"
      ]
    },
    {
      "cell_type": "markdown",
      "metadata": {
        "id": "zPo9C5f7jW47"
      },
      "source": [
        "**Mencari korelasi antar fitur**"
      ]
    },
    {
      "cell_type": "code",
      "execution_count": 36,
      "metadata": {
        "colab": {
          "base_uri": "https://localhost:8080/",
          "height": 394
        },
        "id": "gdCgeD0xjTTh",
        "outputId": "81fad160-bb91-4d63-9ea5-a08707312fd4"
      },
      "outputs": [
        {
          "data": {
            "text/html": [
              "<div>\n",
              "<style scoped>\n",
              "    .dataframe tbody tr th:only-of-type {\n",
              "        vertical-align: middle;\n",
              "    }\n",
              "\n",
              "    .dataframe tbody tr th {\n",
              "        vertical-align: top;\n",
              "    }\n",
              "\n",
              "    .dataframe thead th {\n",
              "        text-align: right;\n",
              "    }\n",
              "</style>\n",
              "<table border=\"1\" class=\"dataframe\">\n",
              "  <thead>\n",
              "    <tr style=\"text-align: right;\">\n",
              "      <th></th>\n",
              "      <th>age</th>\n",
              "      <th>sex</th>\n",
              "      <th>cp</th>\n",
              "      <th>trestbps</th>\n",
              "      <th>chol</th>\n",
              "      <th>fbs</th>\n",
              "      <th>restecg</th>\n",
              "      <th>thalach</th>\n",
              "      <th>exang</th>\n",
              "      <th>oldpeak</th>\n",
              "      <th>target</th>\n",
              "    </tr>\n",
              "  </thead>\n",
              "  <tbody>\n",
              "    <tr>\n",
              "      <th>age</th>\n",
              "      <td>1.000000</td>\n",
              "      <td>0.014516</td>\n",
              "      <td>0.146616</td>\n",
              "      <td>0.246571</td>\n",
              "      <td>0.087101</td>\n",
              "      <td>0.181130</td>\n",
              "      <td>0.050672</td>\n",
              "      <td>-0.460514</td>\n",
              "      <td>0.239223</td>\n",
              "      <td>0.178172</td>\n",
              "      <td>0.210429</td>\n",
              "    </tr>\n",
              "    <tr>\n",
              "      <th>sex</th>\n",
              "      <td>0.014516</td>\n",
              "      <td>1.000000</td>\n",
              "      <td>0.245769</td>\n",
              "      <td>0.082064</td>\n",
              "      <td>0.027695</td>\n",
              "      <td>0.044372</td>\n",
              "      <td>-0.108656</td>\n",
              "      <td>-0.106959</td>\n",
              "      <td>0.154925</td>\n",
              "      <td>0.115959</td>\n",
              "      <td>0.220732</td>\n",
              "    </tr>\n",
              "    <tr>\n",
              "      <th>cp</th>\n",
              "      <td>0.146616</td>\n",
              "      <td>0.245769</td>\n",
              "      <td>1.000000</td>\n",
              "      <td>0.081293</td>\n",
              "      <td>0.134697</td>\n",
              "      <td>0.031930</td>\n",
              "      <td>-0.016372</td>\n",
              "      <td>-0.367819</td>\n",
              "      <td>0.494674</td>\n",
              "      <td>0.351735</td>\n",
              "      <td>0.427536</td>\n",
              "    </tr>\n",
              "    <tr>\n",
              "      <th>trestbps</th>\n",
              "      <td>0.246571</td>\n",
              "      <td>0.082064</td>\n",
              "      <td>0.081293</td>\n",
              "      <td>1.000000</td>\n",
              "      <td>0.080818</td>\n",
              "      <td>0.096222</td>\n",
              "      <td>0.011256</td>\n",
              "      <td>-0.181824</td>\n",
              "      <td>0.211507</td>\n",
              "      <td>0.204000</td>\n",
              "      <td>0.214898</td>\n",
              "    </tr>\n",
              "    <tr>\n",
              "      <th>chol</th>\n",
              "      <td>0.087101</td>\n",
              "      <td>0.027695</td>\n",
              "      <td>0.134697</td>\n",
              "      <td>0.080818</td>\n",
              "      <td>1.000000</td>\n",
              "      <td>0.107686</td>\n",
              "      <td>0.048081</td>\n",
              "      <td>-0.122038</td>\n",
              "      <td>0.161055</td>\n",
              "      <td>0.106743</td>\n",
              "      <td>0.256027</td>\n",
              "    </tr>\n",
              "    <tr>\n",
              "      <th>fbs</th>\n",
              "      <td>0.181130</td>\n",
              "      <td>0.044372</td>\n",
              "      <td>0.031930</td>\n",
              "      <td>0.096222</td>\n",
              "      <td>0.107686</td>\n",
              "      <td>1.000000</td>\n",
              "      <td>0.047988</td>\n",
              "      <td>-0.069722</td>\n",
              "      <td>0.115503</td>\n",
              "      <td>0.063179</td>\n",
              "      <td>0.154319</td>\n",
              "    </tr>\n",
              "    <tr>\n",
              "      <th>restecg</th>\n",
              "      <td>0.050672</td>\n",
              "      <td>-0.108656</td>\n",
              "      <td>-0.016372</td>\n",
              "      <td>0.011256</td>\n",
              "      <td>0.048081</td>\n",
              "      <td>0.047988</td>\n",
              "      <td>1.000000</td>\n",
              "      <td>0.006084</td>\n",
              "      <td>0.041290</td>\n",
              "      <td>0.042193</td>\n",
              "      <td>0.042643</td>\n",
              "    </tr>\n",
              "    <tr>\n",
              "      <th>thalach</th>\n",
              "      <td>-0.460514</td>\n",
              "      <td>-0.106959</td>\n",
              "      <td>-0.367819</td>\n",
              "      <td>-0.181824</td>\n",
              "      <td>-0.122038</td>\n",
              "      <td>-0.069722</td>\n",
              "      <td>0.006084</td>\n",
              "      <td>1.000000</td>\n",
              "      <td>-0.400508</td>\n",
              "      <td>-0.300458</td>\n",
              "      <td>-0.367525</td>\n",
              "    </tr>\n",
              "    <tr>\n",
              "      <th>exang</th>\n",
              "      <td>0.239223</td>\n",
              "      <td>0.154925</td>\n",
              "      <td>0.494674</td>\n",
              "      <td>0.211507</td>\n",
              "      <td>0.161055</td>\n",
              "      <td>0.115503</td>\n",
              "      <td>0.041290</td>\n",
              "      <td>-0.400508</td>\n",
              "      <td>1.000000</td>\n",
              "      <td>0.624965</td>\n",
              "      <td>0.571710</td>\n",
              "    </tr>\n",
              "    <tr>\n",
              "      <th>oldpeak</th>\n",
              "      <td>0.178172</td>\n",
              "      <td>0.115959</td>\n",
              "      <td>0.351735</td>\n",
              "      <td>0.204000</td>\n",
              "      <td>0.106743</td>\n",
              "      <td>0.063179</td>\n",
              "      <td>0.042193</td>\n",
              "      <td>-0.300458</td>\n",
              "      <td>0.624965</td>\n",
              "      <td>1.000000</td>\n",
              "      <td>0.580732</td>\n",
              "    </tr>\n",
              "    <tr>\n",
              "      <th>target</th>\n",
              "      <td>0.210429</td>\n",
              "      <td>0.220732</td>\n",
              "      <td>0.427536</td>\n",
              "      <td>0.214898</td>\n",
              "      <td>0.256027</td>\n",
              "      <td>0.154319</td>\n",
              "      <td>0.042643</td>\n",
              "      <td>-0.367525</td>\n",
              "      <td>0.571710</td>\n",
              "      <td>0.580732</td>\n",
              "      <td>1.000000</td>\n",
              "    </tr>\n",
              "  </tbody>\n",
              "</table>\n",
              "</div>"
            ],
            "text/plain": [
              "               age       sex        cp  trestbps      chol       fbs  \\\n",
              "age       1.000000  0.014516  0.146616  0.246571  0.087101  0.181130   \n",
              "sex       0.014516  1.000000  0.245769  0.082064  0.027695  0.044372   \n",
              "cp        0.146616  0.245769  1.000000  0.081293  0.134697  0.031930   \n",
              "trestbps  0.246571  0.082064  0.081293  1.000000  0.080818  0.096222   \n",
              "chol      0.087101  0.027695  0.134697  0.080818  1.000000  0.107686   \n",
              "fbs       0.181130  0.044372  0.031930  0.096222  0.107686  1.000000   \n",
              "restecg   0.050672 -0.108656 -0.016372  0.011256  0.048081  0.047988   \n",
              "thalach  -0.460514 -0.106959 -0.367819 -0.181824 -0.122038 -0.069722   \n",
              "exang     0.239223  0.154925  0.494674  0.211507  0.161055  0.115503   \n",
              "oldpeak   0.178172  0.115959  0.351735  0.204000  0.106743  0.063179   \n",
              "target    0.210429  0.220732  0.427536  0.214898  0.256027  0.154319   \n",
              "\n",
              "           restecg   thalach     exang   oldpeak    target  \n",
              "age       0.050672 -0.460514  0.239223  0.178172  0.210429  \n",
              "sex      -0.108656 -0.106959  0.154925  0.115959  0.220732  \n",
              "cp       -0.016372 -0.367819  0.494674  0.351735  0.427536  \n",
              "trestbps  0.011256 -0.181824  0.211507  0.204000  0.214898  \n",
              "chol      0.048081 -0.122038  0.161055  0.106743  0.256027  \n",
              "fbs       0.047988 -0.069722  0.115503  0.063179  0.154319  \n",
              "restecg   1.000000  0.006084  0.041290  0.042193  0.042643  \n",
              "thalach   0.006084  1.000000 -0.400508 -0.300458 -0.367525  \n",
              "exang     0.041290 -0.400508  1.000000  0.624965  0.571710  \n",
              "oldpeak   0.042193 -0.300458  0.624965  1.000000  0.580732  \n",
              "target    0.042643 -0.367525  0.571710  0.580732  1.000000  "
            ]
          },
          "execution_count": 36,
          "metadata": {},
          "output_type": "execute_result"
        }
      ],
      "source": [
        "dfClean.corr()"
      ]
    },
    {
      "cell_type": "code",
      "execution_count": 37,
      "metadata": {
        "colab": {
          "base_uri": "https://localhost:8080/",
          "height": 854
        },
        "id": "zsu4icEKjn4L",
        "outputId": "0f902d01-e8f3-46c7-fc84-8a38857fc577"
      },
      "outputs": [
        {
          "data": {
            "text/plain": [
              "<Axes: >"
            ]
          },
          "execution_count": 37,
          "metadata": {},
          "output_type": "execute_result"
        }
      ],
      "source": [
        "cor_mat=dfClean.corr()\n",
        "fig,ax=plt.subplots(figsize=(15,10))\n",
        "sns.heatmap(cor_mat,annot=True,linewidths=0.5,fmt=\".3f\")"
      ]
    },
    {
      "cell_type": "markdown",
      "metadata": {
        "id": "KySoa5wpj5xJ"
      },
      "source": [
        "# **Kontruksi Data**\n",
        "\n",
        "untuk menyesuaikan semua tipe data yang ada di dalam dataset. Namun pada\n",
        "tahap ini dataset sudah memiliki tipe data yang sesuai sehingga tidak perlu dilakukan penyesuaian kembali"
      ]
    },
    {
      "cell_type": "code",
      "execution_count": 38,
      "metadata": {
        "colab": {
          "base_uri": "https://localhost:8080/"
        },
        "id": "oQpPdb3YjqtX",
        "outputId": "35c15ab8-9ea0-4927-bbe4-c04e9c7589c4"
      },
      "outputs": [
        {
          "name": "stdout",
          "output_type": "stream",
          "text": [
            "<class 'pandas.core.frame.DataFrame'>\n",
            "Index: 293 entries, 0 to 293\n",
            "Data columns (total 11 columns):\n",
            " #   Column    Non-Null Count  Dtype  \n",
            "---  ------    --------------  -----  \n",
            " 0   age       293 non-null    float64\n",
            " 1   sex       293 non-null    float64\n",
            " 2   cp        293 non-null    float64\n",
            " 3   trestbps  293 non-null    float64\n",
            " 4   chol      293 non-null    float64\n",
            " 5   fbs       293 non-null    float64\n",
            " 6   restecg   293 non-null    float64\n",
            " 7   thalach   293 non-null    float64\n",
            " 8   exang     293 non-null    float64\n",
            " 9   oldpeak   293 non-null    float64\n",
            " 10  target    293 non-null    float64\n",
            "dtypes: float64(11)\n",
            "memory usage: 27.5 KB\n"
          ]
        }
      ],
      "source": [
        "dfClean.info()"
      ]
    },
    {
      "cell_type": "code",
      "execution_count": 39,
      "metadata": {
        "colab": {
          "base_uri": "https://localhost:8080/",
          "height": 206
        },
        "id": "nV2JuDGckFCC",
        "outputId": "5eaf535b-f548-40c0-bc68-6eca5b9fe888"
      },
      "outputs": [
        {
          "data": {
            "text/html": [
              "<div>\n",
              "<style scoped>\n",
              "    .dataframe tbody tr th:only-of-type {\n",
              "        vertical-align: middle;\n",
              "    }\n",
              "\n",
              "    .dataframe tbody tr th {\n",
              "        vertical-align: top;\n",
              "    }\n",
              "\n",
              "    .dataframe thead th {\n",
              "        text-align: right;\n",
              "    }\n",
              "</style>\n",
              "<table border=\"1\" class=\"dataframe\">\n",
              "  <thead>\n",
              "    <tr style=\"text-align: right;\">\n",
              "      <th></th>\n",
              "      <th>age</th>\n",
              "      <th>sex</th>\n",
              "      <th>cp</th>\n",
              "      <th>trestbps</th>\n",
              "      <th>chol</th>\n",
              "      <th>fbs</th>\n",
              "      <th>restecg</th>\n",
              "      <th>thalach</th>\n",
              "      <th>exang</th>\n",
              "      <th>oldpeak</th>\n",
              "      <th>target</th>\n",
              "    </tr>\n",
              "  </thead>\n",
              "  <tbody>\n",
              "    <tr>\n",
              "      <th>0</th>\n",
              "      <td>40.0</td>\n",
              "      <td>1.0</td>\n",
              "      <td>2.0</td>\n",
              "      <td>140.0</td>\n",
              "      <td>289.0</td>\n",
              "      <td>0.0</td>\n",
              "      <td>0.0</td>\n",
              "      <td>172.0</td>\n",
              "      <td>0.0</td>\n",
              "      <td>0.0</td>\n",
              "      <td>0.0</td>\n",
              "    </tr>\n",
              "    <tr>\n",
              "      <th>1</th>\n",
              "      <td>49.0</td>\n",
              "      <td>0.0</td>\n",
              "      <td>3.0</td>\n",
              "      <td>160.0</td>\n",
              "      <td>180.0</td>\n",
              "      <td>0.0</td>\n",
              "      <td>0.0</td>\n",
              "      <td>156.0</td>\n",
              "      <td>0.0</td>\n",
              "      <td>1.0</td>\n",
              "      <td>1.0</td>\n",
              "    </tr>\n",
              "    <tr>\n",
              "      <th>2</th>\n",
              "      <td>37.0</td>\n",
              "      <td>1.0</td>\n",
              "      <td>2.0</td>\n",
              "      <td>130.0</td>\n",
              "      <td>283.0</td>\n",
              "      <td>0.0</td>\n",
              "      <td>1.0</td>\n",
              "      <td>98.0</td>\n",
              "      <td>0.0</td>\n",
              "      <td>0.0</td>\n",
              "      <td>0.0</td>\n",
              "    </tr>\n",
              "    <tr>\n",
              "      <th>3</th>\n",
              "      <td>48.0</td>\n",
              "      <td>0.0</td>\n",
              "      <td>4.0</td>\n",
              "      <td>138.0</td>\n",
              "      <td>214.0</td>\n",
              "      <td>0.0</td>\n",
              "      <td>0.0</td>\n",
              "      <td>108.0</td>\n",
              "      <td>1.0</td>\n",
              "      <td>1.5</td>\n",
              "      <td>3.0</td>\n",
              "    </tr>\n",
              "    <tr>\n",
              "      <th>4</th>\n",
              "      <td>54.0</td>\n",
              "      <td>1.0</td>\n",
              "      <td>3.0</td>\n",
              "      <td>150.0</td>\n",
              "      <td>251.0</td>\n",
              "      <td>0.0</td>\n",
              "      <td>0.0</td>\n",
              "      <td>122.0</td>\n",
              "      <td>0.0</td>\n",
              "      <td>0.0</td>\n",
              "      <td>0.0</td>\n",
              "    </tr>\n",
              "  </tbody>\n",
              "</table>\n",
              "</div>"
            ],
            "text/plain": [
              "    age  sex   cp  trestbps   chol  fbs  restecg  thalach  exang  oldpeak  \\\n",
              "0  40.0  1.0  2.0     140.0  289.0  0.0      0.0    172.0    0.0      0.0   \n",
              "1  49.0  0.0  3.0     160.0  180.0  0.0      0.0    156.0    0.0      1.0   \n",
              "2  37.0  1.0  2.0     130.0  283.0  0.0      1.0     98.0    0.0      0.0   \n",
              "3  48.0  0.0  4.0     138.0  214.0  0.0      0.0    108.0    1.0      1.5   \n",
              "4  54.0  1.0  3.0     150.0  251.0  0.0      0.0    122.0    0.0      0.0   \n",
              "\n",
              "   target  \n",
              "0     0.0  \n",
              "1     1.0  \n",
              "2     0.0  \n",
              "3     3.0  \n",
              "4     0.0  "
            ]
          },
          "execution_count": 39,
          "metadata": {},
          "output_type": "execute_result"
        }
      ],
      "source": [
        "dfClean.head(5)"
      ]
    },
    {
      "cell_type": "markdown",
      "metadata": {
        "id": "jf269tfFkPMq"
      },
      "source": [
        "Setelah Menyesuaikan tipe dataset kita , kita harus memisahkan antara fitur dan target lalu simpan kedalam variabel."
      ]
    },
    {
      "cell_type": "code",
      "execution_count": 40,
      "metadata": {
        "id": "_luHN3clkIU9"
      },
      "outputs": [],
      "source": [
        "x = dfClean.drop(\"target\", axis=1).values\n",
        "y = dfClean.iloc[:,-1]"
      ]
    },
    {
      "cell_type": "markdown",
      "metadata": {
        "id": "NagmVNB2lOYR"
      },
      "source": [
        "Setelah kita memisahkan antara fitur dan target , sebaiknya kita melakukan pengecekan terlebih dahulu terhadap persebaran jumlah target terlebih dahulu."
      ]
    },
    {
      "cell_type": "code",
      "execution_count": 102,
      "metadata": {
        "colab": {
          "base_uri": "https://localhost:8080/",
          "height": 545
        },
        "id": "hILjA_J_kc9r",
        "outputId": "5551a113-ea2e-45d5-9d70-b3c76ca1cdec"
      },
      "outputs": [
        {
          "data": {
            "image/png": "[encoded data removed]",
            "text/plain": [
              "<Figure size 1000x600 with 1 Axes>"
            ]
          },
          "metadata": {},
          "output_type": "display_data"
        }
      ],
      "source": [
        "dfClean['target'].value_counts().plot(kind='bar',figsize=(10,6),color=['green','blue'])\n",
        "plt.title(\"Count of the target\")\n",
        "plt.xticks(rotation=0);\n",
        "plt.show()"
      ]
    },
    {
      "cell_type": "markdown",
      "metadata": {
        "id": "PFSzVjrqfcCG"
      },
      "source": [
        "Pada Grafik diatas menunjukan bahwa persebaran jumlah target tidak seimbang oleh karena itu perlu diseimbangkan terlebih dahulu. Menyeimbangkan target ada 2 cara yaitu oversampling dan undersampling. oversampling dilakukan jika jumlah dataset sedikit sedangkan undersampling dilakukan jika jumlah data terlalu banyak.\n",
        "Disini kita akan melakukan oversampling dikarenakan jumlah data kita tidak banyak. Salah satu metode yang Oversampling yang akan kita gunakan adalah SMOTE"
      ]
    },
    {
      "cell_type": "code",
      "execution_count": 42,
      "metadata": {
        "id": "I6rCRr_DlKur"
      },
      "outputs": [],
      "source": [
        "from imblearn.over_sampling import SMOTE"
      ]
    },
    {
      "cell_type": "code",
      "execution_count": 43,
      "metadata": {
        "id": "iQ04AbTugDdN"
      },
      "outputs": [],
      "source": [
        "#OverSampling\n",
        "smote = SMOTE(random_state=42)\n",
        "X_smote_resampled, y_smote_resampled = smote.fit_resample(x, y)"
      ]
    },
    {
      "cell_type": "code",
      "execution_count": 44,
      "metadata": {
        "colab": {
          "base_uri": "https://localhost:8080/",
          "height": 607
        },
        "id": "hDBoVTFwgnLN",
        "outputId": "a5a9d938-be61-4b7e-ef4e-545fbf65a1ac"
      },
      "outputs": [
        {
          "data": {
            "image/png": "[encoded data removed]",
            "text/plain": [
              "<Figure size 1000x600 with 2 Axes>"
            ]
          },
          "metadata": {},
          "output_type": "display_data"
        },
        {
          "data": {
            "image/png": "[encoded data removed]",
            "text/plain": [
              "<Figure size 1000x600 with 2 Axes>"
            ]
          },
          "metadata": {},
          "output_type": "display_data"
        }
      ],
      "source": [
        "plt.figure(figsize=(12,4))\n",
        "\n",
        "new_df1 = pd.DataFrame(data=y)\n",
        "plt.subplot(1, 2, 1)\n",
        "new_df1.value_counts().plot(kind='bar',figsize=(10,6),color=['green','blue','red','yellow'])\n",
        "plt.title(\"target before over sampling with SMOTE \")\n",
        "plt.xticks(rotation=0);\n",
        "\n",
        "\n",
        "new_df2 = pd.DataFrame(data=y_smote_resampled)\n",
        "plt.subplot(1, 2, 2)\n",
        "new_df2.value_counts().plot(kind='bar',figsize=(10,6),color=['green','blue','red','yellow'])\n",
        "plt.title(\"target after over sampling with SMOTE\")\n",
        "plt.xticks(rotation=0);\n",
        "plt.tight_layout()\n",
        "plt.show()"
      ]
    },
    {
      "cell_type": "markdown",
      "metadata": {
        "id": "H5mYNRHmh7ze"
      },
      "source": [
        "Pada Grafik diatas dapat dilihat ketika target belum di seimbangkan dan sudah diseimbangkan menggunakan oversampling."
      ]
    },
    {
      "cell_type": "code",
      "execution_count": 45,
      "metadata": {
        "colab": {
          "base_uri": "https://localhost:8080/"
        },
        "id": "XqpyjVVsh9Kg",
        "outputId": "2232a760-b488-46df-a3c1-28172ce2a6c0"
      },
      "outputs": [
        {
          "data": {
            "text/plain": [
              "target\n",
              "0.0       187\n",
              "1.0        37\n",
              "3.0        28\n",
              "2.0        26\n",
              "4.0        15\n",
              "Name: count, dtype: int64"
            ]
          },
          "execution_count": 45,
          "metadata": {},
          "output_type": "execute_result"
        }
      ],
      "source": [
        "new_df1 = pd.DataFrame(data=y)\n",
        "new_df1.value_counts()"
      ]
    },
    {
      "cell_type": "code",
      "execution_count": 46,
      "metadata": {
        "colab": {
          "base_uri": "https://localhost:8080/"
        },
        "id": "9dbrvonQiuv2",
        "outputId": "b005ca8b-80bc-4682-abdc-c429ffb4add4"
      },
      "outputs": [
        {
          "data": {
            "text/plain": [
              "target\n",
              "0.0       187\n",
              "1.0       187\n",
              "2.0       187\n",
              "3.0       187\n",
              "4.0       187\n",
              "Name: count, dtype: int64"
            ]
          },
          "execution_count": 46,
          "metadata": {},
          "output_type": "execute_result"
        }
      ],
      "source": [
        "# over\n",
        "new_df2 = pd.DataFrame(data=y_smote_resampled)\n",
        "new_df2.value_counts()"
      ]
    },
    {
      "cell_type": "markdown",
      "metadata": {
        "id": "B6ntTkeSizCs"
      },
      "source": [
        "Setelah menyeimbangkan persebaran jumlah target kita akan melakukan mengecekan apakah perlu dilakukan normalisasi/standarisasi pada\n",
        "datset kita."
      ]
    },
    {
      "cell_type": "code",
      "execution_count": 47,
      "metadata": {
        "colab": {
          "base_uri": "https://localhost:8080/",
          "height": 300
        },
        "id": "7v5nBuCGixGW",
        "outputId": "a7b552a5-67f6-41e9-ed12-8bc380f87347"
      },
      "outputs": [
        {
          "data": {
            "text/html": [
              "<div>\n",
              "<style scoped>\n",
              "    .dataframe tbody tr th:only-of-type {\n",
              "        vertical-align: middle;\n",
              "    }\n",
              "\n",
              "    .dataframe tbody tr th {\n",
              "        vertical-align: top;\n",
              "    }\n",
              "\n",
              "    .dataframe thead th {\n",
              "        text-align: right;\n",
              "    }\n",
              "</style>\n",
              "<table border=\"1\" class=\"dataframe\">\n",
              "  <thead>\n",
              "    <tr style=\"text-align: right;\">\n",
              "      <th></th>\n",
              "      <th>age</th>\n",
              "      <th>sex</th>\n",
              "      <th>cp</th>\n",
              "      <th>trestbps</th>\n",
              "      <th>chol</th>\n",
              "      <th>fbs</th>\n",
              "      <th>restecg</th>\n",
              "      <th>thalach</th>\n",
              "      <th>exang</th>\n",
              "      <th>oldpeak</th>\n",
              "      <th>target</th>\n",
              "    </tr>\n",
              "  </thead>\n",
              "  <tbody>\n",
              "    <tr>\n",
              "      <th>count</th>\n",
              "      <td>293.000000</td>\n",
              "      <td>293.000000</td>\n",
              "      <td>293.000000</td>\n",
              "      <td>293.000000</td>\n",
              "      <td>293.000000</td>\n",
              "      <td>293.000000</td>\n",
              "      <td>293.000000</td>\n",
              "      <td>293.000000</td>\n",
              "      <td>293.000000</td>\n",
              "      <td>293.000000</td>\n",
              "      <td>293.000000</td>\n",
              "    </tr>\n",
              "    <tr>\n",
              "      <th>mean</th>\n",
              "      <td>47.822526</td>\n",
              "      <td>0.726962</td>\n",
              "      <td>2.986348</td>\n",
              "      <td>132.662116</td>\n",
              "      <td>250.860068</td>\n",
              "      <td>0.068259</td>\n",
              "      <td>0.218430</td>\n",
              "      <td>139.058020</td>\n",
              "      <td>0.303754</td>\n",
              "      <td>0.588055</td>\n",
              "      <td>0.795222</td>\n",
              "    </tr>\n",
              "    <tr>\n",
              "      <th>std</th>\n",
              "      <td>7.824875</td>\n",
              "      <td>0.446282</td>\n",
              "      <td>0.965049</td>\n",
              "      <td>17.576793</td>\n",
              "      <td>65.059069</td>\n",
              "      <td>0.252622</td>\n",
              "      <td>0.460868</td>\n",
              "      <td>23.558003</td>\n",
              "      <td>0.460665</td>\n",
              "      <td>0.909554</td>\n",
              "      <td>1.238251</td>\n",
              "    </tr>\n",
              "    <tr>\n",
              "      <th>min</th>\n",
              "      <td>28.000000</td>\n",
              "      <td>0.000000</td>\n",
              "      <td>1.000000</td>\n",
              "      <td>92.000000</td>\n",
              "      <td>85.000000</td>\n",
              "      <td>0.000000</td>\n",
              "      <td>0.000000</td>\n",
              "      <td>82.000000</td>\n",
              "      <td>0.000000</td>\n",
              "      <td>0.000000</td>\n",
              "      <td>0.000000</td>\n",
              "    </tr>\n",
              "    <tr>\n",
              "      <th>25%</th>\n",
              "      <td>42.000000</td>\n",
              "      <td>0.000000</td>\n",
              "      <td>2.000000</td>\n",
              "      <td>120.000000</td>\n",
              "      <td>211.000000</td>\n",
              "      <td>0.000000</td>\n",
              "      <td>0.000000</td>\n",
              "      <td>122.000000</td>\n",
              "      <td>0.000000</td>\n",
              "      <td>0.000000</td>\n",
              "      <td>0.000000</td>\n",
              "    </tr>\n",
              "    <tr>\n",
              "      <th>50%</th>\n",
              "      <td>49.000000</td>\n",
              "      <td>1.000000</td>\n",
              "      <td>3.000000</td>\n",
              "      <td>130.000000</td>\n",
              "      <td>248.000000</td>\n",
              "      <td>0.000000</td>\n",
              "      <td>0.000000</td>\n",
              "      <td>140.000000</td>\n",
              "      <td>0.000000</td>\n",
              "      <td>0.000000</td>\n",
              "      <td>0.000000</td>\n",
              "    </tr>\n",
              "    <tr>\n",
              "      <th>75%</th>\n",
              "      <td>54.000000</td>\n",
              "      <td>1.000000</td>\n",
              "      <td>4.000000</td>\n",
              "      <td>140.000000</td>\n",
              "      <td>277.000000</td>\n",
              "      <td>0.000000</td>\n",
              "      <td>0.000000</td>\n",
              "      <td>155.000000</td>\n",
              "      <td>1.000000</td>\n",
              "      <td>1.000000</td>\n",
              "      <td>1.000000</td>\n",
              "    </tr>\n",
              "    <tr>\n",
              "      <th>max</th>\n",
              "      <td>66.000000</td>\n",
              "      <td>1.000000</td>\n",
              "      <td>4.000000</td>\n",
              "      <td>200.000000</td>\n",
              "      <td>603.000000</td>\n",
              "      <td>1.000000</td>\n",
              "      <td>2.000000</td>\n",
              "      <td>190.000000</td>\n",
              "      <td>1.000000</td>\n",
              "      <td>5.000000</td>\n",
              "      <td>4.000000</td>\n",
              "    </tr>\n",
              "  </tbody>\n",
              "</table>\n",
              "</div>"
            ],
            "text/plain": [
              "              age         sex          cp    trestbps        chol         fbs  \\\n",
              "count  293.000000  293.000000  293.000000  293.000000  293.000000  293.000000   \n",
              "mean    47.822526    0.726962    2.986348  132.662116  250.860068    0.068259   \n",
              "std      7.824875    0.446282    0.965049   17.576793   65.059069    0.252622   \n",
              "min     28.000000    0.000000    1.000000   92.000000   85.000000    0.000000   \n",
              "25%     42.000000    0.000000    2.000000  120.000000  211.000000    0.000000   \n",
              "50%     49.000000    1.000000    3.000000  130.000000  248.000000    0.000000   \n",
              "75%     54.000000    1.000000    4.000000  140.000000  277.000000    0.000000   \n",
              "max     66.000000    1.000000    4.000000  200.000000  603.000000    1.000000   \n",
              "\n",
              "          restecg     thalach       exang     oldpeak      target  \n",
              "count  293.000000  293.000000  293.000000  293.000000  293.000000  \n",
              "mean     0.218430  139.058020    0.303754    0.588055    0.795222  \n",
              "std      0.460868   23.558003    0.460665    0.909554    1.238251  \n",
              "min      0.000000   82.000000    0.000000    0.000000    0.000000  \n",
              "25%      0.000000  122.000000    0.000000    0.000000    0.000000  \n",
              "50%      0.000000  140.000000    0.000000    0.000000    0.000000  \n",
              "75%      0.000000  155.000000    1.000000    1.000000    1.000000  \n",
              "max      2.000000  190.000000    1.000000    5.000000    4.000000  "
            ]
          },
          "execution_count": 47,
          "metadata": {},
          "output_type": "execute_result"
        }
      ],
      "source": [
        "dfClean.describe()"
      ]
    },
    {
      "cell_type": "markdown",
      "metadata": {
        "id": "qYU38qjrjBo2"
      },
      "source": [
        "Pada deskripsi diatas dapat dilihat bahwa terdapat rentang nilai yang cukup jauh pada standar deviasi setiap fitur dataset yang kita miliki. Oleh\n",
        "karena itu perlu dilakukan normalisasi/standarisasi agar memperkecil rentang antara standar deviasi setiap kolom."
      ]
    },
    {
      "cell_type": "code",
      "execution_count": 48,
      "metadata": {
        "colab": {
          "base_uri": "https://localhost:8080/"
        },
        "id": "2zL7a3XrjCaU",
        "outputId": "c931997a-65de-434d-df8a-dbb1c5d01694"
      },
      "outputs": [
        {
          "data": {
            "text/plain": [
              "935"
            ]
          },
          "execution_count": 48,
          "metadata": {},
          "output_type": "execute_result"
        }
      ],
      "source": [
        "from sklearn.preprocessing import MinMaxScaler\n",
        "scaler = MinMaxScaler()\n",
        "X_smote_resampled_normal = scaler.fit_transform(X_smote_resampled)\n",
        "len(X_smote_resampled_normal)"
      ]
    },
    {
      "cell_type": "code",
      "execution_count": 49,
      "metadata": {
        "colab": {
          "base_uri": "https://localhost:8080/",
          "height": 300
        },
        "id": "TGCCyy2kjGjW",
        "outputId": "0ea8ac7b-275a-40be-9270-b4c7848d8573"
      },
      "outputs": [
        {
          "data": {
            "text/html": [
              "<div>\n",
              "<style scoped>\n",
              "    .dataframe tbody tr th:only-of-type {\n",
              "        vertical-align: middle;\n",
              "    }\n",
              "\n",
              "    .dataframe tbody tr th {\n",
              "        vertical-align: top;\n",
              "    }\n",
              "\n",
              "    .dataframe thead th {\n",
              "        text-align: right;\n",
              "    }\n",
              "</style>\n",
              "<table border=\"1\" class=\"dataframe\">\n",
              "  <thead>\n",
              "    <tr style=\"text-align: right;\">\n",
              "      <th></th>\n",
              "      <th>0</th>\n",
              "      <th>1</th>\n",
              "      <th>2</th>\n",
              "      <th>3</th>\n",
              "      <th>4</th>\n",
              "      <th>5</th>\n",
              "      <th>6</th>\n",
              "      <th>7</th>\n",
              "      <th>8</th>\n",
              "      <th>9</th>\n",
              "    </tr>\n",
              "  </thead>\n",
              "  <tbody>\n",
              "    <tr>\n",
              "      <th>count</th>\n",
              "      <td>935.000000</td>\n",
              "      <td>935.000000</td>\n",
              "      <td>935.000000</td>\n",
              "      <td>935.000000</td>\n",
              "      <td>935.000000</td>\n",
              "      <td>935.000000</td>\n",
              "      <td>935.000000</td>\n",
              "      <td>935.000000</td>\n",
              "      <td>935.000000</td>\n",
              "      <td>935.000000</td>\n",
              "    </tr>\n",
              "    <tr>\n",
              "      <th>mean</th>\n",
              "      <td>0.563739</td>\n",
              "      <td>0.842507</td>\n",
              "      <td>0.818224</td>\n",
              "      <td>0.403413</td>\n",
              "      <td>0.341027</td>\n",
              "      <td>0.094277</td>\n",
              "      <td>0.117938</td>\n",
              "      <td>0.453354</td>\n",
              "      <td>0.598398</td>\n",
              "      <td>0.227015</td>\n",
              "    </tr>\n",
              "    <tr>\n",
              "      <th>std</th>\n",
              "      <td>0.174873</td>\n",
              "      <td>0.332492</td>\n",
              "      <td>0.274211</td>\n",
              "      <td>0.147493</td>\n",
              "      <td>0.110990</td>\n",
              "      <td>0.252030</td>\n",
              "      <td>0.199527</td>\n",
              "      <td>0.197232</td>\n",
              "      <td>0.450288</td>\n",
              "      <td>0.201293</td>\n",
              "    </tr>\n",
              "    <tr>\n",
              "      <th>min</th>\n",
              "      <td>0.000000</td>\n",
              "      <td>0.000000</td>\n",
              "      <td>0.000000</td>\n",
              "      <td>0.000000</td>\n",
              "      <td>0.000000</td>\n",
              "      <td>0.000000</td>\n",
              "      <td>0.000000</td>\n",
              "      <td>0.000000</td>\n",
              "      <td>0.000000</td>\n",
              "      <td>0.000000</td>\n",
              "    </tr>\n",
              "    <tr>\n",
              "      <th>25%</th>\n",
              "      <td>0.473283</td>\n",
              "      <td>1.000000</td>\n",
              "      <td>0.666667</td>\n",
              "      <td>0.305556</td>\n",
              "      <td>0.267954</td>\n",
              "      <td>0.000000</td>\n",
              "      <td>0.000000</td>\n",
              "      <td>0.312720</td>\n",
              "      <td>0.000000</td>\n",
              "      <td>0.000000</td>\n",
              "    </tr>\n",
              "    <tr>\n",
              "      <th>50%</th>\n",
              "      <td>0.578947</td>\n",
              "      <td>1.000000</td>\n",
              "      <td>1.000000</td>\n",
              "      <td>0.387952</td>\n",
              "      <td>0.330240</td>\n",
              "      <td>0.000000</td>\n",
              "      <td>0.000000</td>\n",
              "      <td>0.440606</td>\n",
              "      <td>0.962447</td>\n",
              "      <td>0.200000</td>\n",
              "    </tr>\n",
              "    <tr>\n",
              "      <th>75%</th>\n",
              "      <td>0.683363</td>\n",
              "      <td>1.000000</td>\n",
              "      <td>1.000000</td>\n",
              "      <td>0.487481</td>\n",
              "      <td>0.393811</td>\n",
              "      <td>0.000000</td>\n",
              "      <td>0.201473</td>\n",
              "      <td>0.593629</td>\n",
              "      <td>1.000000</td>\n",
              "      <td>0.386166</td>\n",
              "    </tr>\n",
              "    <tr>\n",
              "      <th>max</th>\n",
              "      <td>1.000000</td>\n",
              "      <td>1.000000</td>\n",
              "      <td>1.000000</td>\n",
              "      <td>1.000000</td>\n",
              "      <td>1.000000</td>\n",
              "      <td>1.000000</td>\n",
              "      <td>1.000000</td>\n",
              "      <td>1.000000</td>\n",
              "      <td>1.000000</td>\n",
              "      <td>1.000000</td>\n",
              "    </tr>\n",
              "  </tbody>\n",
              "</table>\n",
              "</div>"
            ],
            "text/plain": [
              "                0           1           2           3           4           5  \\\n",
              "count  935.000000  935.000000  935.000000  935.000000  935.000000  935.000000   \n",
              "mean     0.563739    0.842507    0.818224    0.403413    0.341027    0.094277   \n",
              "std      0.174873    0.332492    0.274211    0.147493    0.110990    0.252030   \n",
              "min      0.000000    0.000000    0.000000    0.000000    0.000000    0.000000   \n",
              "25%      0.473283    1.000000    0.666667    0.305556    0.267954    0.000000   \n",
              "50%      0.578947    1.000000    1.000000    0.387952    0.330240    0.000000   \n",
              "75%      0.683363    1.000000    1.000000    0.487481    0.393811    0.000000   \n",
              "max      1.000000    1.000000    1.000000    1.000000    1.000000    1.000000   \n",
              "\n",
              "                6           7           8           9  \n",
              "count  935.000000  935.000000  935.000000  935.000000  \n",
              "mean     0.117938    0.453354    0.598398    0.227015  \n",
              "std      0.199527    0.197232    0.450288    0.201293  \n",
              "min      0.000000    0.000000    0.000000    0.000000  \n",
              "25%      0.000000    0.312720    0.000000    0.000000  \n",
              "50%      0.000000    0.440606    0.962447    0.200000  \n",
              "75%      0.201473    0.593629    1.000000    0.386166  \n",
              "max      1.000000    1.000000    1.000000    1.000000  "
            ]
          },
          "execution_count": 49,
          "metadata": {},
          "output_type": "execute_result"
        }
      ],
      "source": [
        "dfcek1 = pd.DataFrame(X_smote_resampled_normal)\n",
        "dfcek1.describe()"
      ]
    },
    {
      "cell_type": "markdown",
      "metadata": {
        "id": "6weQiFlPjLI6"
      },
      "source": [
        "Setelah dilakukan normalisasi pada fitur, selanjutnya kita perlu membagi fitur dan target menjadi data train dan test."
      ]
    },
    {
      "cell_type": "code",
      "execution_count": 50,
      "metadata": {
        "id": "pQXn_kAOjMAU"
      },
      "outputs": [],
      "source": [
        "from sklearn.model_selection import train_test_split\n",
        "# membagi fitur dan target menjadi data train dan test (untuk yang oversample saja)\n",
        "X_train, X_test, y_train, y_test = train_test_split(X_smote_resampled, y_smote_resampled, test_size=0.2, random_state=42,stratify=y_smote_resampled)\n",
        "# membagi fitur dan target menjadi data train dan test (untuk yang oversample + normalization)\n",
        "X_train_normal, X_test_normal, y_train_normal, y_test_normal = train_test_split(X_smote_resampled_normal, y_smote_resampled, test_size=0.2, random_state=42,stratify = y_smote_resampled)"
      ]
    },
    {
      "cell_type": "markdown",
      "metadata": {
        "id": "BQVZ894LjRb6"
      },
      "source": [
        "# **Model**"
      ]
    },
    {
      "cell_type": "markdown",
      "metadata": {
        "id": "w54p8rCbjX5b"
      },
      "source": [
        "Pada tahap ini kita akan memulai untuk membangun sebuah model.\n",
        "\n",
        "Dibawah ini merupakan sebuah fungsi untuk menampilkan hasil akurasi dan rata - rata dari recall , f1 dan precision score setiap model. Fungsi\n",
        "ini nantinya akan dipanggil di setiap model. Membuat Fungsi ini bersifat opsional."
      ]
    },
    {
      "cell_type": "code",
      "execution_count": 51,
      "metadata": {
        "id": "ej_ympS_juuu"
      },
      "outputs": [],
      "source": [
        "from sklearn.metrics import accuracy_score,recall_score,f1_score,precision_score,roc_auc_score,confusion_matrix,precision_score"
      ]
    },
    {
      "cell_type": "code",
      "execution_count": 52,
      "metadata": {
        "id": "GifACq7ZjPiN"
      },
      "outputs": [],
      "source": [
        "def evaluation(Y_test,Y_pred):\n",
        "    acc = accuracy_score(Y_test,Y_pred)\n",
        "    rcl = recall_score(Y_test,Y_pred,average = 'weighted')\n",
        "    f1 = f1_score(Y_test,Y_pred,average = 'weighted')\n",
        "    ps = precision_score(Y_test,Y_pred,average = 'weighted')\n",
        "    metric_dict={'accuracy': round(acc,3),\n",
        "                'recall': round(rcl,3),\n",
        "                'F1 score': round(f1,3),\n",
        "                'Precision score': round(ps,3)\n",
        "    }\n",
        "    return print(metric_dict)"
      ]
    },
    {
      "cell_type": "markdown",
      "metadata": {
        "id": "tyv1h5NnkOEX"
      },
      "source": [
        "# **Oversample**"
      ]
    },
    {
      "cell_type": "markdown",
      "metadata": {
        "id": "qCrxgmfxkQJ3"
      },
      "source": [
        "# **KNN**"
      ]
    },
    {
      "cell_type": "markdown",
      "metadata": {
        "id": "74nbU_AQkhfu"
      },
      "source": [
        "Pada tahap ini kita akan akan memulai membangun model dengan algoritma KNN dengan nilai neighbors yaitu 3."
      ]
    },
    {
      "cell_type": "code",
      "execution_count": 53,
      "metadata": {
        "colab": {
          "base_uri": "https://localhost:8080/",
          "height": 74
        },
        "id": "gaJPN-eAjQ6z",
        "outputId": "64af3b89-d738-4e9c-e1d4-cf7d0f8788b1"
      },
      "outputs": [
        {
          "data": {
            "text/html": [
              "<style>#sk-container-id-1 {color: black;}#sk-container-id-1 pre{padding: 0;}#sk-container-id-1 div.sk-toggleable {background-color: white;}#sk-container-id-1 label.sk-toggleable__label {cursor: pointer;display: block;width: 100%;margin-bottom: 0;padding: 0.3em;box-sizing: border-box;text-align: center;}#sk-container-id-1 label.sk-toggleable__label-arrow:before {content: \"▸\";float: left;margin-right: 0.25em;color: #696969;}#sk-container-id-1 label.sk-toggleable__label-arrow:hover:before {color: black;}#sk-container-id-1 div.sk-estimator:hover label.sk-toggleable__label-arrow:before {color: black;}#sk-container-id-1 div.sk-toggleable__content {max-height: 0;max-width: 0;overflow: hidden;text-align: left;background-color: #f0f8ff;}#sk-container-id-1 div.sk-toggleable__content pre {margin: 0.2em;color: black;border-radius: 0.25em;background-color: #f0f8ff;}#sk-container-id-1 input.sk-toggleable__control:checked~div.sk-toggleable__content {max-height: 200px;max-width: 100%;overflow: auto;}#sk-container-id-1 input.sk-toggleable__control:checked~label.sk-toggleable__label-arrow:before {content: \"▾\";}#sk-container-id-1 div.sk-estimator input.sk-toggleable__control:checked~label.sk-toggleable__label {background-color: #d4ebff;}#sk-container-id-1 div.sk-label input.sk-toggleable__control:checked~label.sk-toggleable__label {background-color: #d4ebff;}#sk-container-id-1 input.sk-hidden--visually {border: 0;clip: rect(1px 1px 1px 1px);clip: rect(1px, 1px, 1px, 1px);height: 1px;margin: -1px;overflow: hidden;padding: 0;position: absolute;width: 1px;}#sk-container-id-1 div.sk-estimator {font-family: monospace;background-color: #f0f8ff;border: 1px dotted black;border-radius: 0.25em;box-sizing: border-box;margin-bottom: 0.5em;}#sk-container-id-1 div.sk-estimator:hover {background-color: #d4ebff;}#sk-container-id-1 div.sk-parallel-item::after {content: \"\";width: 100%;border-bottom: 1px solid gray;flex-grow: 1;}#sk-container-id-1 div.sk-label:hover label.sk-toggleable__label {background-color: #d4ebff;}#sk-container-id-1 div.sk-serial::before {content: \"\";position: absolute;border-left: 1px solid gray;box-sizing: border-box;top: 0;bottom: 0;left: 50%;z-index: 0;}#sk-container-id-1 div.sk-serial {display: flex;flex-direction: column;align-items: center;background-color: white;padding-right: 0.2em;padding-left: 0.2em;position: relative;}#sk-container-id-1 div.sk-item {position: relative;z-index: 1;}#sk-container-id-1 div.sk-parallel {display: flex;align-items: stretch;justify-content: center;background-color: white;position: relative;}#sk-container-id-1 div.sk-item::before, #sk-container-id-1 div.sk-parallel-item::before {content: \"\";position: absolute;border-left: 1px solid gray;box-sizing: border-box;top: 0;bottom: 0;left: 50%;z-index: -1;}#sk-container-id-1 div.sk-parallel-item {display: flex;flex-direction: column;z-index: 1;position: relative;background-color: white;}#sk-container-id-1 div.sk-parallel-item:first-child::after {align-self: flex-end;width: 50%;}#sk-container-id-1 div.sk-parallel-item:last-child::after {align-self: flex-start;width: 50%;}#sk-container-id-1 div.sk-parallel-item:only-child::after {width: 0;}#sk-container-id-1 div.sk-dashed-wrapped {border: 1px dashed gray;margin: 0 0.4em 0.5em 0.4em;box-sizing: border-box;padding-bottom: 0.4em;background-color: white;}#sk-container-id-1 div.sk-label label {font-family: monospace;font-weight: bold;display: inline-block;line-height: 1.2em;}#sk-container-id-1 div.sk-label-container {text-align: center;}#sk-container-id-1 div.sk-container {/* jupyter's `normalize.less` sets `[hidden] { display: none; }` but bootstrap.min.css set `[hidden] { display: none !important; }` so we also need the `!important` here to be able to override the default hidden behavior on the sphinx rendered scikit-learn.org. See: https://github.com/scikit-learn/scikit-learn/issues/21755 */display: inline-block !important;position: relative;}#sk-container-id-1 div.sk-text-repr-fallback {display: none;}</style><div id=\"sk-container-id-1\" class=\"sk-top-container\"><div class=\"sk-text-repr-fallback\"><pre>KNeighborsClassifier(n_neighbors=3)</pre><b>In a Jupyter environment, please rerun this cell to show the HTML representation or trust the notebook. <br />On GitHub, the HTML representation is unable to render, please try loading this page with nbviewer.org.</b></div><div class=\"sk-container\" hidden><div class=\"sk-item\"><div class=\"sk-estimator sk-toggleable\"><input class=\"sk-toggleable__control sk-hidden--visually\" id=\"sk-estimator-id-1\" type=\"checkbox\" checked><label for=\"sk-estimator-id-1\" class=\"sk-toggleable__label sk-toggleable__label-arrow\">KNeighborsClassifier</label><div class=\"sk-toggleable__content\"><pre>KNeighborsClassifier(n_neighbors=3)</pre></div></div></div></div></div>"
            ],
            "text/plain": [
              "KNeighborsClassifier(n_neighbors=3)"
            ]
          },
          "execution_count": 53,
          "metadata": {},
          "output_type": "execute_result"
        }
      ],
      "source": [
        "from sklearn.neighbors import KNeighborsClassifier\n",
        "from sklearn.ensemble import RandomForestClassifier\n",
        "from xgboost import XGBClassifier\n",
        "from sklearn.metrics import accuracy_score, classification_report\n",
        "\n",
        "KNeighborsClassifier\n",
        "KNeighborsClassifier(n_neighbors=3)\n",
        "knn_model = KNeighborsClassifier(n_neighbors = 3)\n",
        "knn_model.fit(X_train, y_train)"
      ]
    },
    {
      "cell_type": "markdown",
      "metadata": {
        "id": "sMP8mjwUkrFf"
      },
      "source": [
        "**Berikut adalah kode program untuk menampilkan hasil akurasi dengan algoritma KNN**"
      ]
    },
    {
      "cell_type": "code",
      "execution_count": 54,
      "metadata": {
        "colab": {
          "base_uri": "https://localhost:8080/"
        },
        "id": "6h5W2A2QkkL9",
        "outputId": "d3d709d4-877c-4a5c-e641-19635ff02721"
      },
      "outputs": [
        {
          "name": "stdout",
          "output_type": "stream",
          "text": [
            "K-Nearest Neighbors (KNN) Model:\n",
            "Accuracy: 0.754\n",
            "Classification Report:\n",
            "              precision    recall  f1-score   support\n",
            "\n",
            "         0.0       0.65      0.39      0.49        38\n",
            "         1.0       0.73      0.81      0.77        37\n",
            "         2.0       0.80      0.86      0.83        37\n",
            "         3.0       0.77      0.87      0.81        38\n",
            "         4.0       0.78      0.84      0.81        37\n",
            "\n",
            "    accuracy                           0.75       187\n",
            "   macro avg       0.75      0.76      0.74       187\n",
            "weighted avg       0.74      0.75      0.74       187\n",
            "\n"
          ]
        }
      ],
      "source": [
        "y_pred_knn = knn_model.predict(X_test)\n",
        "# Evaluate the KNN model\n",
        "print(\"K-Nearest Neighbors (KNN) Model:\")\n",
        "accuracy_knn_smote = round(accuracy_score(y_test,y_pred_knn),3)\n",
        "print(\"Accuracy:\", accuracy_knn_smote)\n",
        "print(\"Classification Report:\")\n",
        "print(classification_report(y_test, y_pred_knn))"
      ]
    },
    {
      "cell_type": "code",
      "execution_count": 55,
      "metadata": {
        "colab": {
          "base_uri": "https://localhost:8080/"
        },
        "id": "8f6Z4GPHkmuF",
        "outputId": "c998aa0d-c173-4e36-d743-ead235615461"
      },
      "outputs": [
        {
          "name": "stdout",
          "output_type": "stream",
          "text": [
            "{'accuracy': 0.754, 'recall': 0.754, 'F1 score': 0.741, 'Precision score': 0.745}\n"
          ]
        }
      ],
      "source": [
        "evaluation(y_test,y_pred_knn)"
      ]
    },
    {
      "cell_type": "markdown",
      "metadata": {
        "id": "KbfcKSupkywo"
      },
      "source": [
        "Pada visualisasi ini ditampilkan visualisasi confusion matrix untuk membandingkan hasil prediksi model dengan nilai sebenarnya."
      ]
    },
    {
      "cell_type": "code",
      "execution_count": 56,
      "metadata": {
        "colab": {
          "base_uri": "https://localhost:8080/",
          "height": 564
        },
        "id": "fis_L1gHkwff",
        "outputId": "892449c3-e4b6-4669-ea72-f768d456ce37"
      },
      "outputs": [
        {
          "data": {
            "image/png": "[encoded data removed]",
            "text/plain": [
              "<Figure size 800x600 with 2 Axes>"
            ]
          },
          "metadata": {},
          "output_type": "display_data"
        }
      ],
      "source": [
        "cm = confusion_matrix(y_test, y_pred_knn)\n",
        "plt.figure(figsize=(8, 6))\n",
        "sns.heatmap(cm, annot=True, fmt=\"d\", cmap=\"Blues\")\n",
        "plt.title('Confusion Matrix')\n",
        "plt.xlabel('True')\n",
        "plt.ylabel('Predict')\n",
        "plt.show()"
      ]
    },
    {
      "cell_type": "markdown",
      "metadata": {
        "id": "i4itSLSdlHXK"
      },
      "source": [
        "# **Random Forest**"
      ]
    },
    {
      "cell_type": "markdown",
      "metadata": {
        "id": "y84kjS1NlMoh"
      },
      "source": [
        "Selanjutnya kita akan membangun model dengan algoritma random forest dengan n_estimators yaitu 100, n_estimators sendiri berguna mengatur jumlah pohon keputusan yang akan dibangun"
      ]
    },
    {
      "cell_type": "code",
      "execution_count": 57,
      "metadata": {
        "colab": {
          "base_uri": "https://localhost:8080/",
          "height": 74
        },
        "id": "WRaNpMXUk0o3",
        "outputId": "08db7d7c-fb1f-4f4b-ee02-8b0e3e0736f0"
      },
      "outputs": [
        {
          "data": {
            "text/html": [
              "<style>#sk-container-id-2 {color: black;}#sk-container-id-2 pre{padding: 0;}#sk-container-id-2 div.sk-toggleable {background-color: white;}#sk-container-id-2 label.sk-toggleable__label {cursor: pointer;display: block;width: 100%;margin-bottom: 0;padding: 0.3em;box-sizing: border-box;text-align: center;}#sk-container-id-2 label.sk-toggleable__label-arrow:before {content: \"▸\";float: left;margin-right: 0.25em;color: #696969;}#sk-container-id-2 label.sk-toggleable__label-arrow:hover:before {color: black;}#sk-container-id-2 div.sk-estimator:hover label.sk-toggleable__label-arrow:before {color: black;}#sk-container-id-2 div.sk-toggleable__content {max-height: 0;max-width: 0;overflow: hidden;text-align: left;background-color: #f0f8ff;}#sk-container-id-2 div.sk-toggleable__content pre {margin: 0.2em;color: black;border-radius: 0.25em;background-color: #f0f8ff;}#sk-container-id-2 input.sk-toggleable__control:checked~div.sk-toggleable__content {max-height: 200px;max-width: 100%;overflow: auto;}#sk-container-id-2 input.sk-toggleable__control:checked~label.sk-toggleable__label-arrow:before {content: \"▾\";}#sk-container-id-2 div.sk-estimator input.sk-toggleable__control:checked~label.sk-toggleable__label {background-color: #d4ebff;}#sk-container-id-2 div.sk-label input.sk-toggleable__control:checked~label.sk-toggleable__label {background-color: #d4ebff;}#sk-container-id-2 input.sk-hidden--visually {border: 0;clip: rect(1px 1px 1px 1px);clip: rect(1px, 1px, 1px, 1px);height: 1px;margin: -1px;overflow: hidden;padding: 0;position: absolute;width: 1px;}#sk-container-id-2 div.sk-estimator {font-family: monospace;background-color: #f0f8ff;border: 1px dotted black;border-radius: 0.25em;box-sizing: border-box;margin-bottom: 0.5em;}#sk-container-id-2 div.sk-estimator:hover {background-color: #d4ebff;}#sk-container-id-2 div.sk-parallel-item::after {content: \"\";width: 100%;border-bottom: 1px solid gray;flex-grow: 1;}#sk-container-id-2 div.sk-label:hover label.sk-toggleable__label {background-color: #d4ebff;}#sk-container-id-2 div.sk-serial::before {content: \"\";position: absolute;border-left: 1px solid gray;box-sizing: border-box;top: 0;bottom: 0;left: 50%;z-index: 0;}#sk-container-id-2 div.sk-serial {display: flex;flex-direction: column;align-items: center;background-color: white;padding-right: 0.2em;padding-left: 0.2em;position: relative;}#sk-container-id-2 div.sk-item {position: relative;z-index: 1;}#sk-container-id-2 div.sk-parallel {display: flex;align-items: stretch;justify-content: center;background-color: white;position: relative;}#sk-container-id-2 div.sk-item::before, #sk-container-id-2 div.sk-parallel-item::before {content: \"\";position: absolute;border-left: 1px solid gray;box-sizing: border-box;top: 0;bottom: 0;left: 50%;z-index: -1;}#sk-container-id-2 div.sk-parallel-item {display: flex;flex-direction: column;z-index: 1;position: relative;background-color: white;}#sk-container-id-2 div.sk-parallel-item:first-child::after {align-self: flex-end;width: 50%;}#sk-container-id-2 div.sk-parallel-item:last-child::after {align-self: flex-start;width: 50%;}#sk-container-id-2 div.sk-parallel-item:only-child::after {width: 0;}#sk-container-id-2 div.sk-dashed-wrapped {border: 1px dashed gray;margin: 0 0.4em 0.5em 0.4em;box-sizing: border-box;padding-bottom: 0.4em;background-color: white;}#sk-container-id-2 div.sk-label label {font-family: monospace;font-weight: bold;display: inline-block;line-height: 1.2em;}#sk-container-id-2 div.sk-label-container {text-align: center;}#sk-container-id-2 div.sk-container {/* jupyter's `normalize.less` sets `[hidden] { display: none; }` but bootstrap.min.css set `[hidden] { display: none !important; }` so we also need the `!important` here to be able to override the default hidden behavior on the sphinx rendered scikit-learn.org. See: https://github.com/scikit-learn/scikit-learn/issues/21755 */display: inline-block !important;position: relative;}#sk-container-id-2 div.sk-text-repr-fallback {display: none;}</style><div id=\"sk-container-id-2\" class=\"sk-top-container\"><div class=\"sk-text-repr-fallback\"><pre>RandomForestClassifier(random_state=42)</pre><b>In a Jupyter environment, please rerun this cell to show the HTML representation or trust the notebook. <br />On GitHub, the HTML representation is unable to render, please try loading this page with nbviewer.org.</b></div><div class=\"sk-container\" hidden><div class=\"sk-item\"><div class=\"sk-estimator sk-toggleable\"><input class=\"sk-toggleable__control sk-hidden--visually\" id=\"sk-estimator-id-2\" type=\"checkbox\" checked><label for=\"sk-estimator-id-2\" class=\"sk-toggleable__label sk-toggleable__label-arrow\">RandomForestClassifier</label><div class=\"sk-toggleable__content\"><pre>RandomForestClassifier(random_state=42)</pre></div></div></div></div></div>"
            ],
            "text/plain": [
              "RandomForestClassifier(random_state=42)"
            ]
          },
          "execution_count": 57,
          "metadata": {},
          "output_type": "execute_result"
        }
      ],
      "source": [
        "rf_model = RandomForestClassifier(n_estimators=100, random_state=42)\n",
        "rf_model.fit(X_train, y_train)"
      ]
    },
    {
      "cell_type": "code",
      "execution_count": 58,
      "metadata": {},
      "outputs": [],
      "source": [
        "import pickle\n",
        "\n",
        "# Save the Random Forest model\n",
        "with open('random_forest_model.pkl', 'wb') as file:\n",
        "    pickle.dump(rf_model, file)\n"
      ]
    },
    {
      "cell_type": "code",
      "execution_count": 59,
      "metadata": {
        "colab": {
          "base_uri": "https://localhost:8080/"
        },
        "id": "6MfPtT39lPiH",
        "outputId": "cbd1fb7b-f21c-41c0-9843-6b3e9c5c8147"
      },
      "outputs": [
        {
          "name": "stdout",
          "output_type": "stream",
          "text": [
            "\n",
            "Random Forest Model:\n",
            "Accuracy: 0.92\n",
            "Classification Report:\n",
            "              precision    recall  f1-score   support\n",
            "\n",
            "         0.0       0.94      0.89      0.92        38\n",
            "         1.0       0.85      0.92      0.88        37\n",
            "         2.0       0.89      0.89      0.89        37\n",
            "         3.0       0.95      0.97      0.96        38\n",
            "         4.0       0.97      0.92      0.94        37\n",
            "\n",
            "    accuracy                           0.92       187\n",
            "   macro avg       0.92      0.92      0.92       187\n",
            "weighted avg       0.92      0.92      0.92       187\n",
            "\n"
          ]
        }
      ],
      "source": [
        "y_pred_rf = rf_model.predict(X_test)\n",
        "# Evaluate the Random Forest model\n",
        "print(\"\\nRandom Forest Model:\")\n",
        "accuracy_rf_smote = round(accuracy_score(y_test, y_pred_rf),3)\n",
        "print(\"Accuracy:\",accuracy_rf_smote)\n",
        "print(\"Classification Report:\")\n",
        "print(classification_report(y_test, y_pred_rf))"
      ]
    },
    {
      "cell_type": "code",
      "execution_count": 60,
      "metadata": {
        "colab": {
          "base_uri": "https://localhost:8080/"
        },
        "id": "ojKTIKH4lPbV",
        "outputId": "c507e85b-0231-4a75-8a10-4b9f695abe94"
      },
      "outputs": [
        {
          "name": "stdout",
          "output_type": "stream",
          "text": [
            "{'accuracy': 0.92, 'recall': 0.92, 'F1 score': 0.92, 'Precision score': 0.922}\n"
          ]
        }
      ],
      "source": [
        "evaluation(y_test,y_pred_rf)"
      ]
    },
    {
      "cell_type": "code",
      "execution_count": 61,
      "metadata": {
        "colab": {
          "base_uri": "https://localhost:8080/",
          "height": 564
        },
        "id": "pDWR4x0dlVMf",
        "outputId": "a8309e40-1a4e-4d31-efd6-bd5f96a79b24"
      },
      "outputs": [
        {
          "data": {
            "image/png": "[encoded data removed]",
            "text/plain": [
              "<Figure size 800x600 with 2 Axes>"
            ]
          },
          "metadata": {},
          "output_type": "display_data"
        }
      ],
      "source": [
        "cm = confusion_matrix(y_test, y_pred_rf)\n",
        "plt.figure(figsize=(8, 6))\n",
        "sns.heatmap(cm, annot=True, fmt=\"d\", cmap=\"Blues\")\n",
        "plt.title('Confusion Matrix')\n",
        "plt.xlabel('True')\n",
        "plt.ylabel('Predict')\n",
        "plt.show()"
      ]
    },
    {
      "cell_type": "markdown",
      "metadata": {
        "id": "PwzlYcE5nU_z"
      },
      "source": [
        "# **XGBoost**"
      ]
    },
    {
      "cell_type": "markdown",
      "metadata": {
        "id": "J5r-xPzrnZg5"
      },
      "source": [
        "Pada tahap ini dalam membangun model, kita akan menggunakan algoritma XGBoost dengan learning rate yaitu 0.1. learning rate berguna untuk mengontrol seberapa besar kita menyesuaikan bobot model."
      ]
    },
    {
      "cell_type": "code",
      "execution_count": 62,
      "metadata": {
        "colab": {
          "base_uri": "https://localhost:8080/",
          "height": 248
        },
        "id": "e4pxF7kElXAC",
        "outputId": "82fc8fa4-7f1b-4960-cf77-34333881568b"
      },
      "outputs": [
        {
          "data": {
            "text/html": [
              "<style>#sk-container-id-3 {color: black;}#sk-container-id-3 pre{padding: 0;}#sk-container-id-3 div.sk-toggleable {background-color: white;}#sk-container-id-3 label.sk-toggleable__label {cursor: pointer;display: block;width: 100%;margin-bottom: 0;padding: 0.3em;box-sizing: border-box;text-align: center;}#sk-container-id-3 label.sk-toggleable__label-arrow:before {content: \"▸\";float: left;margin-right: 0.25em;color: #696969;}#sk-container-id-3 label.sk-toggleable__label-arrow:hover:before {color: black;}#sk-container-id-3 div.sk-estimator:hover label.sk-toggleable__label-arrow:before {color: black;}#sk-container-id-3 div.sk-toggleable__content {max-height: 0;max-width: 0;overflow: hidden;text-align: left;background-color: #f0f8ff;}#sk-container-id-3 div.sk-toggleable__content pre {margin: 0.2em;color: black;border-radius: 0.25em;background-color: #f0f8ff;}#sk-container-id-3 input.sk-toggleable__control:checked~div.sk-toggleable__content {max-height: 200px;max-width: 100%;overflow: auto;}#sk-container-id-3 input.sk-toggleable__control:checked~label.sk-toggleable__label-arrow:before {content: \"▾\";}#sk-container-id-3 div.sk-estimator input.sk-toggleable__control:checked~label.sk-toggleable__label {background-color: #d4ebff;}#sk-container-id-3 div.sk-label input.sk-toggleable__control:checked~label.sk-toggleable__label {background-color: #d4ebff;}#sk-container-id-3 input.sk-hidden--visually {border: 0;clip: rect(1px 1px 1px 1px);clip: rect(1px, 1px, 1px, 1px);height: 1px;margin: -1px;overflow: hidden;padding: 0;position: absolute;width: 1px;}#sk-container-id-3 div.sk-estimator {font-family: monospace;background-color: #f0f8ff;border: 1px dotted black;border-radius: 0.25em;box-sizing: border-box;margin-bottom: 0.5em;}#sk-container-id-3 div.sk-estimator:hover {background-color: #d4ebff;}#sk-container-id-3 div.sk-parallel-item::after {content: \"\";width: 100%;border-bottom: 1px solid gray;flex-grow: 1;}#sk-container-id-3 div.sk-label:hover label.sk-toggleable__label {background-color: #d4ebff;}#sk-container-id-3 div.sk-serial::before {content: \"\";position: absolute;border-left: 1px solid gray;box-sizing: border-box;top: 0;bottom: 0;left: 50%;z-index: 0;}#sk-container-id-3 div.sk-serial {display: flex;flex-direction: column;align-items: center;background-color: white;padding-right: 0.2em;padding-left: 0.2em;position: relative;}#sk-container-id-3 div.sk-item {position: relative;z-index: 1;}#sk-container-id-3 div.sk-parallel {display: flex;align-items: stretch;justify-content: center;background-color: white;position: relative;}#sk-container-id-3 div.sk-item::before, #sk-container-id-3 div.sk-parallel-item::before {content: \"\";position: absolute;border-left: 1px solid gray;box-sizing: border-box;top: 0;bottom: 0;left: 50%;z-index: -1;}#sk-container-id-3 div.sk-parallel-item {display: flex;flex-direction: column;z-index: 1;position: relative;background-color: white;}#sk-container-id-3 div.sk-parallel-item:first-child::after {align-self: flex-end;width: 50%;}#sk-container-id-3 div.sk-parallel-item:last-child::after {align-self: flex-start;width: 50%;}#sk-container-id-3 div.sk-parallel-item:only-child::after {width: 0;}#sk-container-id-3 div.sk-dashed-wrapped {border: 1px dashed gray;margin: 0 0.4em 0.5em 0.4em;box-sizing: border-box;padding-bottom: 0.4em;background-color: white;}#sk-container-id-3 div.sk-label label {font-family: monospace;font-weight: bold;display: inline-block;line-height: 1.2em;}#sk-container-id-3 div.sk-label-container {text-align: center;}#sk-container-id-3 div.sk-container {/* jupyter's `normalize.less` sets `[hidden] { display: none; }` but bootstrap.min.css set `[hidden] { display: none !important; }` so we also need the `!important` here to be able to override the default hidden behavior on the sphinx rendered scikit-learn.org. See: https://github.com/scikit-learn/scikit-learn/issues/21755 */display: inline-block !important;position: relative;}#sk-container-id-3 div.sk-text-repr-fallback {display: none;}</style><div id=\"sk-container-id-3\" class=\"sk-top-container\"><div class=\"sk-text-repr-fallback\"><pre>XGBClassifier(base_score=None, booster=None, callbacks=None,\n",
              "              colsample_bylevel=None, colsample_bynode=None,\n",
              "              colsample_bytree=None, device=None, early_stopping_rounds=None,\n",
              "              enable_categorical=False, eval_metric=None, feature_types=None,\n",
              "              gamma=None, grow_policy=None, importance_type=None,\n",
              "              interaction_constraints=None, learning_rate=0.1, max_bin=None,\n",
              "              max_cat_threshold=None, max_cat_to_onehot=None,\n",
              "              max_delta_step=None, max_depth=None, max_leaves=None,\n",
              "              min_child_weight=None, missing=nan, monotone_constraints=None,\n",
              "              multi_strategy=None, n_estimators=100, n_jobs=None,\n",
              "              num_parallel_tree=None, objective=&#x27;multi:softprob&#x27;, ...)</pre><b>In a Jupyter environment, please rerun this cell to show the HTML representation or trust the notebook. <br />On GitHub, the HTML representation is unable to render, please try loading this page with nbviewer.org.</b></div><div class=\"sk-container\" hidden><div class=\"sk-item\"><div class=\"sk-estimator sk-toggleable\"><input class=\"sk-toggleable__control sk-hidden--visually\" id=\"sk-estimator-id-3\" type=\"checkbox\" checked><label for=\"sk-estimator-id-3\" class=\"sk-toggleable__label sk-toggleable__label-arrow\">XGBClassifier</label><div class=\"sk-toggleable__content\"><pre>XGBClassifier(base_score=None, booster=None, callbacks=None,\n",
              "              colsample_bylevel=None, colsample_bynode=None,\n",
              "              colsample_bytree=None, device=None, early_stopping_rounds=None,\n",
              "              enable_categorical=False, eval_metric=None, feature_types=None,\n",
              "              gamma=None, grow_policy=None, importance_type=None,\n",
              "              interaction_constraints=None, learning_rate=0.1, max_bin=None,\n",
              "              max_cat_threshold=None, max_cat_to_onehot=None,\n",
              "              max_delta_step=None, max_depth=None, max_leaves=None,\n",
              "              min_child_weight=None, missing=nan, monotone_constraints=None,\n",
              "              multi_strategy=None, n_estimators=100, n_jobs=None,\n",
              "              num_parallel_tree=None, objective=&#x27;multi:softprob&#x27;, ...)</pre></div></div></div></div></div>"
            ],
            "text/plain": [
              "XGBClassifier(base_score=None, booster=None, callbacks=None,\n",
              "              colsample_bylevel=None, colsample_bynode=None,\n",
              "              colsample_bytree=None, device=None, early_stopping_rounds=None,\n",
              "              enable_categorical=False, eval_metric=None, feature_types=None,\n",
              "              gamma=None, grow_policy=None, importance_type=None,\n",
              "              interaction_constraints=None, learning_rate=0.1, max_bin=None,\n",
              "              max_cat_threshold=None, max_cat_to_onehot=None,\n",
              "              max_delta_step=None, max_depth=None, max_leaves=None,\n",
              "              min_child_weight=None, missing=nan, monotone_constraints=None,\n",
              "              multi_strategy=None, n_estimators=100, n_jobs=None,\n",
              "              num_parallel_tree=None, objective='multi:softprob', ...)"
            ]
          },
          "execution_count": 62,
          "metadata": {},
          "output_type": "execute_result"
        }
      ],
      "source": [
        "xgb_model = XGBClassifier(learning_rate=0.1, n_estimators=100, random_state=42)\n",
        "xgb_model.fit(X_train, y_train)"
      ]
    },
    {
      "cell_type": "code",
      "execution_count": 63,
      "metadata": {
        "colab": {
          "base_uri": "https://localhost:8080/"
        },
        "id": "MzOuS0cMnb_R",
        "outputId": "a04371b4-4439-4b8d-bdc8-e720d0dcadbf"
      },
      "outputs": [
        {
          "name": "stdout",
          "output_type": "stream",
          "text": [
            "\n",
            "XGBoost Model:\n",
            "Accuracy: 0.904\n",
            "Classification Report:\n",
            "              precision    recall  f1-score   support\n",
            "\n",
            "         0.0       0.92      0.89      0.91        38\n",
            "         1.0       0.94      0.84      0.89        37\n",
            "         2.0       0.85      0.89      0.87        37\n",
            "         3.0       0.88      0.97      0.93        38\n",
            "         4.0       0.94      0.92      0.93        37\n",
            "\n",
            "    accuracy                           0.90       187\n",
            "   macro avg       0.91      0.90      0.90       187\n",
            "weighted avg       0.91      0.90      0.90       187\n",
            "\n"
          ]
        }
      ],
      "source": [
        "y_pred_xgb = xgb_model.predict(X_test)\n",
        "# Evaluate the XGBoost model\n",
        "print(\"\\nXGBoost Model:\")\n",
        "accuracy_xgb_smote = round(accuracy_score(y_test, y_pred_xgb),3)\n",
        "print(\"Accuracy:\",accuracy_xgb_smote)\n",
        "print(\"Classification Report:\")\n",
        "print(classification_report(y_test, y_pred_xgb))"
      ]
    },
    {
      "cell_type": "code",
      "execution_count": 64,
      "metadata": {
        "colab": {
          "base_uri": "https://localhost:8080/"
        },
        "id": "Cc9yX3xUndhi",
        "outputId": "d0f5ac6e-5027-4aee-e763-61f2b27e7a2d"
      },
      "outputs": [
        {
          "name": "stdout",
          "output_type": "stream",
          "text": [
            "{'accuracy': 0.904, 'recall': 0.904, 'F1 score': 0.904, 'Precision score': 0.906}\n"
          ]
        }
      ],
      "source": [
        "evaluation(y_test,y_pred_xgb)"
      ]
    },
    {
      "cell_type": "code",
      "execution_count": 65,
      "metadata": {
        "colab": {
          "base_uri": "https://localhost:8080/",
          "height": 564
        },
        "id": "dbcaXnaNnfVK",
        "outputId": "a2bbb732-3331-4805-ed87-0e2cd4f7b394"
      },
      "outputs": [
        {
          "data": {
            "image/png": "[encoded data removed]",
            "text/plain": [
              "<Figure size 800x600 with 2 Axes>"
            ]
          },
          "metadata": {},
          "output_type": "display_data"
        }
      ],
      "source": [
        "cm = confusion_matrix(y_test, y_pred_xgb)\n",
        "plt.figure(figsize=(8, 6))\n",
        "sns.heatmap(cm, annot=True, fmt=\"d\", cmap=\"Blues\")\n",
        "plt.title('Confusion Matrix')\n",
        "plt.xlabel('True')\n",
        "plt.ylabel('Predict')\n",
        "plt.show()"
      ]
    },
    {
      "cell_type": "markdown",
      "metadata": {
        "id": "kpFVZR-dnmyR"
      },
      "source": [
        "# **Oversample + Normalisasi**"
      ]
    },
    {
      "cell_type": "markdown",
      "metadata": {
        "id": "cpcVU-9Yn0K7"
      },
      "source": [
        "Pada bagian ini kita akan membuat sebuah model yang dimana data yang dipakai kali ini yang sudah dilakukan oversample dan normalisasi. Algoritma yang digunakan sama seperti sebelumnya yaitu KNN, Random Forest, dan XGBoost. Sekaligus dibuat visualisasi hasil evaluasi pada masing-masing model."
      ]
    },
    {
      "cell_type": "markdown",
      "metadata": {
        "id": "ZJR1qDnUnq4x"
      },
      "source": [
        "# **KNN**"
      ]
    },
    {
      "cell_type": "code",
      "execution_count": 66,
      "metadata": {
        "colab": {
          "base_uri": "https://localhost:8080/",
          "height": 74
        },
        "id": "5tN9bljlng0m",
        "outputId": "67f6f74a-d3ed-46ca-bff3-75d01d7bb0e7"
      },
      "outputs": [
        {
          "data": {
            "text/html": [
              "<style>#sk-container-id-4 {color: black;}#sk-container-id-4 pre{padding: 0;}#sk-container-id-4 div.sk-toggleable {background-color: white;}#sk-container-id-4 label.sk-toggleable__label {cursor: pointer;display: block;width: 100%;margin-bottom: 0;padding: 0.3em;box-sizing: border-box;text-align: center;}#sk-container-id-4 label.sk-toggleable__label-arrow:before {content: \"▸\";float: left;margin-right: 0.25em;color: #696969;}#sk-container-id-4 label.sk-toggleable__label-arrow:hover:before {color: black;}#sk-container-id-4 div.sk-estimator:hover label.sk-toggleable__label-arrow:before {color: black;}#sk-container-id-4 div.sk-toggleable__content {max-height: 0;max-width: 0;overflow: hidden;text-align: left;background-color: #f0f8ff;}#sk-container-id-4 div.sk-toggleable__content pre {margin: 0.2em;color: black;border-radius: 0.25em;background-color: #f0f8ff;}#sk-container-id-4 input.sk-toggleable__control:checked~div.sk-toggleable__content {max-height: 200px;max-width: 100%;overflow: auto;}#sk-container-id-4 input.sk-toggleable__control:checked~label.sk-toggleable__label-arrow:before {content: \"▾\";}#sk-container-id-4 div.sk-estimator input.sk-toggleable__control:checked~label.sk-toggleable__label {background-color: #d4ebff;}#sk-container-id-4 div.sk-label input.sk-toggleable__control:checked~label.sk-toggleable__label {background-color: #d4ebff;}#sk-container-id-4 input.sk-hidden--visually {border: 0;clip: rect(1px 1px 1px 1px);clip: rect(1px, 1px, 1px, 1px);height: 1px;margin: -1px;overflow: hidden;padding: 0;position: absolute;width: 1px;}#sk-container-id-4 div.sk-estimator {font-family: monospace;background-color: #f0f8ff;border: 1px dotted black;border-radius: 0.25em;box-sizing: border-box;margin-bottom: 0.5em;}#sk-container-id-4 div.sk-estimator:hover {background-color: #d4ebff;}#sk-container-id-4 div.sk-parallel-item::after {content: \"\";width: 100%;border-bottom: 1px solid gray;flex-grow: 1;}#sk-container-id-4 div.sk-label:hover label.sk-toggleable__label {background-color: #d4ebff;}#sk-container-id-4 div.sk-serial::before {content: \"\";position: absolute;border-left: 1px solid gray;box-sizing: border-box;top: 0;bottom: 0;left: 50%;z-index: 0;}#sk-container-id-4 div.sk-serial {display: flex;flex-direction: column;align-items: center;background-color: white;padding-right: 0.2em;padding-left: 0.2em;position: relative;}#sk-container-id-4 div.sk-item {position: relative;z-index: 1;}#sk-container-id-4 div.sk-parallel {display: flex;align-items: stretch;justify-content: center;background-color: white;position: relative;}#sk-container-id-4 div.sk-item::before, #sk-container-id-4 div.sk-parallel-item::before {content: \"\";position: absolute;border-left: 1px solid gray;box-sizing: border-box;top: 0;bottom: 0;left: 50%;z-index: -1;}#sk-container-id-4 div.sk-parallel-item {display: flex;flex-direction: column;z-index: 1;position: relative;background-color: white;}#sk-container-id-4 div.sk-parallel-item:first-child::after {align-self: flex-end;width: 50%;}#sk-container-id-4 div.sk-parallel-item:last-child::after {align-self: flex-start;width: 50%;}#sk-container-id-4 div.sk-parallel-item:only-child::after {width: 0;}#sk-container-id-4 div.sk-dashed-wrapped {border: 1px dashed gray;margin: 0 0.4em 0.5em 0.4em;box-sizing: border-box;padding-bottom: 0.4em;background-color: white;}#sk-container-id-4 div.sk-label label {font-family: monospace;font-weight: bold;display: inline-block;line-height: 1.2em;}#sk-container-id-4 div.sk-label-container {text-align: center;}#sk-container-id-4 div.sk-container {/* jupyter's `normalize.less` sets `[hidden] { display: none; }` but bootstrap.min.css set `[hidden] { display: none !important; }` so we also need the `!important` here to be able to override the default hidden behavior on the sphinx rendered scikit-learn.org. See: https://github.com/scikit-learn/scikit-learn/issues/21755 */display: inline-block !important;position: relative;}#sk-container-id-4 div.sk-text-repr-fallback {display: none;}</style><div id=\"sk-container-id-4\" class=\"sk-top-container\"><div class=\"sk-text-repr-fallback\"><pre>KNeighborsClassifier(n_neighbors=3)</pre><b>In a Jupyter environment, please rerun this cell to show the HTML representation or trust the notebook. <br />On GitHub, the HTML representation is unable to render, please try loading this page with nbviewer.org.</b></div><div class=\"sk-container\" hidden><div class=\"sk-item\"><div class=\"sk-estimator sk-toggleable\"><input class=\"sk-toggleable__control sk-hidden--visually\" id=\"sk-estimator-id-4\" type=\"checkbox\" checked><label for=\"sk-estimator-id-4\" class=\"sk-toggleable__label sk-toggleable__label-arrow\">KNeighborsClassifier</label><div class=\"sk-toggleable__content\"><pre>KNeighborsClassifier(n_neighbors=3)</pre></div></div></div></div></div>"
            ],
            "text/plain": [
              "KNeighborsClassifier(n_neighbors=3)"
            ]
          },
          "execution_count": 66,
          "metadata": {},
          "output_type": "execute_result"
        }
      ],
      "source": [
        "knn_model = KNeighborsClassifier(n_neighbors=3)\n",
        "knn_model.fit(X_train_normal, y_train_normal)"
      ]
    },
    {
      "cell_type": "code",
      "execution_count": 67,
      "metadata": {
        "colab": {
          "base_uri": "https://localhost:8080/"
        },
        "id": "S4-a-HFlnyPw",
        "outputId": "f33c5191-8d69-4bdd-c0bf-2213fa17b8e9"
      },
      "outputs": [
        {
          "name": "stdout",
          "output_type": "stream",
          "text": [
            "K-Nearest Neighbors (KNN) Model:\n",
            "Accuracy: 0.861\n",
            "Classification Report:\n",
            "              precision    recall  f1-score   support\n",
            "\n",
            "         0.0       0.88      0.76      0.82        38\n",
            "         1.0       0.78      0.84      0.81        37\n",
            "         2.0       0.87      0.92      0.89        37\n",
            "         3.0       0.92      0.87      0.89        38\n",
            "         4.0       0.87      0.92      0.89        37\n",
            "\n",
            "    accuracy                           0.86       187\n",
            "   macro avg       0.86      0.86      0.86       187\n",
            "weighted avg       0.86      0.86      0.86       187\n",
            "\n"
          ]
        }
      ],
      "source": [
        "y_pred_knn = knn_model.predict(X_test_normal)\n",
        "# Evaluate the KNN model\n",
        "print(\"K-Nearest Neighbors (KNN) Model:\")\n",
        "accuracy_knn_smote_normal = round(accuracy_score(y_test_normal,y_pred_knn),3)\n",
        "print(\"Accuracy:\", accuracy_knn_smote_normal)\n",
        "print(\"Classification Report:\")\n",
        "print(classification_report(y_test_normal, y_pred_knn))"
      ]
    },
    {
      "cell_type": "code",
      "execution_count": 68,
      "metadata": {
        "colab": {
          "base_uri": "https://localhost:8080/"
        },
        "id": "Q4kEtrrxn40b",
        "outputId": "b7788a66-d701-45be-879a-6a508c886746"
      },
      "outputs": [
        {
          "name": "stdout",
          "output_type": "stream",
          "text": [
            "{'accuracy': 0.861, 'recall': 0.861, 'F1 score': 0.861, 'Precision score': 0.863}\n"
          ]
        }
      ],
      "source": [
        "evaluation(y_test_normal,y_pred_knn)"
      ]
    },
    {
      "cell_type": "code",
      "execution_count": 69,
      "metadata": {
        "colab": {
          "base_uri": "https://localhost:8080/",
          "height": 564
        },
        "id": "ZfrsnDmRn6OT",
        "outputId": "0f7d98bd-9e85-497e-94a0-6879368c3f18"
      },
      "outputs": [
        {
          "data": {
            "image/png": "[encoded data removed]",
            "text/plain": [
              "<Figure size 800x600 with 2 Axes>"
            ]
          },
          "metadata": {},
          "output_type": "display_data"
        }
      ],
      "source": [
        "cm = confusion_matrix(y_test_normal, y_pred_knn)\n",
        "plt.figure(figsize=(8, 6))\n",
        "sns.heatmap(cm, annot=True, fmt=\"d\", cmap=\"Blues\")\n",
        "plt.title('Confusion Matrix')\n",
        "plt.xlabel('True')\n",
        "plt.ylabel('Predict')\n",
        "plt.show()"
      ]
    },
    {
      "cell_type": "markdown",
      "metadata": {
        "id": "euvnMCQAn99M"
      },
      "source": [
        "# **Random Forest**"
      ]
    },
    {
      "cell_type": "code",
      "execution_count": 70,
      "metadata": {
        "colab": {
          "base_uri": "https://localhost:8080/",
          "height": 74
        },
        "id": "ITfzWhWXn8FS",
        "outputId": "c4f4915c-dc1f-4b88-f322-6ba0cd9fdd49"
      },
      "outputs": [
        {
          "data": {
            "text/html": [
              "<style>#sk-container-id-5 {color: black;}#sk-container-id-5 pre{padding: 0;}#sk-container-id-5 div.sk-toggleable {background-color: white;}#sk-container-id-5 label.sk-toggleable__label {cursor: pointer;display: block;width: 100%;margin-bottom: 0;padding: 0.3em;box-sizing: border-box;text-align: center;}#sk-container-id-5 label.sk-toggleable__label-arrow:before {content: \"▸\";float: left;margin-right: 0.25em;color: #696969;}#sk-container-id-5 label.sk-toggleable__label-arrow:hover:before {color: black;}#sk-container-id-5 div.sk-estimator:hover label.sk-toggleable__label-arrow:before {color: black;}#sk-container-id-5 div.sk-toggleable__content {max-height: 0;max-width: 0;overflow: hidden;text-align: left;background-color: #f0f8ff;}#sk-container-id-5 div.sk-toggleable__content pre {margin: 0.2em;color: black;border-radius: 0.25em;background-color: #f0f8ff;}#sk-container-id-5 input.sk-toggleable__control:checked~div.sk-toggleable__content {max-height: 200px;max-width: 100%;overflow: auto;}#sk-container-id-5 input.sk-toggleable__control:checked~label.sk-toggleable__label-arrow:before {content: \"▾\";}#sk-container-id-5 div.sk-estimator input.sk-toggleable__control:checked~label.sk-toggleable__label {background-color: #d4ebff;}#sk-container-id-5 div.sk-label input.sk-toggleable__control:checked~label.sk-toggleable__label {background-color: #d4ebff;}#sk-container-id-5 input.sk-hidden--visually {border: 0;clip: rect(1px 1px 1px 1px);clip: rect(1px, 1px, 1px, 1px);height: 1px;margin: -1px;overflow: hidden;padding: 0;position: absolute;width: 1px;}#sk-container-id-5 div.sk-estimator {font-family: monospace;background-color: #f0f8ff;border: 1px dotted black;border-radius: 0.25em;box-sizing: border-box;margin-bottom: 0.5em;}#sk-container-id-5 div.sk-estimator:hover {background-color: #d4ebff;}#sk-container-id-5 div.sk-parallel-item::after {content: \"\";width: 100%;border-bottom: 1px solid gray;flex-grow: 1;}#sk-container-id-5 div.sk-label:hover label.sk-toggleable__label {background-color: #d4ebff;}#sk-container-id-5 div.sk-serial::before {content: \"\";position: absolute;border-left: 1px solid gray;box-sizing: border-box;top: 0;bottom: 0;left: 50%;z-index: 0;}#sk-container-id-5 div.sk-serial {display: flex;flex-direction: column;align-items: center;background-color: white;padding-right: 0.2em;padding-left: 0.2em;position: relative;}#sk-container-id-5 div.sk-item {position: relative;z-index: 1;}#sk-container-id-5 div.sk-parallel {display: flex;align-items: stretch;justify-content: center;background-color: white;position: relative;}#sk-container-id-5 div.sk-item::before, #sk-container-id-5 div.sk-parallel-item::before {content: \"\";position: absolute;border-left: 1px solid gray;box-sizing: border-box;top: 0;bottom: 0;left: 50%;z-index: -1;}#sk-container-id-5 div.sk-parallel-item {display: flex;flex-direction: column;z-index: 1;position: relative;background-color: white;}#sk-container-id-5 div.sk-parallel-item:first-child::after {align-self: flex-end;width: 50%;}#sk-container-id-5 div.sk-parallel-item:last-child::after {align-self: flex-start;width: 50%;}#sk-container-id-5 div.sk-parallel-item:only-child::after {width: 0;}#sk-container-id-5 div.sk-dashed-wrapped {border: 1px dashed gray;margin: 0 0.4em 0.5em 0.4em;box-sizing: border-box;padding-bottom: 0.4em;background-color: white;}#sk-container-id-5 div.sk-label label {font-family: monospace;font-weight: bold;display: inline-block;line-height: 1.2em;}#sk-container-id-5 div.sk-label-container {text-align: center;}#sk-container-id-5 div.sk-container {/* jupyter's `normalize.less` sets `[hidden] { display: none; }` but bootstrap.min.css set `[hidden] { display: none !important; }` so we also need the `!important` here to be able to override the default hidden behavior on the sphinx rendered scikit-learn.org. See: https://github.com/scikit-learn/scikit-learn/issues/21755 */display: inline-block !important;position: relative;}#sk-container-id-5 div.sk-text-repr-fallback {display: none;}</style><div id=\"sk-container-id-5\" class=\"sk-top-container\"><div class=\"sk-text-repr-fallback\"><pre>RandomForestClassifier(random_state=42)</pre><b>In a Jupyter environment, please rerun this cell to show the HTML representation or trust the notebook. <br />On GitHub, the HTML representation is unable to render, please try loading this page with nbviewer.org.</b></div><div class=\"sk-container\" hidden><div class=\"sk-item\"><div class=\"sk-estimator sk-toggleable\"><input class=\"sk-toggleable__control sk-hidden--visually\" id=\"sk-estimator-id-5\" type=\"checkbox\" checked><label for=\"sk-estimator-id-5\" class=\"sk-toggleable__label sk-toggleable__label-arrow\">RandomForestClassifier</label><div class=\"sk-toggleable__content\"><pre>RandomForestClassifier(random_state=42)</pre></div></div></div></div></div>"
            ],
            "text/plain": [
              "RandomForestClassifier(random_state=42)"
            ]
          },
          "execution_count": 70,
          "metadata": {},
          "output_type": "execute_result"
        }
      ],
      "source": [
        "rf_model = RandomForestClassifier(n_estimators=100, random_state=42)\n",
        "rf_model.fit(X_train_normal, y_train_normal)"
      ]
    },
    {
      "cell_type": "code",
      "execution_count": 71,
      "metadata": {
        "colab": {
          "base_uri": "https://localhost:8080/"
        },
        "id": "pPh4NwLkoD_h",
        "outputId": "f8d44594-2c35-40ba-c165-5e6614982c59"
      },
      "outputs": [
        {
          "name": "stdout",
          "output_type": "stream",
          "text": [
            "\n",
            "Random Forest Model:\n",
            "Accuracy: 0.92\n",
            "Classification Report:\n",
            "              precision    recall  f1-score   support\n",
            "\n",
            "         0.0       0.94      0.89      0.92        38\n",
            "         1.0       0.85      0.92      0.88        37\n",
            "         2.0       0.89      0.89      0.89        37\n",
            "         3.0       0.95      0.97      0.96        38\n",
            "         4.0       0.97      0.92      0.94        37\n",
            "\n",
            "    accuracy                           0.92       187\n",
            "   macro avg       0.92      0.92      0.92       187\n",
            "weighted avg       0.92      0.92      0.92       187\n",
            "\n"
          ]
        }
      ],
      "source": [
        "y_pred_rf = rf_model.predict(X_test_normal)\n",
        "# Evaluate the Random Forest model\n",
        "print(\"\\nRandom Forest Model:\")\n",
        "accuracy_rf_smote_normal = round(accuracy_score(y_test_normal, y_pred_rf),3)\n",
        "print(\"Accuracy:\",accuracy_rf_smote_normal )\n",
        "print(\"Classification Report:\")\n",
        "print(classification_report(y_test_normal, y_pred_rf))"
      ]
    },
    {
      "cell_type": "code",
      "execution_count": 72,
      "metadata": {
        "colab": {
          "base_uri": "https://localhost:8080/"
        },
        "id": "PmKNlchhoFyu",
        "outputId": "2df1ac4f-7e57-4362-cd87-1669797af9cd"
      },
      "outputs": [
        {
          "name": "stdout",
          "output_type": "stream",
          "text": [
            "{'accuracy': 0.92, 'recall': 0.92, 'F1 score': 0.92, 'Precision score': 0.922}\n"
          ]
        }
      ],
      "source": [
        "evaluation(y_test_normal,y_pred_rf)"
      ]
    },
    {
      "cell_type": "code",
      "execution_count": 73,
      "metadata": {
        "colab": {
          "base_uri": "https://localhost:8080/",
          "height": 564
        },
        "id": "z56qGzyAoITF",
        "outputId": "6cd87686-302d-4d2c-b802-2f0d105b4a8d"
      },
      "outputs": [
        {
          "data": {
            "image/png": "[encoded data removed]",
            "text/plain": [
              "<Figure size 800x600 with 2 Axes>"
            ]
          },
          "metadata": {},
          "output_type": "display_data"
        }
      ],
      "source": [
        "cm = confusion_matrix(y_test_normal, y_pred_rf)\n",
        "plt.figure(figsize=(8, 6))\n",
        "sns.heatmap(cm, annot=True, fmt=\"d\", cmap=\"Blues\")\n",
        "plt.title('Confusion Matrix')\n",
        "plt.xlabel('True')\n",
        "plt.ylabel('Predict')\n",
        "plt.show()"
      ]
    },
    {
      "cell_type": "markdown",
      "metadata": {
        "id": "hC2Bjba8oMMd"
      },
      "source": [
        "# **XGBoost**"
      ]
    },
    {
      "cell_type": "code",
      "execution_count": 74,
      "metadata": {
        "colab": {
          "base_uri": "https://localhost:8080/",
          "height": 248
        },
        "id": "Qi27KSqToOcu",
        "outputId": "07155afd-624d-44bd-c4ea-29b6d63b6fcf"
      },
      "outputs": [
        {
          "data": {
            "text/html": [
              "<style>#sk-container-id-6 {color: black;}#sk-container-id-6 pre{padding: 0;}#sk-container-id-6 div.sk-toggleable {background-color: white;}#sk-container-id-6 label.sk-toggleable__label {cursor: pointer;display: block;width: 100%;margin-bottom: 0;padding: 0.3em;box-sizing: border-box;text-align: center;}#sk-container-id-6 label.sk-toggleable__label-arrow:before {content: \"▸\";float: left;margin-right: 0.25em;color: #696969;}#sk-container-id-6 label.sk-toggleable__label-arrow:hover:before {color: black;}#sk-container-id-6 div.sk-estimator:hover label.sk-toggleable__label-arrow:before {color: black;}#sk-container-id-6 div.sk-toggleable__content {max-height: 0;max-width: 0;overflow: hidden;text-align: left;background-color: #f0f8ff;}#sk-container-id-6 div.sk-toggleable__content pre {margin: 0.2em;color: black;border-radius: 0.25em;background-color: #f0f8ff;}#sk-container-id-6 input.sk-toggleable__control:checked~div.sk-toggleable__content {max-height: 200px;max-width: 100%;overflow: auto;}#sk-container-id-6 input.sk-toggleable__control:checked~label.sk-toggleable__label-arrow:before {content: \"▾\";}#sk-container-id-6 div.sk-estimator input.sk-toggleable__control:checked~label.sk-toggleable__label {background-color: #d4ebff;}#sk-container-id-6 div.sk-label input.sk-toggleable__control:checked~label.sk-toggleable__label {background-color: #d4ebff;}#sk-container-id-6 input.sk-hidden--visually {border: 0;clip: rect(1px 1px 1px 1px);clip: rect(1px, 1px, 1px, 1px);height: 1px;margin: -1px;overflow: hidden;padding: 0;position: absolute;width: 1px;}#sk-container-id-6 div.sk-estimator {font-family: monospace;background-color: #f0f8ff;border: 1px dotted black;border-radius: 0.25em;box-sizing: border-box;margin-bottom: 0.5em;}#sk-container-id-6 div.sk-estimator:hover {background-color: #d4ebff;}#sk-container-id-6 div.sk-parallel-item::after {content: \"\";width: 100%;border-bottom: 1px solid gray;flex-grow: 1;}#sk-container-id-6 div.sk-label:hover label.sk-toggleable__label {background-color: #d4ebff;}#sk-container-id-6 div.sk-serial::before {content: \"\";position: absolute;border-left: 1px solid gray;box-sizing: border-box;top: 0;bottom: 0;left: 50%;z-index: 0;}#sk-container-id-6 div.sk-serial {display: flex;flex-direction: column;align-items: center;background-color: white;padding-right: 0.2em;padding-left: 0.2em;position: relative;}#sk-container-id-6 div.sk-item {position: relative;z-index: 1;}#sk-container-id-6 div.sk-parallel {display: flex;align-items: stretch;justify-content: center;background-color: white;position: relative;}#sk-container-id-6 div.sk-item::before, #sk-container-id-6 div.sk-parallel-item::before {content: \"\";position: absolute;border-left: 1px solid gray;box-sizing: border-box;top: 0;bottom: 0;left: 50%;z-index: -1;}#sk-container-id-6 div.sk-parallel-item {display: flex;flex-direction: column;z-index: 1;position: relative;background-color: white;}#sk-container-id-6 div.sk-parallel-item:first-child::after {align-self: flex-end;width: 50%;}#sk-container-id-6 div.sk-parallel-item:last-child::after {align-self: flex-start;width: 50%;}#sk-container-id-6 div.sk-parallel-item:only-child::after {width: 0;}#sk-container-id-6 div.sk-dashed-wrapped {border: 1px dashed gray;margin: 0 0.4em 0.5em 0.4em;box-sizing: border-box;padding-bottom: 0.4em;background-color: white;}#sk-container-id-6 div.sk-label label {font-family: monospace;font-weight: bold;display: inline-block;line-height: 1.2em;}#sk-container-id-6 div.sk-label-container {text-align: center;}#sk-container-id-6 div.sk-container {/* jupyter's `normalize.less` sets `[hidden] { display: none; }` but bootstrap.min.css set `[hidden] { display: none !important; }` so we also need the `!important` here to be able to override the default hidden behavior on the sphinx rendered scikit-learn.org. See: https://github.com/scikit-learn/scikit-learn/issues/21755 */display: inline-block !important;position: relative;}#sk-container-id-6 div.sk-text-repr-fallback {display: none;}</style><div id=\"sk-container-id-6\" class=\"sk-top-container\"><div class=\"sk-text-repr-fallback\"><pre>XGBClassifier(base_score=None, booster=None, callbacks=None,\n",
              "              colsample_bylevel=None, colsample_bynode=None,\n",
              "              colsample_bytree=None, device=None, early_stopping_rounds=None,\n",
              "              enable_categorical=False, eval_metric=None, feature_types=None,\n",
              "              gamma=None, grow_policy=None, importance_type=None,\n",
              "              interaction_constraints=None, learning_rate=0.1, max_bin=None,\n",
              "              max_cat_threshold=None, max_cat_to_onehot=None,\n",
              "              max_delta_step=None, max_depth=None, max_leaves=None,\n",
              "              min_child_weight=None, missing=nan, monotone_constraints=None,\n",
              "              multi_strategy=None, n_estimators=100, n_jobs=None,\n",
              "              num_parallel_tree=None, objective=&#x27;multi:softprob&#x27;, ...)</pre><b>In a Jupyter environment, please rerun this cell to show the HTML representation or trust the notebook. <br />On GitHub, the HTML representation is unable to render, please try loading this page with nbviewer.org.</b></div><div class=\"sk-container\" hidden><div class=\"sk-item\"><div class=\"sk-estimator sk-toggleable\"><input class=\"sk-toggleable__control sk-hidden--visually\" id=\"sk-estimator-id-6\" type=\"checkbox\" checked><label for=\"sk-estimator-id-6\" class=\"sk-toggleable__label sk-toggleable__label-arrow\">XGBClassifier</label><div class=\"sk-toggleable__content\"><pre>XGBClassifier(base_score=None, booster=None, callbacks=None,\n",
              "              colsample_bylevel=None, colsample_bynode=None,\n",
              "              colsample_bytree=None, device=None, early_stopping_rounds=None,\n",
              "              enable_categorical=False, eval_metric=None, feature_types=None,\n",
              "              gamma=None, grow_policy=None, importance_type=None,\n",
              "              interaction_constraints=None, learning_rate=0.1, max_bin=None,\n",
              "              max_cat_threshold=None, max_cat_to_onehot=None,\n",
              "              max_delta_step=None, max_depth=None, max_leaves=None,\n",
              "              min_child_weight=None, missing=nan, monotone_constraints=None,\n",
              "              multi_strategy=None, n_estimators=100, n_jobs=None,\n",
              "              num_parallel_tree=None, objective=&#x27;multi:softprob&#x27;, ...)</pre></div></div></div></div></div>"
            ],
            "text/plain": [
              "XGBClassifier(base_score=None, booster=None, callbacks=None,\n",
              "              colsample_bylevel=None, colsample_bynode=None,\n",
              "              colsample_bytree=None, device=None, early_stopping_rounds=None,\n",
              "              enable_categorical=False, eval_metric=None, feature_types=None,\n",
              "              gamma=None, grow_policy=None, importance_type=None,\n",
              "              interaction_constraints=None, learning_rate=0.1, max_bin=None,\n",
              "              max_cat_threshold=None, max_cat_to_onehot=None,\n",
              "              max_delta_step=None, max_depth=None, max_leaves=None,\n",
              "              min_child_weight=None, missing=nan, monotone_constraints=None,\n",
              "              multi_strategy=None, n_estimators=100, n_jobs=None,\n",
              "              num_parallel_tree=None, objective='multi:softprob', ...)"
            ]
          },
          "execution_count": 74,
          "metadata": {},
          "output_type": "execute_result"
        }
      ],
      "source": [
        "xgb_model = XGBClassifier(learning_rate=0.1, n_estimators=100, random_state=42)\n",
        "xgb_model.fit(X_train_normal, y_train_normal)"
      ]
    },
    {
      "cell_type": "code",
      "execution_count": 75,
      "metadata": {
        "colab": {
          "base_uri": "https://localhost:8080/"
        },
        "id": "Q1P79EdioRG1",
        "outputId": "80678948-8009-49cd-ab4b-3f5ef32f1487"
      },
      "outputs": [
        {
          "name": "stdout",
          "output_type": "stream",
          "text": [
            "\n",
            "XGBoost Model:\n",
            "Accuracy: 0.904\n",
            "Classification Report:\n",
            "              precision    recall  f1-score   support\n",
            "\n",
            "         0.0       0.92      0.89      0.91        38\n",
            "         1.0       0.94      0.84      0.89        37\n",
            "         2.0       0.85      0.89      0.87        37\n",
            "         3.0       0.88      0.97      0.93        38\n",
            "         4.0       0.94      0.92      0.93        37\n",
            "\n",
            "    accuracy                           0.90       187\n",
            "   macro avg       0.91      0.90      0.90       187\n",
            "weighted avg       0.91      0.90      0.90       187\n",
            "\n"
          ]
        }
      ],
      "source": [
        "y_pred_xgb = xgb_model.predict(X_test_normal)\n",
        "# Evaluate the XGBoost model\n",
        "print(\"\\nXGBoost Model:\")\n",
        "accuracy_xgb_smote_normal = round(accuracy_score(y_test_normal, y_pred_xgb),3)\n",
        "print(\"Accuracy:\",accuracy_xgb_smote_normal)\n",
        "print(\"Classification Report:\")\n",
        "print(classification_report(y_test_normal, y_pred_xgb))"
      ]
    },
    {
      "cell_type": "code",
      "execution_count": 76,
      "metadata": {
        "colab": {
          "base_uri": "https://localhost:8080/"
        },
        "id": "6zDGtPd3odAX",
        "outputId": "2d7eddab-e9a6-4732-fb74-bc3bbf966a03"
      },
      "outputs": [
        {
          "name": "stdout",
          "output_type": "stream",
          "text": [
            "{'accuracy': 0.904, 'recall': 0.904, 'F1 score': 0.904, 'Precision score': 0.906}\n"
          ]
        }
      ],
      "source": [
        "evaluation(y_test_normal,y_pred_xgb)"
      ]
    },
    {
      "cell_type": "code",
      "execution_count": 77,
      "metadata": {
        "colab": {
          "base_uri": "https://localhost:8080/",
          "height": 564
        },
        "id": "NmspkF1modzI",
        "outputId": "a2e1f2d7-1fc0-4c7a-ce49-ad67b9998d82"
      },
      "outputs": [
        {
          "data": {
            "image/png": "[encoded data removed]",
            "text/plain": [
              "<Figure size 800x600 with 2 Axes>"
            ]
          },
          "metadata": {},
          "output_type": "display_data"
        }
      ],
      "source": [
        "cm = confusion_matrix(y_test_normal, y_pred_xgb)\n",
        "plt.figure(figsize=(8, 6))\n",
        "sns.heatmap(cm, annot=True, fmt=\"d\", cmap=\"Blues\")\n",
        "plt.title('Confusion Matrix')\n",
        "plt.xlabel('True')\n",
        "plt.ylabel('Predict')\n",
        "plt.show()"
      ]
    },
    {
      "cell_type": "markdown",
      "metadata": {
        "id": "2WDC6DBeohLm"
      },
      "source": [
        "## **Tuning + Normalisasi + Oversample**"
      ]
    },
    {
      "cell_type": "markdown",
      "metadata": {
        "id": "EAKdfybpon-K"
      },
      "source": [
        "Pada pembuatan model kali ini masih menggunakan algoritma yang sama (KNN, Random Forest, dan XGBoost), namun data yang digunakan adalah data yang sudah dilakukan TunNIng Parameter, Normalisasi, dan Oversample."
      ]
    },
    {
      "cell_type": "markdown",
      "metadata": {
        "id": "PQCm5oQ1opmr"
      },
      "source": [
        "# KNN"
      ]
    },
    {
      "cell_type": "code",
      "execution_count": 78,
      "metadata": {
        "id": "Sny1fyG2ofdo"
      },
      "outputs": [],
      "source": [
        "from sklearn.model_selection import RandomizedSearchCV"
      ]
    },
    {
      "cell_type": "markdown",
      "metadata": {
        "id": "pWrgGXJAoypH"
      },
      "source": [
        "Setiap parameter tunnning tidak selalu sama karena bergantung pada algoritma yang digunakan."
      ]
    },
    {
      "cell_type": "code",
      "execution_count": 79,
      "metadata": {
        "colab": {
          "base_uri": "https://localhost:8080/"
        },
        "id": "TYVRrdmJoxl1",
        "outputId": "8d62b3e1-c04c-4e0e-d9fd-57db770e11a9"
      },
      "outputs": [
        {
          "name": "stdout",
          "output_type": "stream",
          "text": [
            "Best parameters: {'weights': 'distance', 'n_neighbors': 3, 'metric': 'manhattan', 'leaf_size': 39, 'algorithm': 'kd_tree'}\n"
          ]
        }
      ],
      "source": [
        "knn_model = KNeighborsClassifier()\n",
        "param_grid = {\n",
        "  \"n_neighbors\": range(3, 21),\n",
        "  \"metric\": [\"euclidean\", \"manhattan\", \"chebyshev\"],\n",
        "  \"weights\": [\"uniform\", \"distance\"],\n",
        "  \"algorithm\": [\"auto\", \"ball_tree\", \"kd_tree\"],\n",
        "  \"leaf_size\": range(10, 61),\n",
        "}\n",
        "\n",
        "knn_model = RandomizedSearchCV(estimator=knn_model, param_distributions=param_grid, n_iter=100, scoring=\"accuracy\", cv=5)\n",
        "knn_model.fit(X_train_normal, y_train_normal)\n",
        "best_params = knn_model.best_params_\n",
        "print(f\"Best parameters: {best_params}\")\n"
      ]
    },
    {
      "cell_type": "code",
      "execution_count": 80,
      "metadata": {
        "colab": {
          "base_uri": "https://localhost:8080/"
        },
        "id": "cQEZE-JHo2EZ",
        "outputId": "d7435ac6-0363-459b-e7c7-c38f8283550a"
      },
      "outputs": [
        {
          "name": "stdout",
          "output_type": "stream",
          "text": [
            "K-Nearest Neighbors (KNN) Model:\n",
            "Accuracy: 0.92\n",
            "Classification Report:\n",
            "              precision    recall  f1-score   support\n",
            "\n",
            "         0.0       0.97      0.84      0.90        38\n",
            "         1.0       0.80      0.86      0.83        37\n",
            "         2.0       0.92      0.95      0.93        37\n",
            "         3.0       0.97      0.95      0.96        38\n",
            "         4.0       0.95      1.00      0.97        37\n",
            "\n",
            "    accuracy                           0.92       187\n",
            "   macro avg       0.92      0.92      0.92       187\n",
            "weighted avg       0.92      0.92      0.92       187\n",
            "\n"
          ]
        }
      ],
      "source": [
        "y_pred_knn = knn_model.predict(X_test_normal)\n",
        "# Evaluate the KNN model\n",
        "print(\"K-Nearest Neighbors (KNN) Model:\")\n",
        "accuracy_knn_smote_normal_Tun = round(accuracy_score(y_test_normal,y_pred_knn),3)\n",
        "print(\"Accuracy:\", accuracy_knn_smote_normal_Tun)\n",
        "print(\"Classification Report:\")\n",
        "print(classification_report(y_test_normal, y_pred_knn))"
      ]
    },
    {
      "cell_type": "code",
      "execution_count": 81,
      "metadata": {
        "colab": {
          "base_uri": "https://localhost:8080/"
        },
        "id": "KGiqK3YYo4Of",
        "outputId": "144eee1f-13d1-49d3-82b9-647721765984"
      },
      "outputs": [
        {
          "name": "stdout",
          "output_type": "stream",
          "text": [
            "{'accuracy': 0.92, 'recall': 0.92, 'F1 score': 0.92, 'Precision score': 0.923}\n"
          ]
        }
      ],
      "source": [
        "evaluation(y_test_normal,y_pred_knn)"
      ]
    },
    {
      "cell_type": "code",
      "execution_count": 82,
      "metadata": {
        "colab": {
          "base_uri": "https://localhost:8080/",
          "height": 564
        },
        "id": "SMVICwbko65E",
        "outputId": "4ea755e1-ad46-422b-db37-b26bfeb4c16b"
      },
      "outputs": [
        {
          "data": {
            "image/png": "[encoded data removed]",
            "text/plain": [
              "<Figure size 800x600 with 2 Axes>"
            ]
          },
          "metadata": {},
          "output_type": "display_data"
        }
      ],
      "source": [
        "cm = confusion_matrix(y_test_normal, y_pred_knn)\n",
        "plt.figure(figsize=(8, 6))\n",
        "sns.heatmap(cm, annot=True, fmt=\"d\", cmap=\"Blues\")\n",
        "plt.title('Confusion Matrix')\n",
        "plt.xlabel('True')\n",
        "plt.ylabel('Predict')\n",
        "plt.show()"
      ]
    },
    {
      "cell_type": "markdown",
      "metadata": {
        "id": "ndd-hJCfo-RV"
      },
      "source": [
        "# Random Forest"
      ]
    },
    {
      "cell_type": "code",
      "execution_count": 83,
      "metadata": {
        "colab": {
          "base_uri": "https://localhost:8080/"
        },
        "id": "DCwpiZrlo8KO",
        "outputId": "cbd14ade-fcf8-4bc1-db47-b58f2b1f130d"
      },
      "outputs": [
        {
          "name": "stderr",
          "output_type": "stream",
          "text": [
            "c:\\Users\\Asus\\anaconda3\\envs\\tensorflow\\lib\\site-packages\\sklearn\\model_selection\\_search.py:307: UserWarning: The total space of parameters 32 is smaller than n_iter=100. Running 32 iterations. For exhaustive searches, use GridSearchCV.\n",
            "  warnings.warn(\n"
          ]
        },
        {
          "name": "stdout",
          "output_type": "stream",
          "text": [
            "Best parameters: {'n_estimators': 200, 'min_samples_split': 2, 'min_samples_leaf': 1, 'max_features': 'log2', 'max_depth': 15}\n"
          ]
        }
      ],
      "source": [
        "rf_model = RandomForestClassifier()\n",
        "param_grid = {\n",
        "  \"n_estimators\": [100, 200],\n",
        "  \"max_depth\": [ 10, 15],\n",
        "  \"min_samples_leaf\": [1, 2],\n",
        "  \"min_samples_split\": [2, 5],\n",
        "  \"max_features\": [\"sqrt\", \"log2\"],\n",
        "}\n",
        "\n",
        "rf_model = RandomizedSearchCV(rf_model, param_grid, n_iter=100, cv=5, n_jobs=-1)\n",
        "rf_model.fit(X_train_normal, y_train_normal)\n",
        "best_params = rf_model.best_params_\n",
        "print(f\"Best parameters: {best_params}\")"
      ]
    },
    {
      "cell_type": "code",
      "execution_count": 84,
      "metadata": {
        "colab": {
          "base_uri": "https://localhost:8080/"
        },
        "id": "ZW8X471UpCps",
        "outputId": "0c294a41-8ff6-4f17-acca-fd434a48ff2f"
      },
      "outputs": [
        {
          "name": "stdout",
          "output_type": "stream",
          "text": [
            "\n",
            "Random Forest Model:\n",
            "Accuracy: 0.904\n",
            "Classification Report:\n",
            "              precision    recall  f1-score   support\n",
            "\n",
            "         0.0       0.92      0.92      0.92        38\n",
            "         1.0       0.86      0.86      0.86        37\n",
            "         2.0       0.84      0.86      0.85        37\n",
            "         3.0       0.93      0.97      0.95        38\n",
            "         4.0       0.97      0.89      0.93        37\n",
            "\n",
            "    accuracy                           0.90       187\n",
            "   macro avg       0.90      0.90      0.90       187\n",
            "weighted avg       0.90      0.90      0.90       187\n",
            "\n"
          ]
        }
      ],
      "source": [
        "y_pred_rf = rf_model.predict(X_test_normal)\n",
        "# Evaluate the Random Forest model\n",
        "print(\"\\nRandom Forest Model:\")\n",
        "accuracy_rf_smote_normal_Tun = round(accuracy_score(y_test_normal, y_pred_rf),3)\n",
        "print(\"Accuracy:\",accuracy_rf_smote_normal_Tun)\n",
        "print(\"Classification Report:\")\n",
        "print(classification_report(y_test_normal, y_pred_rf))"
      ]
    },
    {
      "cell_type": "code",
      "execution_count": 85,
      "metadata": {
        "colab": {
          "base_uri": "https://localhost:8080/"
        },
        "id": "ZC6rH08TpDlI",
        "outputId": "b1511d74-761f-49a1-a8da-b9fb44a67135"
      },
      "outputs": [
        {
          "name": "stdout",
          "output_type": "stream",
          "text": [
            "{'accuracy': 0.904, 'recall': 0.904, 'F1 score': 0.904, 'Precision score': 0.905}\n"
          ]
        }
      ],
      "source": [
        "evaluation(y_test_normal,y_pred_rf)"
      ]
    },
    {
      "cell_type": "code",
      "execution_count": 86,
      "metadata": {
        "colab": {
          "base_uri": "https://localhost:8080/",
          "height": 564
        },
        "id": "t9ZiDc27pXEx",
        "outputId": "fc71cfc8-09c3-495f-bf96-a33e9bc7484f"
      },
      "outputs": [
        {
          "data": {
            "image/png": "[encoded data removed]",
            "text/plain": [
              "<Figure size 800x600 with 2 Axes>"
            ]
          },
          "metadata": {},
          "output_type": "display_data"
        }
      ],
      "source": [
        "cm = confusion_matrix(y_test_normal, y_pred_knn)\n",
        "plt.figure(figsize=(8, 6))\n",
        "sns.heatmap(cm, annot=True, fmt=\"d\", cmap=\"Blues\")\n",
        "plt.title('Confusion Matrix')\n",
        "plt.xlabel('True')\n",
        "plt.ylabel('Predict')\n",
        "plt.show()"
      ]
    },
    {
      "cell_type": "markdown",
      "metadata": {
        "id": "f5u1-dRmpaKe"
      },
      "source": [
        "# XGBoost"
      ]
    },
    {
      "cell_type": "code",
      "execution_count": 87,
      "metadata": {
        "colab": {
          "base_uri": "https://localhost:8080/"
        },
        "id": "2wpCaLRopYWL",
        "outputId": "e57e2172-3bb8-4182-c9f1-8b4fe2fa85a3"
      },
      "outputs": [
        {
          "name": "stdout",
          "output_type": "stream",
          "text": [
            "Best parameters: {'n_estimators': 200, 'max_depth': 7, 'learning_rate': 0.1, 'gamma': 0.1, 'colsample_bytree': 0.7}\n"
          ]
        }
      ],
      "source": [
        "xgb_model = XGBClassifier()\n",
        "param_grid = {\n",
        "  \"max_depth\": [3, 5, 7],\n",
        "  \"learning_rate\": [0.01, 0.1],\n",
        "  \"n_estimators\": [100, 200],\n",
        "  \"gamma\": [0, 0.1],\n",
        "  \"colsample_bytree\": [0.7, 0.8],\n",
        "}\n",
        "\n",
        "xgb_model = RandomizedSearchCV(xgb_model, param_grid, n_iter=10, cv=5, n_jobs=-1)\n",
        "xgb_model.fit(X_train_normal, y_train_normal)\n",
        "best_params = xgb_model.best_params_\n",
        "print(f\"Best parameters: {best_params}\")"
      ]
    },
    {
      "cell_type": "code",
      "execution_count": 88,
      "metadata": {},
      "outputs": [],
      "source": [
        "import pickle\n",
        "\n",
        "# Save the Random Forest model\n",
        "with open('xgboost_model.pkl', 'wb') as file:\n",
        "    pickle.dump(rf_model, file)"
      ]
    },
    {
      "cell_type": "code",
      "execution_count": 89,
      "metadata": {
        "colab": {
          "base_uri": "https://localhost:8080/"
        },
        "id": "l7MGUqB_pgEq",
        "outputId": "c4cb6f06-9dcf-47ac-e5b9-4a8e10d66093"
      },
      "outputs": [
        {
          "name": "stdout",
          "output_type": "stream",
          "text": [
            "\n",
            "XGBoost Model:\n",
            "Accuracy: 0.92\n",
            "Classification Report:\n",
            "              precision    recall  f1-score   support\n",
            "\n",
            "         0.0       0.90      0.95      0.92        38\n",
            "         1.0       0.89      0.86      0.88        37\n",
            "         2.0       0.89      0.86      0.88        37\n",
            "         3.0       0.95      1.00      0.97        38\n",
            "         4.0       0.97      0.92      0.94        37\n",
            "\n",
            "    accuracy                           0.92       187\n",
            "   macro avg       0.92      0.92      0.92       187\n",
            "weighted avg       0.92      0.92      0.92       187\n",
            "\n"
          ]
        }
      ],
      "source": [
        "y_pred_xgb = xgb_model.predict(X_test_normal)\n",
        "# Evaluate the XGBoost model\n",
        "print(\"\\nXGBoost Model:\")\n",
        "accuracy_xgb_smote_normal_Tun = round(accuracy_score(y_test_normal, y_pred_xgb),3)\n",
        "print(\"Accuracy:\",accuracy_xgb_smote_normal_Tun)\n",
        "print(\"Classification Report:\")\n",
        "print(classification_report(y_test_normal, y_pred_xgb))"
      ]
    },
    {
      "cell_type": "code",
      "execution_count": 90,
      "metadata": {
        "colab": {
          "base_uri": "https://localhost:8080/"
        },
        "id": "loEqKQh_phXw",
        "outputId": "62dbfe53-4cd5-4834-9844-93ab4aa34fc0"
      },
      "outputs": [
        {
          "name": "stdout",
          "output_type": "stream",
          "text": [
            "{'accuracy': 0.92, 'recall': 0.92, 'F1 score': 0.919, 'Precision score': 0.92}\n"
          ]
        }
      ],
      "source": [
        "evaluation(y_test_normal,y_pred_xgb)"
      ]
    },
    {
      "cell_type": "code",
      "execution_count": 91,
      "metadata": {
        "colab": {
          "base_uri": "https://localhost:8080/",
          "height": 564
        },
        "id": "_uVIOi0LpkbS",
        "outputId": "83dad09c-dd3e-404d-b550-dab18aacb6c7"
      },
      "outputs": [
        {
          "data": {
            "image/png": "[encoded data removed]",
            "text/plain": [
              "<Figure size 800x600 with 2 Axes>"
            ]
          },
          "metadata": {},
          "output_type": "display_data"
        }
      ],
      "source": [
        "cm = confusion_matrix(y_test_normal, y_pred_xgb)\n",
        "plt.figure(figsize=(8, 6))\n",
        "sns.heatmap(cm, annot=True, fmt=\"d\", cmap=\"Blues\")\n",
        "plt.title('Confusion Matrix')\n",
        "plt.xlabel('True')\n",
        "plt.ylabel('Predict')\n",
        "plt.show()"
      ]
    },
    {
      "cell_type": "markdown",
      "metadata": {
        "id": "Aui93bGfpnbK"
      },
      "source": [
        "# **Evaluasi**"
      ]
    },
    {
      "cell_type": "markdown",
      "metadata": {
        "id": "77axAA8Ppqax"
      },
      "source": [
        "Selanjutnya kita akan melakukan evaluasi data sekaligus membandingkan antar algoritma guna dengan tujuan mengetahui jenis model algoritma yang menghasilkan hasil akurasi terbaik."
      ]
    },
    {
      "cell_type": "code",
      "execution_count": 92,
      "metadata": {
        "colab": {
          "base_uri": "https://localhost:8080/",
          "height": 143
        },
        "id": "8DR-bwMaplZP",
        "outputId": "37007453-464b-46c7-bf72-4ba10593bee6"
      },
      "outputs": [
        {
          "data": {
            "text/html": [
              "<div>\n",
              "<style scoped>\n",
              "    .dataframe tbody tr th:only-of-type {\n",
              "        vertical-align: middle;\n",
              "    }\n",
              "\n",
              "    .dataframe tbody tr th {\n",
              "        vertical-align: top;\n",
              "    }\n",
              "\n",
              "    .dataframe thead th {\n",
              "        text-align: right;\n",
              "    }\n",
              "</style>\n",
              "<table border=\"1\" class=\"dataframe\">\n",
              "  <thead>\n",
              "    <tr style=\"text-align: right;\">\n",
              "      <th></th>\n",
              "      <th>Model</th>\n",
              "      <th>Accuracy</th>\n",
              "    </tr>\n",
              "  </thead>\n",
              "  <tbody>\n",
              "    <tr>\n",
              "      <th>0</th>\n",
              "      <td>K-Nearest Neighbour</td>\n",
              "      <td>75.4</td>\n",
              "    </tr>\n",
              "    <tr>\n",
              "      <th>1</th>\n",
              "      <td>Random Forest</td>\n",
              "      <td>92.0</td>\n",
              "    </tr>\n",
              "    <tr>\n",
              "      <th>2</th>\n",
              "      <td>XGBoost</td>\n",
              "      <td>90.4</td>\n",
              "    </tr>\n",
              "  </tbody>\n",
              "</table>\n",
              "</div>"
            ],
            "text/plain": [
              "                 Model  Accuracy\n",
              "0  K-Nearest Neighbour      75.4\n",
              "1        Random Forest      92.0\n",
              "2              XGBoost      90.4"
            ]
          },
          "execution_count": 92,
          "metadata": {},
          "output_type": "execute_result"
        }
      ],
      "source": [
        "model_comp1 = pd.DataFrame({'Model': ['K-Nearest Neighbour','Random Forest',\n",
        "'XGBoost'], 'Accuracy': [accuracy_knn_smote*100,\n",
        "accuracy_rf_smote*100,accuracy_xgb_smote*100]})\n",
        "\n",
        "model_comp1.head()"
      ]
    },
    {
      "cell_type": "code",
      "execution_count": 93,
      "metadata": {
        "colab": {
          "base_uri": "https://localhost:8080/",
          "height": 569
        },
        "id": "PPMeladmptnd",
        "outputId": "1789074f-1fc6-4da7-c40f-54af642e4f2a"
      },
      "outputs": [
        {
          "data": {
            "image/png": "[encoded data removed]",
            "text/plain": [
              "<Figure size 640x480 with 1 Axes>"
            ]
          },
          "metadata": {},
          "output_type": "display_data"
        }
      ],
      "source": [
        "# Membuat bar plot dengan keterangan jumlah\n",
        "fig, ax = plt.subplots()\n",
        "bars = plt.bar(model_comp1['Model'], model_comp1['Accuracy'], color=['red', 'green', 'blue'])\n",
        "plt.xlabel('Model')\n",
        "plt.ylabel('Accuracy (%)')\n",
        "plt.title('Oversample')\n",
        "plt.xticks(rotation=45, ha='right')\n",
        "\n",
        "# Untuk memutar label sumbu x agar lebih mudah dibaca\n",
        "# Menambahkan keterangan jumlah di atas setiap bar\n",
        "for bar in bars:\n",
        "  yval = bar.get_height()\n",
        "  plt.text(bar.get_x() + bar.get_width()/2, yval, round(yval, 2), ha='center', va='bottom')\n",
        "\n",
        "plt.show()"
      ]
    },
    {
      "cell_type": "code",
      "execution_count": 94,
      "metadata": {
        "colab": {
          "base_uri": "https://localhost:8080/",
          "height": 143
        },
        "id": "Ix6mPFgapud9",
        "outputId": "9b8acc0e-5603-42c9-af3f-d5aa8feb7a9d"
      },
      "outputs": [
        {
          "data": {
            "text/html": [
              "<div>\n",
              "<style scoped>\n",
              "    .dataframe tbody tr th:only-of-type {\n",
              "        vertical-align: middle;\n",
              "    }\n",
              "\n",
              "    .dataframe tbody tr th {\n",
              "        vertical-align: top;\n",
              "    }\n",
              "\n",
              "    .dataframe thead th {\n",
              "        text-align: right;\n",
              "    }\n",
              "</style>\n",
              "<table border=\"1\" class=\"dataframe\">\n",
              "  <thead>\n",
              "    <tr style=\"text-align: right;\">\n",
              "      <th></th>\n",
              "      <th>Model</th>\n",
              "      <th>Accuracy</th>\n",
              "    </tr>\n",
              "  </thead>\n",
              "  <tbody>\n",
              "    <tr>\n",
              "      <th>0</th>\n",
              "      <td>K-Nearest Neighbour</td>\n",
              "      <td>86.1</td>\n",
              "    </tr>\n",
              "    <tr>\n",
              "      <th>1</th>\n",
              "      <td>Random Forest</td>\n",
              "      <td>92.0</td>\n",
              "    </tr>\n",
              "    <tr>\n",
              "      <th>2</th>\n",
              "      <td>XGBoost</td>\n",
              "      <td>90.4</td>\n",
              "    </tr>\n",
              "  </tbody>\n",
              "</table>\n",
              "</div>"
            ],
            "text/plain": [
              "                 Model  Accuracy\n",
              "0  K-Nearest Neighbour      86.1\n",
              "1        Random Forest      92.0\n",
              "2              XGBoost      90.4"
            ]
          },
          "execution_count": 94,
          "metadata": {},
          "output_type": "execute_result"
        }
      ],
      "source": [
        "model_comp2 = pd.DataFrame({'Model': ['K-Nearest Neighbour','Random Forest',\n",
        "'XGBoost'], 'Accuracy': [accuracy_knn_smote_normal*100,\n",
        "accuracy_rf_smote_normal*100,accuracy_xgb_smote_normal*100]})\n",
        "\n",
        "model_comp2.head()"
      ]
    },
    {
      "cell_type": "code",
      "execution_count": 95,
      "metadata": {
        "colab": {
          "base_uri": "https://localhost:8080/",
          "height": 569
        },
        "id": "EhfGLjPMpxlG",
        "outputId": "e90780b0-6091-4ddd-c4b2-59f1b4a45774"
      },
      "outputs": [
        {
          "data": {
            "image/png": "[encoded data removed]",
            "text/plain": [
              "<Figure size 640x480 with 1 Axes>"
            ]
          },
          "metadata": {},
          "output_type": "display_data"
        }
      ],
      "source": [
        "# Membuat bar plot dengan keterangan jumlah\n",
        "fig, ax = plt.subplots()\n",
        "bars = plt.bar(model_comp2['Model'], model_comp2['Accuracy'], color=['red', 'green', 'blue'])\n",
        "plt.xlabel('Model')\n",
        "plt.ylabel('Accuracy (%)')\n",
        "plt.title('Normalization + Oversampling')\n",
        "plt.xticks(rotation=45, ha='right')\n",
        "\n",
        "# Untuk memutar label sumbu x agar lebih mudah dibaca\n",
        "# Menambahkan keterangan jumlah di atas setiap bar\n",
        "for bar in bars:\n",
        "  yval = bar.get_height()\n",
        "  plt.text(bar.get_x() + bar.get_width()/2, yval, round(yval, 2), ha='center', va='bottom')\n",
        "\n",
        "plt.show()"
      ]
    },
    {
      "cell_type": "code",
      "execution_count": 96,
      "metadata": {
        "colab": {
          "base_uri": "https://localhost:8080/",
          "height": 143
        },
        "id": "LfBEhMMwpye4",
        "outputId": "d4540371-4d49-4a03-ae07-c201e7ec2f0a"
      },
      "outputs": [
        {
          "data": {
            "text/html": [
              "<div>\n",
              "<style scoped>\n",
              "    .dataframe tbody tr th:only-of-type {\n",
              "        vertical-align: middle;\n",
              "    }\n",
              "\n",
              "    .dataframe tbody tr th {\n",
              "        vertical-align: top;\n",
              "    }\n",
              "\n",
              "    .dataframe thead th {\n",
              "        text-align: right;\n",
              "    }\n",
              "</style>\n",
              "<table border=\"1\" class=\"dataframe\">\n",
              "  <thead>\n",
              "    <tr style=\"text-align: right;\">\n",
              "      <th></th>\n",
              "      <th>Model</th>\n",
              "      <th>Accuracy</th>\n",
              "    </tr>\n",
              "  </thead>\n",
              "  <tbody>\n",
              "    <tr>\n",
              "      <th>0</th>\n",
              "      <td>K-Nearest Neighbour</td>\n",
              "      <td>92.0</td>\n",
              "    </tr>\n",
              "    <tr>\n",
              "      <th>1</th>\n",
              "      <td>Random Forest</td>\n",
              "      <td>90.4</td>\n",
              "    </tr>\n",
              "    <tr>\n",
              "      <th>2</th>\n",
              "      <td>XGBoost</td>\n",
              "      <td>92.0</td>\n",
              "    </tr>\n",
              "  </tbody>\n",
              "</table>\n",
              "</div>"
            ],
            "text/plain": [
              "                 Model  Accuracy\n",
              "0  K-Nearest Neighbour      92.0\n",
              "1        Random Forest      90.4\n",
              "2              XGBoost      92.0"
            ]
          },
          "execution_count": 96,
          "metadata": {},
          "output_type": "execute_result"
        }
      ],
      "source": [
        "model_comp3 = pd.DataFrame({'Model': ['K-Nearest Neighbour','Random Forest',\n",
        "'XGBoost'], 'Accuracy': [accuracy_knn_smote_normal_Tun*100,\n",
        "accuracy_rf_smote_normal_Tun*100,accuracy_xgb_smote_normal_Tun*100]})\n",
        "\n",
        "model_comp3.head()"
      ]
    },
    {
      "cell_type": "code",
      "execution_count": 97,
      "metadata": {
        "colab": {
          "base_uri": "https://localhost:8080/",
          "height": 569
        },
        "id": "S4sMHODpp1h5",
        "outputId": "b2e299df-8958-4ecf-d684-1bb46ca1f73c"
      },
      "outputs": [
        {
          "data": {
            "image/png": "[encoded data removed]",
            "text/plain": [
              "<Figure size 640x480 with 1 Axes>"
            ]
          },
          "metadata": {},
          "output_type": "display_data"
        }
      ],
      "source": [
        "# Membuat bar plot dengan keterangan jumlah\n",
        "fig, ax = plt.subplots()\n",
        "bars = plt.bar(model_comp3['Model'], model_comp3['Accuracy'], color=['red', 'green', 'blue'])\n",
        "plt.xlabel('Model')\n",
        "plt.ylabel('Accuracy (%)')\n",
        "plt.title('Normalization + Oversampling + Tunning')\n",
        "plt.xticks(rotation=45, ha='right')\n",
        "\n",
        "# Untuk memutar label sumbu x agar lebih mudah dibaca\n",
        "# Menambahkan keterangan jumlah di atas setiap bar\n",
        "for bar in bars:\n",
        "  yval = bar.get_height()\n",
        "  plt.text(bar.get_x() + bar.get_width()/2, yval, round(yval, 2), ha='center', va='bottom')\n",
        "\n",
        "plt.show()"
      ]
    },
    {
      "cell_type": "code",
      "execution_count": 98,
      "metadata": {
        "colab": {
          "base_uri": "https://localhost:8080/",
          "height": 674
        },
        "id": "H42vqQF4p2fi",
        "outputId": "881a1ed8-a2c4-4489-a55f-ee854f10b624"
      },
      "outputs": [
        {
          "data": {
            "image/png": "[encoded data removed]",
            "text/plain": [
              "<Figure size 640x480 with 1 Axes>"
            ]
          },
          "metadata": {},
          "output_type": "display_data"
        }
      ],
      "source": [
        "# Data frame\n",
        "model_compBest = pd.DataFrame({\n",
        "  'Model': ['K-Nearest Neighbour OverSample Tunning', 'Random Forest OverSample',\n",
        "  'XGB OverSample Standarization Tunning'],\n",
        "  'Accuracy': [accuracy_knn_smote_normal_Tun*100, accuracy_rf_smote_normal*100, accuracy_xgb_smote_normal_Tun*100]\n",
        "})\n",
        "# Membuat bar plot dengan keterangan jumlah\n",
        "fig, ax = plt.subplots()\n",
        "bars = plt.bar(model_compBest['Model'], model_compBest['Accuracy'], color=['red', 'green', 'blue'])\n",
        "plt.xlabel('Model')\n",
        "plt.ylabel('Accuracy (%)')\n",
        "plt.title('Best Model Comparison')\n",
        "plt.xticks(rotation=45, ha='right')\n",
        "\n",
        "# Untuk memutar label sumbu x agar lebih mudah dibaca\n",
        "# Menambahkan keterangan jumlah di atas setiap bar\n",
        "for bar in bars:\n",
        "  yval = bar.get_height()\n",
        "  plt.text(bar.get_x() + bar.get_width()/2, yval, round(yval, 2), ha='center', va='bottom')\n",
        "\n",
        "plt.show()"
      ]
    },
    {
      "cell_type": "markdown",
      "metadata": {
        "id": "optY37npqE-C"
      },
      "source": [
        "## **Streamlit**"
      ]
    },
    {
      "cell_type": "markdown",
      "metadata": {
        "id": "ddSPPQH0p7tp"
      },
      "source": [
        "# **Kesimpulan**"
      ]
    },
    {
      "cell_type": "markdown",
      "metadata": {
        "id": "UdsuYoQyp-Nx"
      },
      "source": [
        "Dari penelitian diatas setelah melakukan pemodelan dengan algoritma KNN, Random Forest, dan XGBoost dengan berbagai penanganan data antara lain menggunakan random over sampling SMOTE untuk penanganan imbalance data, RandomSearchCV untuk tunning, dan Normalisasi data. Dapat disimpulkan bahwa klasifikasi menggunakan Random Over Sampling SMOTE pada model KNN menghasilkan akurasi 75.4 %, model Random Forest dengan akurasi yang dihasilkan yaitu 92%, dan model XGBoots menghasilkan akurasi 90.4%. Disamping itu bila klasifikasi menggunakan data yang sudah dilakukan normalisasi dan Random Over Sampling SMOTE pada model KNN menghasilkan akurasi 86.1%, model Random Forest menghasilkan akurasi 92%, dan model XGBoots menghasilkan akurasi 90.4%. Dan pada klasifikasi menggunakan data yang telah dilakukan tunning RandomSearchCV, normalisasi, dan Random Over Sampling SMOTE dalam model KNN menghasilkan akurasi 93%, pada model Random Forest menghasilkan akurasi 87.7%. dan model XGBoots menghasilkan akurasi 92%. Oleh karena itu, dalam penanganan data yang optimal untuk mengatasi ketidakseimbangan data adalah dengan menggunakan metode random Oversampling SMOTE sekaligus yang dilengkapi dengan tuning menggunakan RandomSearchCV dan normalisasi data, memberikan hasil yang signifikan dalam meningkatkan akurasi model klasifikasi khususnya pada model KNN dan XGBoots, namun hal itu tidak terjadi pada model Random Forest yang\n",
        "\n",
        "mengalami penurunan akurasi yang signifikan. Secara keseluruhan, penanganan dalam ketidakseimbangan data dengan menggunakan tunning parameter, normalisasi, dan oversampling dapat memberikan dampak signifikan terhadap performa model klasifikasi. Pemilihan model terbaik dan parameter optimal dapat meningkatkan akurasi dan kinerja model secara keseluruhan. Unsupported Cell Type. Double-Click to inspect/edit the content."
      ]
    },
    {
      "cell_type": "code",
      "execution_count": null,
      "metadata": {
        "id": "cQ8gOvQcp7Kd"
      },
      "outputs": [],
      "source": []
    }
  ],
  "metadata": {
    "colab": {
      "provenance": []
    },
    "kernelspec": {
      "display_name": "Python 3",
      "name": "python3"
    },
    "language_info": {
      "codemirror_mode": {
        "name": "ipython",
        "version": 3
      },
      "file_extension": ".py",
      "mimetype": "text/x-python",
      "name": "python",
      "nbconvert_exporter": "python",
      "pygments_lexer": "ipython3",
      "version": "3.9.15"
    }
  },
  "nbformat": 4,
  "nbformat_minor": 0
}
